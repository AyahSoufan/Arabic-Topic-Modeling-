{
 "cells": [
  {
   "cell_type": "code",
   "execution_count": 1,
   "metadata": {
    "_cell_guid": "5a7c334d-3afa-4508-874f-3366da0a9c2c",
    "_uuid": "1139f2793448fc6a647e9a0c8e8679963d9f206d"
   },
   "outputs": [
    {
     "name": "stderr",
     "output_type": "stream",
     "text": [
      "C:\\Users\\Ayah\\Anaconda3\\lib\\site-packages\\gensim\\utils.py:1212: UserWarning:\n",
      "\n",
      "detected Windows; aliasing chunkize to chunkize_serial\n",
      "\n"
     ]
    }
   ],
   "source": [
    "#https://www.kaggle.com/errearanhas/topic-modelling-lda-on-elon-tweets/notebook\n",
    "import os\n",
    "import numpy as np \n",
    "#from plotly.offline import download_plotlyjs, init_notebook_mode, plot, iplot\n",
    "import plotly as py\n",
    "import plotly.graph_objs as go\n",
    "\n",
    "#init_notebook_mode(connected=True) #do not miss this line\n",
    "\n",
    "from gensim import corpora, models, similarities\n",
    "\n",
    "import warnings\n",
    "warnings.filterwarnings(\"ignore\")"
   ]
  },
  {
   "cell_type": "code",
   "execution_count": 6,
   "metadata": {
    "_cell_guid": "7cdec987-42d7-495d-8aed-d904f430707a",
    "_uuid": "2ab794b9bdd2400c1eb349493361f325fef51eee",
    "collapsed": true
   },
   "outputs": [],
   "source": [
    "datafile = 'English_clean_tweet.csv'"
   ]
  },
  {
   "cell_type": "code",
   "execution_count": 7,
   "metadata": {
    "_cell_guid": "52abb44e-881a-4fa5-aaad-cca178c148b4",
    "_uuid": "3247c5f08df034b7afe4be36e52a99baa625a5ba"
   },
   "outputs": [],
   "source": [
    "import pandas as pd\n",
    "tweets = pd.read_csv(datafile)"
   ]
  },
  {
   "cell_type": "code",
   "execution_count": 8,
   "metadata": {},
   "outputs": [
    {
     "data": {
      "text/plain": [
       "2425"
      ]
     },
     "execution_count": 8,
     "metadata": {},
     "output_type": "execute_result"
    }
   ],
   "source": [
    "len(tweets)"
   ]
  },
  {
   "cell_type": "code",
   "execution_count": 9,
   "metadata": {},
   "outputs": [
    {
     "data": {
      "text/html": [
       "<div>\n",
       "<style scoped>\n",
       "    .dataframe tbody tr th:only-of-type {\n",
       "        vertical-align: middle;\n",
       "    }\n",
       "\n",
       "    .dataframe tbody tr th {\n",
       "        vertical-align: top;\n",
       "    }\n",
       "\n",
       "    .dataframe thead th {\n",
       "        text-align: right;\n",
       "    }\n",
       "</style>\n",
       "<table border=\"1\" class=\"dataframe\">\n",
       "  <thead>\n",
       "    <tr style=\"text-align: right;\">\n",
       "      <th></th>\n",
       "      <th>Unnamed: 0</th>\n",
       "      <th>text</th>\n",
       "    </tr>\n",
       "  </thead>\n",
       "  <tbody>\n",
       "    <tr>\n",
       "      <th>0</th>\n",
       "      <td>0</td>\n",
       "      <td>please use the full address in the browser</td>\n",
       "    </tr>\n",
       "    <tr>\n",
       "      <th>1</th>\n",
       "      <td>1</td>\n",
       "      <td>please use the full address in the browser</td>\n",
       "    </tr>\n",
       "    <tr>\n",
       "      <th>2</th>\n",
       "      <td>2</td>\n",
       "      <td>please try using the full address</td>\n",
       "    </tr>\n",
       "    <tr>\n",
       "      <th>3</th>\n",
       "      <td>3</td>\n",
       "      <td>vote casting for the second round of the parli...</td>\n",
       "    </tr>\n",
       "    <tr>\n",
       "      <th>4</th>\n",
       "      <td>4</td>\n",
       "      <td>bahraini citizen proudly casting her vote in m...</td>\n",
       "    </tr>\n",
       "  </tbody>\n",
       "</table>\n",
       "</div>"
      ],
      "text/plain": [
       "   Unnamed: 0                                               text\n",
       "0           0         please use the full address in the browser\n",
       "1           1         please use the full address in the browser\n",
       "2           2                  please try using the full address\n",
       "3           3  vote casting for the second round of the parli...\n",
       "4           4  bahraini citizen proudly casting her vote in m..."
      ]
     },
     "execution_count": 9,
     "metadata": {},
     "output_type": "execute_result"
    }
   ],
   "source": [
    "tweets.head()"
   ]
  },
  {
   "cell_type": "code",
   "execution_count": 10,
   "metadata": {
    "_cell_guid": "fdadead9-8dea-4c34-8bf2-1c4652418f36",
    "_uuid": "a9bbf206e9d8b2b17c15da0df8c67f1365f03dab",
    "scrolled": true
   },
   "outputs": [
    {
     "data": {
      "text/plain": [
       "range(0, 2425)"
      ]
     },
     "execution_count": 10,
     "metadata": {},
     "output_type": "execute_result"
    }
   ],
   "source": [
    "range(len(tweets['text']))"
   ]
  },
  {
   "cell_type": "markdown",
   "metadata": {
    "_cell_guid": "556c0eec-994f-4f72-82af-9da59e590a1b",
    "_uuid": "940eb7b9c8715792165ad73a40400e8c06c7b775"
   },
   "source": [
    "***Tweet Activity Over Years***"
   ]
  },
  {
   "cell_type": "code",
   "execution_count": 11,
   "metadata": {
    "_cell_guid": "b06b4ca0-f1ab-45a1-9550-1492a30c3c74",
    "_uuid": "ffb58f64bee55b852c07d0bc87be430d1258d976",
    "collapsed": true
   },
   "outputs": [],
   "source": [
    "corpus=[]\n",
    "a=[]\n",
    "for i in range(len(tweets['text'])):\n",
    "        a=tweets['text'][i]\n",
    "        corpus.append(a)"
   ]
  },
  {
   "cell_type": "code",
   "execution_count": 12,
   "metadata": {
    "_cell_guid": "e943c950-1007-46ff-a868-412100b6830f",
    "_uuid": "eeb90a8ffa5442ee9e32a456b227df1f61be706f"
   },
   "outputs": [
    {
     "data": {
      "text/plain": [
       "['please use the full address in the browser',\n",
       " 'please use the full address in the browser',\n",
       " 'please try using the full address',\n",
       " 'vote casting for the second round of the parliamentary elections started at the embassy today',\n",
       " 'bahraini citizen proudly casting her vote in moscow']"
      ]
     },
     "execution_count": 12,
     "metadata": {},
     "output_type": "execute_result"
    }
   ],
   "source": [
    "corpus[0:5]"
   ]
  },
  {
   "cell_type": "code",
   "execution_count": 13,
   "metadata": {
    "_cell_guid": "d117ab5e-3395-4430-8dad-0750a520c313",
    "_uuid": "e6f1dd9faefafd8045c94fc71a033c201c5443ff"
   },
   "outputs": [
    {
     "name": "stdout",
     "output_type": "stream",
     "text": [
      "Folder \"C:\\Users\\Ayah\\AppData\\Local\\Temp\" will be used to save temporary dictionary and corpus.\n"
     ]
    }
   ],
   "source": [
    "import gensim\n",
    "import logging\n",
    "import tempfile\n",
    "\n",
    "TEMP_FOLDER = tempfile.gettempdir()\n",
    "print('Folder \"{}\" will be used to save temporary dictionary and corpus.'.format(TEMP_FOLDER))\n",
    "\n",
    "from gensim import corpora\n",
    "logging.basicConfig(format='%(asctime)s : %(levelname)s : %(message)s', level=logging.INFO)"
   ]
  },
  {
   "cell_type": "code",
   "execution_count": 15,
   "metadata": {
    "_cell_guid": "068cfe59-dbc2-4481-a20f-6cd321cbc4bb",
    "_uuid": "df0a72a7a17efcf0da96a51753855ec2039cffb8",
    "collapsed": true
   },
   "outputs": [],
   "source": [
    "from nltk.corpus import stopwords\n",
    "from string import punctuation\n",
    "\n",
    "# remove common words and tokenize\n",
    "list1 = ['RT','rt']\n",
    "stoplist = stopwords.words('english') + list(punctuation) + list1\n",
    "\n",
    "texts = [[word for word in str(document).lower().split() if word not in stoplist] for document in corpus]"
   ]
  },
  {
   "cell_type": "code",
   "execution_count": 16,
   "metadata": {
    "_cell_guid": "41eea25d-97f6-478c-97bb-8073cecb3101",
    "_uuid": "c9824ceb1efd0895923b23ff8d058a86a43b9c54"
   },
   "outputs": [
    {
     "name": "stderr",
     "output_type": "stream",
     "text": [
      "2018-11-03 16:19:57,271 : INFO : adding document #0 to Dictionary(0 unique tokens: [])\n",
      "2018-11-03 16:19:57,338 : INFO : built Dictionary(4127 unique tokens: ['address', 'browser', 'full', 'please', 'use']...) from 2425 documents (total 25641 corpus positions)\n",
      "2018-11-03 16:19:57,339 : INFO : saving Dictionary object under C:\\Users\\Ayah\\AppData\\Local\\Temp\\bahrain.dict, separately None\n",
      "2018-11-03 16:19:57,351 : INFO : saved C:\\Users\\Ayah\\AppData\\Local\\Temp\\bahrain.dict\n"
     ]
    }
   ],
   "source": [
    "dictionary = corpora.Dictionary(texts)\n",
    "dictionary.save(os.path.join(TEMP_FOLDER, 'bahrain.dict'))  # store the dictionary, for future reference\n",
    "#print(dictionary)"
   ]
  },
  {
   "cell_type": "code",
   "execution_count": 17,
   "metadata": {
    "_cell_guid": "38f1a502-a6fe-4c3d-b8bf-27c9272c3753",
    "_uuid": "3944206c06ca0af2822f81c3ef0dadf994f5e023",
    "collapsed": true
   },
   "outputs": [],
   "source": [
    "#print(dictionary.token2id)"
   ]
  },
  {
   "cell_type": "code",
   "execution_count": 18,
   "metadata": {
    "_cell_guid": "b80d4a62-6126-48e5-aba8-8de557c5d00d",
    "_uuid": "040914ec58061f9f66a39df81c8c1ae4cb9dbeb5"
   },
   "outputs": [
    {
     "name": "stderr",
     "output_type": "stream",
     "text": [
      "2018-11-03 16:20:00,739 : INFO : storing corpus in Matrix Market format to C:\\Users\\Ayah\\AppData\\Local\\Temp\\elon.mm\n",
      "2018-11-03 16:20:00,742 : INFO : saving sparse matrix to C:\\Users\\Ayah\\AppData\\Local\\Temp\\elon.mm\n",
      "2018-11-03 16:20:00,743 : INFO : PROGRESS: saving document #0\n",
      "2018-11-03 16:20:00,777 : INFO : PROGRESS: saving document #1000\n",
      "2018-11-03 16:20:00,809 : INFO : PROGRESS: saving document #2000\n",
      "2018-11-03 16:20:00,820 : INFO : saved 2425x4127 matrix, density=0.250% (24978/10007975)\n",
      "2018-11-03 16:20:00,873 : INFO : saving MmCorpus index to C:\\Users\\Ayah\\AppData\\Local\\Temp\\elon.mm.index\n"
     ]
    }
   ],
   "source": [
    "corpus = [dictionary.doc2bow(text) for text in texts]\n",
    "corpora.MmCorpus.serialize(os.path.join(TEMP_FOLDER, 'elon.mm'), corpus)  # store to disk, for later use"
   ]
  },
  {
   "cell_type": "markdown",
   "metadata": {
    "_cell_guid": "30731758-2dd0-482c-8ad8-995ebf37b686",
    "_uuid": "547b528b1af3eac74eed647c6013c67304a44f42"
   },
   "source": [
    "In the previous cells, we created a corpus of documents represented as a stream of vectors. To continue, let’s fire up gensim and use that corpus:"
   ]
  },
  {
   "cell_type": "code",
   "execution_count": 19,
   "metadata": {
    "_cell_guid": "c654c601-bf99-4ca3-8fcd-c035dbe8af8f",
    "_uuid": "b446ef66b9fb10675b0b8c0216527a35cddb5fa4",
    "collapsed": true
   },
   "outputs": [],
   "source": [
    "from gensim import corpora, models, similarities"
   ]
  },
  {
   "cell_type": "markdown",
   "metadata": {
    "_cell_guid": "8c2fae3e-3c57-4a1b-b302-7f9bfe2fb5a0",
    "_uuid": "516974a573c993c655cec2ea8ccda4a3e4e3d899"
   },
   "source": [
    "### Creating a transformation"
   ]
  },
  {
   "cell_type": "markdown",
   "metadata": {
    "_cell_guid": "c8cc6eba-dfde-4078-93aa-49ec66b79483",
    "_uuid": "95d9a030b86689a097ff84cf988ce6bfee42b6d6"
   },
   "source": [
    "\n",
    "The transformations are standard Python objects, typically initialized by means of a training corpus:\n",
    "\n",
    "Different transformations may require different initialization parameters; in case of TfIdf, the “training” consists simply of\n",
    "going through the supplied corpus once and computing document frequencies of all its features.\n",
    "Training other models, such as Latent Semantic Analysis or Latent Dirichlet Allocation, is much more involved and,\n",
    "consequently, takes much more time."
   ]
  },
  {
   "cell_type": "code",
   "execution_count": 20,
   "metadata": {
    "_cell_guid": "a7966606-dc6a-44a8-8fe5-d1a79929e203",
    "_uuid": "91cd194bf43c84b564c693c6e0ea109d28724abc"
   },
   "outputs": [
    {
     "name": "stderr",
     "output_type": "stream",
     "text": [
      "2018-11-03 16:20:05,124 : INFO : collecting document frequencies\n",
      "2018-11-03 16:20:05,127 : INFO : PROGRESS: processing document #0\n",
      "2018-11-03 16:20:05,138 : INFO : calculating IDF weights for 2425 documents and 4126 features (24978 matrix non-zeros)\n"
     ]
    }
   ],
   "source": [
    "tfidf = models.TfidfModel(corpus) # step 1 -- initialize a model"
   ]
  },
  {
   "cell_type": "markdown",
   "metadata": {
    "_cell_guid": "47a7ad12-9917-4a74-b190-b6f039e87baf",
    "_uuid": "902cd861d68967c9d6d78f7d074fe6e4d31e4547"
   },
   "source": [
    "### Note\n",
    "Transformations always convert between two specific vector spaces. The same vector space (= the same set of feature ids) must be used for training as well as for subsequent vector transformations. Failure to use the same input feature space, such as applying a different string preprocessing, using different feature ids, or using bag-of-words input vectors where TfIdf vectors are expected, will result in feature mismatch during transformation calls and consequently in either garbage output and/or runtime exceptions."
   ]
  },
  {
   "cell_type": "markdown",
   "metadata": {
    "_cell_guid": "31035482-743c-4143-a016-af6e7aafa8b2",
    "_uuid": "12084cb081ffae38fd076b271f748faa6e3ff5af"
   },
   "source": [
    "From now on, tfidf is treated as a read-only object that can be used to apply a transformation to a whole corpus:"
   ]
  },
  {
   "cell_type": "code",
   "execution_count": 21,
   "metadata": {
    "_cell_guid": "8d3211bd-a12d-4518-b822-eb92df9a564d",
    "_uuid": "6ccc9986f35d02916c62139410d0cbc6455e3149",
    "collapsed": true
   },
   "outputs": [],
   "source": [
    "corpus_tfidf = tfidf[corpus]  # step 2 -- use the model to transform vectors"
   ]
  },
  {
   "cell_type": "markdown",
   "metadata": {
    "_cell_guid": "6096b0ef-bb2b-40d1-aac4-f538dae0f1e3",
    "_uuid": "39f769bd5e8fea11c952a7c33bf32b329618f837"
   },
   "source": [
    "### LDA:\n",
    "https://en.wikipedia.org/wiki/Latent_Dirichlet_allocation"
   ]
  },
  {
   "cell_type": "markdown",
   "metadata": {
    "_cell_guid": "7c793905-48bb-4526-9e78-1d5d1a9ed70b",
    "_uuid": "8aca0810b66308f947046dd9689409fc56067b1a"
   },
   "source": [
    "Latent Dirichlet Allocation, LDA is yet another transformation from bag-of-words counts into a topic space of lower dimensionality. LDA is a probabilistic extension of LSA (also called multinomial PCA), so LDA’s topics can be interpreted as probability distributions over words. These distributions are, just like with LSA, inferred automatically from a training corpus. Documents are in turn interpreted as a (soft) mixture of these topics (again, just like with LSA)."
   ]
  },
  {
   "cell_type": "code",
   "execution_count": 22,
   "metadata": {
    "_cell_guid": "cc49ccb3-bd68-4359-8fec-7f6cbff2a182",
    "_uuid": "5771a4cc1b5f20878d52409e11f3fecaa59a9ac6",
    "collapsed": true
   },
   "outputs": [],
   "source": [
    "total_topics = 5"
   ]
  },
  {
   "cell_type": "code",
   "execution_count": 23,
   "metadata": {
    "_cell_guid": "8fb9df90-fdc2-491b-a2aa-02c0eca4c29a",
    "_uuid": "db447043098a7546237bbaf4c7d1145103209160"
   },
   "outputs": [
    {
     "name": "stderr",
     "output_type": "stream",
     "text": [
      "2018-11-03 16:20:13,477 : INFO : using symmetric alpha at 0.2\n",
      "2018-11-03 16:20:13,481 : INFO : using symmetric eta at 0.2\n",
      "2018-11-03 16:20:13,484 : INFO : using serial LDA version on this node\n",
      "2018-11-03 16:20:13,491 : INFO : running online (single-pass) LDA training, 5 topics, 1 passes over the supplied corpus of 2425 documents, updating model once every 2000 documents, evaluating perplexity every 2425 documents, iterating 50x with a convergence threshold of 0.001000\n",
      "2018-11-03 16:20:13,492 : WARNING : too few updates, training might not converge; consider increasing the number of passes or iterations to improve accuracy\n",
      "2018-11-03 16:20:13,494 : INFO : PROGRESS: pass 0, at document #2000/2425\n",
      "2018-11-03 16:20:14,517 : INFO : merging changes from 2000 documents into a model of 2425 documents\n",
      "2018-11-03 16:20:14,517 : INFO : topic #0 (0.200): 0.032*\"bahrain\" + 0.024*\"fm\" + 0.024*\"kingdom\" + 0.015*\"foreign\" + 0.015*\"affairs\" + 0.015*\"republic\" + 0.015*\"receives\" + 0.011*\"ambassador\" + 0.009*\"ministry\" + 0.008*\"arab\"\n",
      "2018-11-03 16:20:14,526 : INFO : topic #1 (0.200): 0.014*\"traffic\" + 0.011*\"minister\" + 0.010*\"bin\" + 0.009*\"police\" + 0.009*\"shaikh\" + 0.008*\"khalifa\" + 0.008*\"receives\" + 0.008*\"salman\" + 0.008*\"bahrain\" + 0.007*\"al\"\n",
      "2018-11-03 16:20:14,527 : INFO : topic #2 (0.200): 0.010*\"fm\" + 0.010*\"bahrain\" + 0.010*\"kingdom\" + 0.009*\"al\" + 0.009*\"traffic\" + 0.008*\"security\" + 0.007*\"general\" + 0.006*\"civil\" + 0.006*\"travel\" + 0.006*\"fire\"\n",
      "2018-11-03 16:20:14,530 : INFO : topic #3 (0.200): 0.024*\"bahrain\" + 0.016*\"minister\" + 0.016*\"kingdom\" + 0.015*\"security\" + 0.014*\"fm\" + 0.013*\"foreign\" + 0.012*\"affairs\" + 0.012*\"interior\" + 0.011*\"ministry\" + 0.010*\"receives\"\n",
      "2018-11-03 16:20:14,532 : INFO : topic #4 (0.200): 0.030*\"bahrain\" + 0.016*\"fm\" + 0.016*\"affairs\" + 0.015*\"republic\" + 0.015*\"foreign\" + 0.014*\"minister\" + 0.014*\"kingdom\" + 0.010*\"receives\" + 0.008*\"general\" + 0.007*\"embassy\"\n",
      "2018-11-03 16:20:14,534 : INFO : topic diff=3.252937, rho=1.000000\n",
      "2018-11-03 16:20:14,702 : INFO : -8.508 per-word bound, 364.0 perplexity estimate based on a held-out corpus of 425 documents with 4158 words\n",
      "2018-11-03 16:20:14,702 : INFO : PROGRESS: pass 0, at document #2425/2425\n",
      "2018-11-03 16:20:14,855 : INFO : merging changes from 425 documents into a model of 2425 documents\n",
      "2018-11-03 16:20:14,855 : INFO : topic #0 (0.200): 0.021*\"bahrain\" + 0.014*\"relevant\" + 0.013*\"procedures\" + 0.013*\"taken\" + 0.011*\"kingdom\" + 0.011*\"fm\" + 0.010*\"receives\" + 0.010*\"fire\" + 0.009*\"defence\" + 0.008*\"civil\"\n",
      "2018-11-03 16:20:14,855 : INFO : topic #1 (0.200): 0.030*\"traffic\" + 0.023*\"police\" + 0.016*\"salman\" + 0.013*\"towards\" + 0.013*\"bin\" + 0.013*\"shaikh\" + 0.013*\"guard\" + 0.012*\"highway\" + 0.012*\"roads\" + 0.012*\"alternative\"\n",
      "2018-11-03 16:20:14,867 : INFO : topic #2 (0.200): 0.013*\"civil\" + 0.013*\"defence\" + 0.011*\"traffic\" + 0.011*\"security\" + 0.011*\"pt\" + 0.010*\"details\" + 0.010*\"held\" + 0.009*\"al\" + 0.008*\"fire\" + 0.007*\"amn\"\n",
      "2018-11-03 16:20:14,869 : INFO : topic #3 (0.200): 0.039*\"interior\" + 0.039*\"minister\" + 0.028*\"pt\" + 0.028*\"security\" + 0.022*\"receives\" + 0.016*\"bahrain\" + 0.015*\"public\" + 0.011*\"ambassador\" + 0.009*\"chief\" + 0.009*\"deputy\"\n",
      "2018-11-03 16:20:14,872 : INFO : topic #4 (0.200): 0.021*\"bahrain\" + 0.014*\"minister\" + 0.012*\"affairs\" + 0.010*\"king\" + 0.010*\"receives\" + 0.009*\"pt\" + 0.008*\"police\" + 0.008*\"traffic\" + 0.007*\"kingdom\" + 0.007*\"interior\"\n",
      "2018-11-03 16:20:14,874 : INFO : topic diff=0.949888, rho=0.707107\n"
     ]
    }
   ],
   "source": [
    "lda = models.LdaModel(corpus, id2word=dictionary, num_topics=total_topics)\n",
    "corpus_lda = lda[corpus_tfidf] # create a double wrapper over the original corpus: bow->tfidf->fold-in-lsi"
   ]
  },
  {
   "cell_type": "code",
   "execution_count": 24,
   "metadata": {
    "_cell_guid": "dfbb2723-ec7e-490e-8abd-fb646335bc55",
    "_uuid": "53e59fb13b5f55abb2e8158cdd0b244bcb055b3f"
   },
   "outputs": [
    {
     "data": {
      "text/plain": [
       "[(0,\n",
       "  '0.021*\"bahrain\" + 0.014*\"relevant\" + 0.013*\"procedures\" + 0.013*\"taken\" + 0.011*\"kingdom\" + 0.011*\"fm\"'),\n",
       " (1,\n",
       "  '0.030*\"traffic\" + 0.023*\"police\" + 0.016*\"salman\" + 0.013*\"towards\" + 0.013*\"bin\" + 0.013*\"shaikh\"'),\n",
       " (2,\n",
       "  '0.013*\"civil\" + 0.013*\"defence\" + 0.011*\"traffic\" + 0.011*\"security\" + 0.011*\"pt\" + 0.010*\"details\"'),\n",
       " (3,\n",
       "  '0.039*\"interior\" + 0.039*\"minister\" + 0.028*\"pt\" + 0.028*\"security\" + 0.022*\"receives\" + 0.016*\"bahrain\"'),\n",
       " (4,\n",
       "  '0.021*\"bahrain\" + 0.014*\"minister\" + 0.012*\"affairs\" + 0.010*\"king\" + 0.010*\"receives\" + 0.009*\"pt\"')]"
      ]
     },
     "execution_count": 24,
     "metadata": {},
     "output_type": "execute_result"
    }
   ],
   "source": [
    "#Show first n important word in the topics:\n",
    "lda.show_topics(total_topics,6)"
   ]
  },
  {
   "cell_type": "code",
   "execution_count": 25,
   "metadata": {
    "_cell_guid": "5e31a267-03c5-4a4e-8a73-c72f7abd4644",
    "_uuid": "25d66c5df87a0c365dcd0725e779dc8724ab63af",
    "collapsed": true,
    "scrolled": true
   },
   "outputs": [],
   "source": [
    "from collections import OrderedDict\n",
    "\n",
    "data_lda = {i: OrderedDict(lda.show_topic(i,25)) for i in range(total_topics)}\n",
    "#data_lda"
   ]
  },
  {
   "cell_type": "code",
   "execution_count": 26,
   "metadata": {
    "_cell_guid": "409fed91-48dd-4355-9587-a6299b63f181",
    "_uuid": "edeb3eedc9a10cc135c7bbef50fda042f330482d"
   },
   "outputs": [
    {
     "name": "stdout",
     "output_type": "stream",
     "text": [
      "(82, 5)\n",
      "(5, 82)\n"
     ]
    }
   ],
   "source": [
    "import pandas as pd\n",
    "\n",
    "df_lda = pd.DataFrame(data_lda)\n",
    "print(df_lda.shape)\n",
    "df_lda = df_lda.fillna(0).T\n",
    "print(df_lda.shape)"
   ]
  },
  {
   "cell_type": "code",
   "execution_count": 27,
   "metadata": {
    "_cell_guid": "6410b413-a0d4-49be-a2c4-6844cfc8cb0c",
    "_uuid": "f81dd0ed3ef908b520c2416cf626473a4dd8acd6"
   },
   "outputs": [
    {
     "data": {
      "text/html": [
       "<div>\n",
       "<style scoped>\n",
       "    .dataframe tbody tr th:only-of-type {\n",
       "        vertical-align: middle;\n",
       "    }\n",
       "\n",
       "    .dataframe tbody tr th {\n",
       "        vertical-align: top;\n",
       "    }\n",
       "\n",
       "    .dataframe thead th {\n",
       "        text-align: right;\n",
       "    }\n",
       "</style>\n",
       "<table border=\"1\" class=\"dataframe\">\n",
       "  <thead>\n",
       "    <tr style=\"text-align: right;\">\n",
       "      <th></th>\n",
       "      <th>accident</th>\n",
       "      <th>affairs</th>\n",
       "      <th>al</th>\n",
       "      <th>alternative</th>\n",
       "      <th>ambassador</th>\n",
       "      <th>amn</th>\n",
       "      <th>anti</th>\n",
       "      <th>arrested</th>\n",
       "      <th>bahrain</th>\n",
       "      <th>bahraini</th>\n",
       "      <th>...</th>\n",
       "      <th>summer</th>\n",
       "      <th>taken</th>\n",
       "      <th>terror</th>\n",
       "      <th>terrorist</th>\n",
       "      <th>towards</th>\n",
       "      <th>traffic</th>\n",
       "      <th>training</th>\n",
       "      <th>us</th>\n",
       "      <th>visits</th>\n",
       "      <th>website</th>\n",
       "    </tr>\n",
       "  </thead>\n",
       "  <tbody>\n",
       "    <tr>\n",
       "      <th>0</th>\n",
       "      <td>0.000000</td>\n",
       "      <td>0.007615</td>\n",
       "      <td>0.000000</td>\n",
       "      <td>0.000000</td>\n",
       "      <td>0.006502</td>\n",
       "      <td>0.0000</td>\n",
       "      <td>0.000000</td>\n",
       "      <td>0.000000</td>\n",
       "      <td>0.020993</td>\n",
       "      <td>0.00000</td>\n",
       "      <td>...</td>\n",
       "      <td>0.000000</td>\n",
       "      <td>0.013009</td>\n",
       "      <td>0.000000</td>\n",
       "      <td>0.005710</td>\n",
       "      <td>0.000000</td>\n",
       "      <td>0.000000</td>\n",
       "      <td>0.000000</td>\n",
       "      <td>0.000000</td>\n",
       "      <td>0.000000</td>\n",
       "      <td>0.000000</td>\n",
       "    </tr>\n",
       "    <tr>\n",
       "      <th>1</th>\n",
       "      <td>0.009858</td>\n",
       "      <td>0.000000</td>\n",
       "      <td>0.000000</td>\n",
       "      <td>0.011725</td>\n",
       "      <td>0.000000</td>\n",
       "      <td>0.0000</td>\n",
       "      <td>0.000000</td>\n",
       "      <td>0.007459</td>\n",
       "      <td>0.000000</td>\n",
       "      <td>0.00000</td>\n",
       "      <td>...</td>\n",
       "      <td>0.006952</td>\n",
       "      <td>0.000000</td>\n",
       "      <td>0.000000</td>\n",
       "      <td>0.000000</td>\n",
       "      <td>0.013298</td>\n",
       "      <td>0.030451</td>\n",
       "      <td>0.000000</td>\n",
       "      <td>0.000000</td>\n",
       "      <td>0.000000</td>\n",
       "      <td>0.000000</td>\n",
       "    </tr>\n",
       "    <tr>\n",
       "      <th>2</th>\n",
       "      <td>0.000000</td>\n",
       "      <td>0.000000</td>\n",
       "      <td>0.009475</td>\n",
       "      <td>0.000000</td>\n",
       "      <td>0.000000</td>\n",
       "      <td>0.0072</td>\n",
       "      <td>0.000000</td>\n",
       "      <td>0.000000</td>\n",
       "      <td>0.004815</td>\n",
       "      <td>0.00000</td>\n",
       "      <td>...</td>\n",
       "      <td>0.000000</td>\n",
       "      <td>0.000000</td>\n",
       "      <td>0.000000</td>\n",
       "      <td>0.000000</td>\n",
       "      <td>0.000000</td>\n",
       "      <td>0.011263</td>\n",
       "      <td>0.004977</td>\n",
       "      <td>0.000000</td>\n",
       "      <td>0.006852</td>\n",
       "      <td>0.005867</td>\n",
       "    </tr>\n",
       "    <tr>\n",
       "      <th>3</th>\n",
       "      <td>0.000000</td>\n",
       "      <td>0.005491</td>\n",
       "      <td>0.000000</td>\n",
       "      <td>0.000000</td>\n",
       "      <td>0.011294</td>\n",
       "      <td>0.0000</td>\n",
       "      <td>0.000000</td>\n",
       "      <td>0.000000</td>\n",
       "      <td>0.016139</td>\n",
       "      <td>0.00000</td>\n",
       "      <td>...</td>\n",
       "      <td>0.000000</td>\n",
       "      <td>0.000000</td>\n",
       "      <td>0.004622</td>\n",
       "      <td>0.004022</td>\n",
       "      <td>0.000000</td>\n",
       "      <td>0.000000</td>\n",
       "      <td>0.000000</td>\n",
       "      <td>0.008617</td>\n",
       "      <td>0.000000</td>\n",
       "      <td>0.000000</td>\n",
       "    </tr>\n",
       "    <tr>\n",
       "      <th>4</th>\n",
       "      <td>0.000000</td>\n",
       "      <td>0.012060</td>\n",
       "      <td>0.000000</td>\n",
       "      <td>0.000000</td>\n",
       "      <td>0.000000</td>\n",
       "      <td>0.0000</td>\n",
       "      <td>0.005079</td>\n",
       "      <td>0.000000</td>\n",
       "      <td>0.020755</td>\n",
       "      <td>0.00484</td>\n",
       "      <td>...</td>\n",
       "      <td>0.000000</td>\n",
       "      <td>0.000000</td>\n",
       "      <td>0.000000</td>\n",
       "      <td>0.000000</td>\n",
       "      <td>0.000000</td>\n",
       "      <td>0.007822</td>\n",
       "      <td>0.000000</td>\n",
       "      <td>0.000000</td>\n",
       "      <td>0.000000</td>\n",
       "      <td>0.000000</td>\n",
       "    </tr>\n",
       "  </tbody>\n",
       "</table>\n",
       "<p>5 rows × 82 columns</p>\n",
       "</div>"
      ],
      "text/plain": [
       "   accident   affairs        al  alternative  ambassador     amn      anti  \\\n",
       "0  0.000000  0.007615  0.000000     0.000000    0.006502  0.0000  0.000000   \n",
       "1  0.009858  0.000000  0.000000     0.011725    0.000000  0.0000  0.000000   \n",
       "2  0.000000  0.000000  0.009475     0.000000    0.000000  0.0072  0.000000   \n",
       "3  0.000000  0.005491  0.000000     0.000000    0.011294  0.0000  0.000000   \n",
       "4  0.000000  0.012060  0.000000     0.000000    0.000000  0.0000  0.005079   \n",
       "\n",
       "   arrested   bahrain  bahraini    ...       summer     taken    terror  \\\n",
       "0  0.000000  0.020993   0.00000    ...     0.000000  0.013009  0.000000   \n",
       "1  0.007459  0.000000   0.00000    ...     0.006952  0.000000  0.000000   \n",
       "2  0.000000  0.004815   0.00000    ...     0.000000  0.000000  0.000000   \n",
       "3  0.000000  0.016139   0.00000    ...     0.000000  0.000000  0.004622   \n",
       "4  0.000000  0.020755   0.00484    ...     0.000000  0.000000  0.000000   \n",
       "\n",
       "   terrorist   towards   traffic  training        us    visits   website  \n",
       "0   0.005710  0.000000  0.000000  0.000000  0.000000  0.000000  0.000000  \n",
       "1   0.000000  0.013298  0.030451  0.000000  0.000000  0.000000  0.000000  \n",
       "2   0.000000  0.000000  0.011263  0.004977  0.000000  0.006852  0.005867  \n",
       "3   0.004022  0.000000  0.000000  0.000000  0.008617  0.000000  0.000000  \n",
       "4   0.000000  0.000000  0.007822  0.000000  0.000000  0.000000  0.000000  \n",
       "\n",
       "[5 rows x 82 columns]"
      ]
     },
     "execution_count": 27,
     "metadata": {},
     "output_type": "execute_result"
    }
   ],
   "source": [
    "df_lda"
   ]
  },
  {
   "cell_type": "code",
   "execution_count": 29,
   "metadata": {
    "_cell_guid": "bc653426-6a63-4b41-887d-92d270dc1168",
    "_uuid": "415d0d14427e94f9900776f3126d5bf8c2391beb"
   },
   "outputs": [
    {
     "data": {
      "text/html": [
       "\n",
       "<link rel=\"stylesheet\" type=\"text/css\" href=\"https://cdn.rawgit.com/bmabey/pyLDAvis/files/ldavis.v1.0.0.css\">\n",
       "\n",
       "\n",
       "<div id=\"ldavis_el776417450934177446069885637\"></div>\n",
       "<script type=\"text/javascript\">\n",
       "\n",
       "var ldavis_el776417450934177446069885637_data = {\"mdsDat\": {\"Freq\": [43.88226318359375, 25.873807907104492, 10.196352005004883, 10.02743148803711, 10.0201416015625], \"cluster\": [1, 1, 1, 1, 1], \"topics\": [1, 2, 3, 4, 5], \"x\": [60.06827926635742, 12.946765899658203, 1.5530389547348022, 81.72318267822266, 92.79838562011719], \"y\": [43.14974594116211, -66.21654510498047, 1.861586332321167, -86.18269348144531, -17.849485397338867]}, \"tinfo\": {\"Category\": [\"Default\", \"Default\", \"Default\", \"Default\", \"Default\", \"Default\", \"Default\", \"Default\", \"Default\", \"Default\", \"Default\", \"Default\", \"Default\", \"Default\", \"Default\", \"Default\", \"Default\", \"Default\", \"Default\", \"Default\", \"Default\", \"Default\", \"Default\", \"Default\", \"Default\", \"Default\", \"Default\", \"Default\", \"Default\", \"Default\", \"Topic1\", \"Topic1\", \"Topic1\", \"Topic1\", \"Topic1\", \"Topic1\", \"Topic1\", \"Topic1\", \"Topic1\", \"Topic1\", \"Topic1\", \"Topic1\", \"Topic1\", \"Topic1\", \"Topic1\", \"Topic1\", \"Topic1\", \"Topic1\", \"Topic1\", \"Topic1\", \"Topic1\", \"Topic1\", \"Topic1\", \"Topic1\", \"Topic1\", \"Topic1\", \"Topic1\", \"Topic1\", \"Topic1\", \"Topic1\", \"Topic1\", \"Topic1\", \"Topic1\", \"Topic1\", \"Topic1\", \"Topic1\", \"Topic1\", \"Topic1\", \"Topic1\", \"Topic1\", \"Topic1\", \"Topic1\", \"Topic1\", \"Topic1\", \"Topic1\", \"Topic1\", \"Topic1\", \"Topic1\", \"Topic1\", \"Topic1\", \"Topic1\", \"Topic1\", \"Topic1\", \"Topic1\", \"Topic1\", \"Topic1\", \"Topic1\", \"Topic1\", \"Topic1\", \"Topic1\", \"Topic1\", \"Topic1\", \"Topic1\", \"Topic1\", \"Topic1\", \"Topic1\", \"Topic1\", \"Topic1\", \"Topic1\", \"Topic1\", \"Topic2\", \"Topic2\", \"Topic2\", \"Topic2\", \"Topic2\", \"Topic2\", \"Topic2\", \"Topic2\", \"Topic2\", \"Topic2\", \"Topic2\", \"Topic2\", \"Topic2\", \"Topic2\", \"Topic2\", \"Topic2\", \"Topic2\", \"Topic2\", \"Topic2\", \"Topic2\", \"Topic2\", \"Topic2\", \"Topic2\", \"Topic2\", \"Topic2\", \"Topic2\", \"Topic2\", \"Topic2\", \"Topic2\", \"Topic2\", \"Topic2\", \"Topic2\", \"Topic2\", \"Topic2\", \"Topic2\", \"Topic2\", \"Topic2\", \"Topic2\", \"Topic2\", \"Topic2\", \"Topic2\", \"Topic2\", \"Topic2\", \"Topic2\", \"Topic2\", \"Topic2\", \"Topic2\", \"Topic2\", \"Topic2\", \"Topic2\", \"Topic2\", \"Topic2\", \"Topic2\", \"Topic2\", \"Topic2\", \"Topic2\", \"Topic2\", \"Topic2\", \"Topic2\", \"Topic2\", \"Topic2\", \"Topic2\", \"Topic2\", \"Topic2\", \"Topic3\", \"Topic3\", \"Topic3\", \"Topic3\", \"Topic3\", \"Topic3\", \"Topic3\", \"Topic3\", \"Topic3\", \"Topic3\", \"Topic3\", \"Topic3\", \"Topic3\", \"Topic3\", \"Topic3\", \"Topic3\", \"Topic3\", \"Topic3\", \"Topic3\", \"Topic3\", \"Topic3\", \"Topic3\", \"Topic3\", \"Topic3\", \"Topic3\", \"Topic3\", \"Topic3\", \"Topic3\", \"Topic3\", \"Topic3\", \"Topic3\", \"Topic3\", \"Topic3\", \"Topic3\", \"Topic3\", \"Topic3\", \"Topic3\", \"Topic3\", \"Topic3\", \"Topic3\", \"Topic3\", \"Topic3\", \"Topic3\", \"Topic3\", \"Topic3\", \"Topic3\", \"Topic3\", \"Topic3\", \"Topic3\", \"Topic3\", \"Topic3\", \"Topic3\", \"Topic3\", \"Topic3\", \"Topic3\", \"Topic3\", \"Topic3\", \"Topic3\", \"Topic3\", \"Topic3\", \"Topic3\", \"Topic3\", \"Topic3\", \"Topic3\", \"Topic3\", \"Topic3\", \"Topic3\", \"Topic3\", \"Topic3\", \"Topic4\", \"Topic4\", \"Topic4\", \"Topic4\", \"Topic4\", \"Topic4\", \"Topic4\", \"Topic4\", \"Topic4\", \"Topic4\", \"Topic4\", \"Topic4\", \"Topic4\", \"Topic4\", \"Topic4\", \"Topic4\", \"Topic4\", \"Topic4\", \"Topic4\", \"Topic4\", \"Topic4\", \"Topic4\", \"Topic4\", \"Topic4\", \"Topic4\", \"Topic4\", \"Topic4\", \"Topic4\", \"Topic4\", \"Topic4\", \"Topic4\", \"Topic4\", \"Topic4\", \"Topic4\", \"Topic4\", \"Topic4\", \"Topic4\", \"Topic4\", \"Topic4\", \"Topic4\", \"Topic4\", \"Topic4\", \"Topic4\", \"Topic4\", \"Topic4\", \"Topic4\", \"Topic4\", \"Topic4\", \"Topic4\", \"Topic4\", \"Topic4\", \"Topic4\", \"Topic4\", \"Topic4\", \"Topic4\", \"Topic4\", \"Topic4\", \"Topic4\", \"Topic5\", \"Topic5\", \"Topic5\", \"Topic5\", \"Topic5\", \"Topic5\", \"Topic5\", \"Topic5\", \"Topic5\", \"Topic5\", \"Topic5\", \"Topic5\", \"Topic5\", \"Topic5\", \"Topic5\", \"Topic5\", \"Topic5\", \"Topic5\", \"Topic5\", \"Topic5\", \"Topic5\", \"Topic5\", \"Topic5\", \"Topic5\", \"Topic5\", \"Topic5\", \"Topic5\", \"Topic5\", \"Topic5\", \"Topic5\", \"Topic5\", \"Topic5\", \"Topic5\", \"Topic5\", \"Topic5\", \"Topic5\", \"Topic5\", \"Topic5\", \"Topic5\", \"Topic5\", \"Topic5\", \"Topic5\", \"Topic5\", \"Topic5\", \"Topic5\", \"Topic5\", \"Topic5\", \"Topic5\", \"Topic5\", \"Topic5\", \"Topic5\", \"Topic5\", \"Topic5\", \"Topic5\", \"Topic5\", \"Topic5\", \"Topic5\", \"Topic5\", \"Topic5\", \"Topic5\", \"Topic5\", \"Topic5\", \"Topic5\", \"Topic5\", \"Topic5\", \"Topic5\"], \"Freq\": [23.0, 18.0, 18.0, 17.0, 22.0, 20.0, 18.0, 35.0, 10.0, 4.0, 7.0, 6.0, 13.0, 5.0, 4.0, 3.0, 3.0, 4.0, 3.0, 3.0, 7.0, 3.0, 3.0, 16.0, 15.0, 4.0, 2.0, 6.0, 3.0, 3.0, 3.3955726623535156, 3.518489360809326, 2.6035165786743164, 2.5926122665405273, 2.600470542907715, 2.561918020248413, 2.9033544063568115, 3.752681016921997, 2.580280065536499, 2.9711408615112305, 1.7680860757827759, 1.741805911064148, 1.9984982013702393, 1.9046263694763184, 2.731633186340332, 1.7063604593276978, 2.9188334941864014, 2.241384744644165, 1.823265552520752, 1.7219061851501465, 1.0917309522628784, 1.0182138681411743, 1.0144224166870117, 1.946138858795166, 0.9467386603355408, 0.9444692134857178, 0.9447596073150635, 0.943261981010437, 0.9413994550704956, 0.9402183294296265, 14.083127975463867, 3.3066532611846924, 2.0294418334960938, 14.843709945678711, 1.9281262159347534, 3.3994922637939453, 4.669007778167725, 2.8247408866882324, 13.843892097473145, 2.8237037658691406, 3.77543044090271, 4.170436382293701, 4.824178218841553, 4.5174713134765625, 22.339553833007812, 11.254484176635742, 3.022876739501953, 12.118443489074707, 4.630623817443848, 6.956897258758545, 5.659013271331787, 10.748022079467773, 7.256051540374756, 6.919507026672363, 10.798711776733398, 8.103976249694824, 3.9082982540130615, 6.076593399047852, 4.867665767669678, 9.56627368927002, 5.156370162963867, 6.279750823974609, 8.387057304382324, 8.017642974853516, 4.43260383605957, 4.992777347564697, 4.281584739685059, 5.123744487762451, 4.293925762176514, 4.637026786804199, 2.0913643836975098, 3.6388092041015625, 1.7329829931259155, 1.5575848817825317, 1.547257423400879, 1.5474669933319092, 1.5606060028076172, 2.15583872795105, 3.681499719619751, 1.5559834241867065, 1.548432469367981, 1.0621094703674316, 1.039984107017517, 1.031187653541565, 1.090018630027771, 2.1333866119384766, 4.517432689666748, 1.0886726379394531, 4.0293145179748535, 2.7491540908813477, 2.405841827392578, 0.5660601258277893, 0.5660708546638489, 0.5658122301101685, 2.5521390438079834, 0.5643868446350098, 0.5638608932495117, 0.563026487827301, 0.5650471448898315, 0.5616605281829834, 4.3422627449035645, 2.7333688735961914, 0.623040497303009, 3.7340850830078125, 1.042816400527954, 1.5885837078094482, 1.2517319917678833, 1.3127843141555786, 2.0528969764709473, 4.298908233642578, 6.326583385467529, 2.8889007568359375, 6.4530158042907715, 1.8656879663467407, 2.0618515014648438, 1.6159926652908325, 3.7296924591064453, 8.001765251159668, 5.945078372955322, 7.866730213165283, 6.881781101226807, 7.066804885864258, 3.1228957176208496, 6.879769802093506, 3.67075777053833, 2.934460163116455, 5.03836727142334, 3.1814844608306885, 3.1252143383026123, 2.6693992614746094, 3.5269687175750732, 3.453550338745117, 2.782958507537842, 3.0211727619171143, 0.6239018440246582, 0.4528757631778717, 0.6255596280097961, 0.4814312160015106, 0.44703254103660583, 0.44965291023254395, 0.6341951489448547, 0.42760634422302246, 0.42949536442756653, 0.4371460974216461, 0.43845561146736145, 0.6764348149299622, 0.8239156603813171, 0.4243444800376892, 0.7908090949058533, 0.43515679240226746, 0.2816564738750458, 0.24892787635326385, 0.4344547688961029, 1.748124599456787, 0.246684268116951, 0.4391041100025177, 0.231944277882576, 0.24769827723503113, 0.23156242072582245, 0.2312348186969757, 0.2628222107887268, 0.2311401665210724, 0.23088394105434418, 0.23068948090076447, 0.44306764006614685, 0.3695714473724365, 0.729852557182312, 0.8082629442214966, 1.2557193040847778, 0.8113041520118713, 0.45331457257270813, 0.5614885687828064, 1.3912904262542725, 1.0343432426452637, 2.5079469680786133, 1.6945464611053467, 1.596916675567627, 2.9818835258483887, 5.131911277770996, 3.369267225265503, 1.4672971963882446, 1.5722988843917847, 1.6219230890274048, 2.4326493740081787, 0.7171582579612732, 0.7776067852973938, 2.335094690322876, 1.5868364572525024, 1.2045762538909912, 2.0814614295959473, 0.9163539409637451, 1.196810245513916, 1.934080958366394, 1.536135196685791, 1.7531005144119263, 1.7493183612823486, 1.6763659715652466, 1.536940336227417, 1.0771445035934448, 1.207154631614685, 1.0623291730880737, 1.0824487209320068, 1.0703225135803223, 2.8143787384033203, 2.851123332977295, 1.45364248752594, 0.9362890124320984, 2.971130609512329, 1.0060139894485474, 1.9961680173873901, 2.3649168014526367, 3.797253370285034, 3.104301929473877, 0.41055482625961304, 2.8089616298675537, 0.4088954031467438, 2.682055711746216, 0.2926044464111328, 3.162853717803955, 0.2807884216308594, 0.280892014503479, 0.2805579602718353, 0.2807250916957855, 0.26925963163375854, 0.26925963163375854, 0.7714930176734924, 0.2687625288963318, 0.2792952060699463, 3.0385544300079346, 0.2786256968975067, 0.27940112352371216, 0.2759105861186981, 0.28088268637657166, 2.2931039333343506, 2.397156238555908, 3.096165180206299, 0.905537486076355, 1.0085421800613403, 3.2335457801818848, 0.709321916103363, 7.404684543609619, 0.5128793120384216, 0.4302264153957367, 0.42704954743385315, 5.6915788650512695, 2.0160443782806396, 1.498032808303833, 0.7479905486106873, 1.6905533075332642, 2.0661404132843018, 1.6132105588912964, 0.9104313850402832, 1.8253968954086304, 1.8136926889419556, 1.2948161363601685, 1.32771897315979, 2.033768892288208, 1.4349881410598755, 1.549032211303711, 1.6740045547485352, 1.567528486251831, 0.6798368692398071, 0.5270968079566956, 0.38133424520492554, 0.3531087338924408, 0.35280829668045044, 0.523392915725708, 0.3519464433193207, 0.3479800522327423, 0.34418410062789917, 0.34752121567726135, 0.528871476650238, 0.34541428089141846, 0.3927599787712097, 0.32253772020339966, 0.3432497978210449, 0.35412660241127014, 0.35694992542266846, 0.5149067640304565, 0.21644717454910278, 0.8835127949714661, 0.20080266892910004, 0.4119209349155426, 0.19916574656963348, 0.1877133548259735, 0.18770787119865417, 0.18742933869361877, 0.18773150444030762, 0.187382772564888, 0.18742986023426056, 0.18775473535060883, 0.7374778389930725, 0.360388845205307, 0.3780864477157593, 9.58985424041748, 0.5137342214584351, 2.3062362670898438, 3.7118732929229736, 0.9592026472091675, 9.529871940612793, 6.798670291900635, 2.1243386268615723, 0.715930163860321, 6.866441249847412, 1.1230518817901611, 5.247801303863525, 2.7441961765289307, 2.0937836170196533, 3.921696424484253, 1.0067107677459717, 0.48956534266471863, 1.4815821647644043, 0.7203952074050903, 0.8357847929000854, 1.1622004508972168, 1.3516596555709839, 0.5344808101654053, 1.2288968563079834, 1.5519142150878906, 1.334280252456665, 1.2319637537002563, 0.7999922037124634, 0.9773978590965271, 1.0739961862564087, 0.9651368260383606, 0.9377160668373108, 0.7590421438217163], \"Term\": [\"minister\", \"interior\", \"traffic\", \"security\", \"pt\", \"receives\", \"police\", \"bahrain\", \"ambassador\", \"salman\", \"public\", \"towards\", \"affairs\", \"guard\", \"bin\", \"shaikh\", \"roads\", \"highway\", \"alternative\", \"seek\", \"king\", \"khalifa\", \"kindly\", \"relevant\", \"procedures\", \"chief\", \"heavy\", \"near\", \"accident\", \"coast\", \"act\", \"beach\", \"awards\", \"celebrations\", \"warehouse\", \"flow\", \"drowned\", \"salmabad\", \"mina\", \"involved\", \"budaiya\", \"municipality\", \"boy\", \"busaiteen\", \"concerned\", \"attended\", \"wins\", \"fight\", \"location\", \"hebshi\", \"tunisia\", \"medal\", \"adherence\", \"counter\", \"stevie\", \"deploys\", \"stated\", \"bronze\", \"aspects\", \"rectify\", \"procedures\", \"french\", \"syria\", \"relevant\", \"circulated\", \"know\", \"hit\", \"pool\", \"taken\", \"swimming\", \"death\", \"participates\", \"personnel\", \"arab\", \"bahrain\", \"fm\", \"team\", \"kingdom\", \"terrorism\", \"republic\", \"died\", \"fire\", \"foreign\", \"ambassador\", \"receives\", \"affairs\", \"injured\", \"terrorist\", \"car\", \"defence\", \"ministry\", \"moi\", \"civil\", \"police\", \"international\", \"national\", \"near\", \"minister\", \"us\", \"pt\", \"success\", \"pmc\", \"final\", \"bahrainis\", \"organised\", \"accountable\", \"press\", \"accidents\", \"website\", \"items\", \"large\", \"orientation\", \"investment\", \"grade\", \"everyone\", \"continue\", \"amn\", \"advanced\", \"radio\", \"focus\", \"officers\", \"concluded\", \"confined\", \"fatal\", \"field\", \"buildings\", \"find\", \"homes\", \"reaches\", \"victim\", \"show\", \"indicate\", \"confront\", \"full\", \"effective\", \"kg\", \"seized\", \"crimes\", \"lectures\", \"visits\", \"held\", \"initial\", \"details\", \"expressed\", \"children\", \"short\", \"safety\", \"civil\", \"al\", \"defence\", \"security\", \"traffic\", \"training\", \"pt\", \"general\", \"reason\", \"fire\", \"man\", \"extinguished\", \"investigation\", \"interior\", \"minister\", \"moi\", \"bahrain\", \"charges\", \"could\", \"controlled\", \"passports\", \"fixed\", \"confirms\", \"fault\", \"process\", \"escaped\", \"corruption\", \"currently\", \"hotline\", \"camping\", \"materials\", \"technical\", \"object\", \"seminar\", \"meant\", \"sharp\", \"fahad\", \"entering\", \"applications\", \"normally\", \"suspicions\", \"half\", \"readiness\", \"sacrifices\", \"urban\", \"achievers\", \"paperwork\", \"ready\", \"trapped\", \"project\", \"received\", \"anti\", \"sea\", \"ceo\", \"boat\", \"causeway\", \"faisal\", \"king\", \"president\", \"holds\", \"affairs\", \"bahrain\", \"minister\", \"director\", \"customs\", \"general\", \"receives\", \"office\", \"take\", \"pt\", \"republic\", \"guard\", \"police\", \"cases\", \"bahraini\", \"traffic\", \"foreign\", \"kingdom\", \"interior\", \"fm\", \"security\", \"muharraq\", \"national\", \"northern\", \"meeting\", \"public\", \"seek\", \"alternative\", \"bomb\", \"race\", \"roads\", \"bridge\", \"commander\", \"heavy\", \"salman\", \"shaikh\", \"restaurant\", \"khalifa\", \"border\", \"kindly\", \"jaber\", \"bin\", \"taxi\", \"crossing\", \"kept\", \"sehla\", \"ahad\", \"wali\", \"drivers\", \"ctf\", \"probe\", \"highway\", \"skills\", \"person\", \"developing\", \"scw\", \"coast\", \"accident\", \"guard\", \"robbery\", \"town\", \"towards\", \"hold\", \"traffic\", \"rescued\", \"zallaq\", \"roundabout\", \"police\", \"northern\", \"rap\", \"hamad\", \"summer\", \"road\", \"manama\", \"explosives\", \"near\", \"arrested\", \"camp\", \"holds\", \"pt\", \"man\", \"al\", \"receives\", \"minister\", \"fugitive\", \"future\", \"jewellery\", \"mp\", \"prevention\", \"defense\", \"prosecutor\", \"manufacturing\", \"explosive\", \"plotting\", \"forced\", \"park\", \"jordanian\", \"limit\", \"hamala\", \"visited\", \"across\", \"form\", \"asserted\", \"interference\", \"except\", \"nations\", \"harbour\", \"whereas\", \"approach\", \"fee\", \"foiling\", \"learning\", \"disturb\", \"senate\", \"crown\", \"target\", \"negative\", \"interior\", \"prime\", \"chief\", \"public\", \"hrh\", \"minister\", \"security\", \"deputy\", \"prince\", \"pt\", \"terror\", \"receives\", \"ambassador\", \"us\", \"bahrain\", \"hm\", \"hh\", \"king\", \"visit\", \"new\", \"iran\", \"ministry\", \"qatari\", \"general\", \"kingdom\", \"affairs\", \"moi\", \"meets\", \"terrorist\", \"fm\", \"foreign\", \"police\", \"national\"], \"Total\": [23.0, 18.0, 18.0, 17.0, 22.0, 20.0, 18.0, 35.0, 10.0, 4.0, 7.0, 6.0, 13.0, 5.0, 4.0, 3.0, 3.0, 4.0, 3.0, 3.0, 7.0, 3.0, 3.0, 16.0, 15.0, 4.0, 2.0, 6.0, 3.0, 3.0, 3.4535436630249023, 3.5858683586120605, 2.654655694961548, 2.645148515701294, 2.6561646461486816, 2.619537353515625, 2.979343891143799, 3.8524043560028076, 2.650024652481079, 3.0549428462982178, 1.819366216659546, 1.8044732809066772, 2.071070909500122, 1.9752798080444336, 2.842282295227051, 1.7761919498443604, 3.038961887359619, 2.333669424057007, 1.8990525007247925, 1.7978311777114868, 1.1416643857955933, 1.0681270360946655, 1.0649470090866089, 2.0441296100616455, 0.9962846040725708, 0.9943613409996033, 0.9947871565818787, 0.9934987425804138, 0.991999626159668, 0.9910662174224854, 15.11962890625, 3.5044541358947754, 2.1468167304992676, 16.23102569580078, 2.0472781658172607, 3.6816482543945312, 5.117327690124512, 3.0532407760620117, 15.913434028625488, 3.0635342597961426, 4.258129596710205, 4.77988862991333, 5.635619163513184, 5.415406227111816, 35.22515869140625, 15.877230644226074, 3.4146840572357178, 17.732290267944336, 5.720302581787109, 9.480834007263184, 7.453776836395264, 16.863914489746094, 10.481759071350098, 10.170860290527344, 20.37541389465332, 13.553779602050781, 4.910857200622559, 9.688417434692383, 6.95208215713501, 20.043317794799805, 7.727928161621094, 10.849509239196777, 18.941423416137695, 18.285032272338867, 6.324991226196289, 8.765541076660156, 6.577021598815918, 23.043964385986328, 8.425203323364258, 22.752099990844727, 2.161190986633301, 3.779531955718994, 1.8004074096679688, 1.62507963180542, 1.6177024841308594, 1.6182513236999512, 1.645073413848877, 2.2868287563323975, 3.9095096588134766, 1.658204197883606, 1.655351996421814, 1.1403902769088745, 1.1171783208847046, 1.1127891540527344, 1.1780128479003906, 2.3058390617370605, 4.886085510253906, 1.1828771829605103, 4.387573719024658, 3.05796217918396, 2.6865310668945312, 0.6322078704833984, 0.6322224736213684, 0.6320061087608337, 2.851384162902832, 0.631004273891449, 0.630740761756897, 0.6301912069320679, 0.6327695846557617, 0.6291031837463379, 4.958410739898682, 3.207796096801758, 0.6994852423667908, 4.486512660980225, 1.1895769834518433, 1.8498640060424805, 1.468127965927124, 1.5542380809783936, 2.5689871311187744, 5.799718856811523, 9.234092712402344, 3.851618528366089, 10.23644733428955, 2.324514865875244, 2.7591607570648193, 1.993924856185913, 6.245527267456055, 18.941423416137695, 12.797871589660645, 20.043317794799805, 17.702009201049805, 18.91954803466797, 5.380495071411133, 22.752099990844727, 7.751952171325684, 5.635593891143799, 16.863914489746094, 6.832859516143799, 7.540314674377441, 5.3892598152160645, 18.113758087158203, 23.043964385986328, 10.849509239196777, 35.22515869140625, 0.7215433120727539, 0.534325897693634, 0.7396132946014404, 0.5724949240684509, 0.5332211256027222, 0.5370334386825562, 0.7600669860839844, 0.5151721239089966, 0.5179007649421692, 0.5344468951225281, 0.547249972820282, 0.8447937369346619, 1.0296369791030884, 0.5321670174598694, 1.0055192708969116, 0.5753947496414185, 0.37261494994163513, 0.3304497301578522, 0.5770844221115112, 2.323881149291992, 0.33053749799728394, 0.5907384157180786, 0.3126208484172821, 0.33432966470718384, 0.3125849664211273, 0.31248903274536133, 0.3551822006702423, 0.31276795268058777, 0.3124915659427643, 0.3124476373195648, 0.6091170310974121, 0.513674259185791, 1.13487708568573, 1.2929178476333618, 2.171649217605591, 1.3413372039794922, 0.6820780634880066, 0.9177938103675842, 3.031909704208374, 2.085066795349121, 7.984469890594482, 4.9711432456970215, 4.716967582702637, 13.553779602050781, 35.22515869140625, 23.043964385986328, 5.210238933563232, 6.231112957000732, 7.751952171325684, 20.37541389465332, 1.5645480155944824, 1.9087001085281372, 22.752099990844727, 9.480834007263184, 5.086092948913574, 18.285032272338867, 2.8054561614990234, 5.488450050354004, 18.91954803466797, 10.481759071350098, 17.732290267944336, 18.113758087158203, 15.877230644226074, 17.702009201049805, 5.031237602233887, 8.765541076660156, 4.905980587005615, 5.593774795532227, 7.346731662750244, 3.0584778785705566, 3.098906993865967, 1.5823918581008911, 1.0264688730239868, 3.274662494659424, 1.1256351470947266, 2.2386324405670166, 2.741129159927368, 4.511810779571533, 3.721615791320801, 0.5022472739219666, 3.459186315536499, 0.5044557452201843, 3.440054178237915, 0.37693166732788086, 4.092964172363281, 0.36550915241241455, 0.36575189232826233, 0.3659117817878723, 0.3667127788066864, 0.3542216718196869, 0.3542216718196869, 1.0196747779846191, 0.35529083013534546, 0.37053415179252625, 4.042167663574219, 0.37115150690078735, 0.37297362089157104, 0.3696470260620117, 0.38348615169525146, 3.3157060146331787, 3.5924181938171387, 5.086092948913574, 1.3406813144683838, 1.5970538854599, 6.111886501312256, 1.083382248878479, 18.91954803466797, 0.776082456111908, 0.6272220611572266, 0.6223485469818115, 18.285032272338867, 4.905980587005615, 3.442605495452881, 1.3358774185180664, 4.35269021987915, 6.562357425689697, 4.538547992706299, 1.8962215185165405, 6.577021598815918, 6.924050807952881, 3.849285125732422, 4.716967582702637, 22.752099990844727, 6.832859516143799, 12.797871589660645, 20.37541389465332, 23.043964385986328, 0.768792986869812, 0.6180665493011475, 0.4661597013473511, 0.43579521775245667, 0.4357110261917114, 0.65078204870224, 0.4383987486362457, 0.43827223777770996, 0.43962106108665466, 0.444481760263443, 0.6900791525840759, 0.454325795173645, 0.516830325126648, 0.42956626415252686, 0.4623565077781677, 0.47761693596839905, 0.4884503483772278, 0.7082740664482117, 0.29994651675224304, 1.2338579893112183, 0.28480273485183716, 0.5871099829673767, 0.28587573766708374, 0.2705022096633911, 0.2705848813056946, 0.2704699635505676, 0.27093175053596497, 0.27050966024398804, 0.2706681787967682, 0.27116620540618896, 1.132490634918213, 0.5394869446754456, 0.5677913427352905, 18.113758087158203, 0.8048802614212036, 4.244256496429443, 7.346731662750244, 1.643843650817871, 23.043964385986328, 17.702009201049805, 4.637144088745117, 1.2731244564056396, 22.752099990844727, 2.2585878372192383, 20.37541389465332, 10.170860290527344, 8.425203323364258, 35.22515869140625, 3.114156723022461, 0.8646279573440552, 7.984469890594482, 1.931212306022644, 2.706501007080078, 5.515457630157471, 7.727928161621094, 1.0455026626586914, 7.751952171325684, 17.732290267944336, 13.553779602050781, 10.849509239196777, 3.035346031188965, 9.688417434692383, 15.877230644226074, 10.481759071350098, 18.285032272338867, 8.765541076660156], \"loglift\": [30.0, 29.0, 28.0, 27.0, 26.0, 25.0, 24.0, 23.0, 22.0, 21.0, 20.0, 19.0, 18.0, 17.0, 16.0, 15.0, 14.0, 13.0, 12.0, 11.0, 10.0, 9.0, 8.0, 7.0, 6.0, 5.0, 4.0, 3.0, 2.0, 1.0, 0.8066999912261963, 0.8047000169754028, 0.8041999936103821, 0.803600013256073, 0.8025000095367432, 0.8014000058174133, 0.7978000044822693, 0.7973999977111816, 0.796999990940094, 0.795799970626831, 0.7950999736785889, 0.7882999777793884, 0.7879999876022339, 0.7871999740600586, 0.7839999794960022, 0.7835999727249146, 0.78329998254776, 0.78329998254776, 0.7828999757766724, 0.7804999947547913, 0.7789000272750854, 0.7757999897003174, 0.7750999927520752, 0.7745000123977661, 0.7727000117301941, 0.7721999883651733, 0.7720999717712402, 0.7717999815940857, 0.7713000178337097, 0.7710000276565552, 0.7526000142097473, 0.7656000256538391, 0.7674000263214111, 0.7343000173568726, 0.763700008392334, 0.7439000010490417, 0.7319999933242798, 0.7458999752998352, 0.6843000054359436, 0.7421000003814697, 0.7032999992370605, 0.6873000264167786, 0.6682000160217285, 0.6424000263214111, 0.3682999908924103, 0.4794999957084656, 0.7017999887466431, 0.4429999887943268, 0.6122999787330627, 0.5141000151634216, 0.5482000112533569, 0.373199999332428, 0.45590001344680786, 0.43849998712539673, 0.18880000710487366, 0.3093000054359436, 0.595300018787384, 0.3571999967098236, 0.46720001101493835, 0.08399999886751175, 0.41909998655319214, 0.2768999934196472, 0.008999999612569809, -0.0007999999797903001, 0.46810001134872437, 0.26080000400543213, 0.3944000005722046, -0.6798999905586243, 0.14959999918937683, -0.7669000029563904, 1.319100022315979, 1.3140000104904175, 1.3137999773025513, 1.309499979019165, 1.3073999881744385, 1.3071999549865723, 1.2992000579833984, 1.2929999828338623, 1.2918000221252441, 1.2883000373840332, 1.2851999998092651, 1.2807999849319458, 1.2803000211715698, 1.2757999897003174, 1.2742999792099, 1.2741999626159668, 1.2734999656677246, 1.2689000368118286, 1.266800045967102, 1.2454999685287476, 1.2416000366210938, 1.2414000034332275, 1.2414000034332275, 1.2412999868392944, 1.2410999536514282, 1.240399956703186, 1.23989999294281, 1.2391999959945679, 1.238700032234192, 1.2384999990463257, 1.2192000150680542, 1.1919000148773193, 1.236199975013733, 1.1684000492095947, 1.2202999591827393, 1.1996999979019165, 1.1924999952316284, 1.1830999851226807, 1.1276999711990356, 1.0525000095367432, 0.973800003528595, 1.0642999410629272, 0.890500009059906, 1.132099986076355, 1.0606000423431396, 1.141800045967102, 0.8363999724388123, 0.490200012922287, 0.5852000117301941, 0.41670000553131104, 0.40709999203681946, 0.36719998717308044, 0.8079000115394592, 0.1559000015258789, 0.6043999791145325, 0.699400007724762, 0.14380000531673431, 0.5874999761581421, 0.47119998931884766, 0.649399995803833, -0.2842999994754791, -0.5461000204086304, -0.008700000122189522, -1.104200005531311, 2.137700080871582, 2.117799997329712, 2.1157000064849854, 2.1098999977111816, 2.106800079345703, 2.105600118637085, 2.102099895477295, 2.0968000888824463, 2.0959999561309814, 2.082200050354004, 2.061500072479248, 2.0608999729156494, 2.0601999759674072, 2.0566999912261963, 2.0429000854492188, 2.0037999153137207, 2.0032999515533447, 1.9997999668121338, 1.9991999864578247, 1.9983999729156494, 1.9904999732971191, 1.9865000247955322, 1.9845999479293823, 1.983199954032898, 1.9831000566482544, 1.9819999933242798, 1.9819999933242798, 1.9807000160217285, 1.9804999828338623, 1.9797999858856201, 1.964900016784668, 1.9538999795913696, 1.8416999578475952, 1.8134000301361084, 1.7353999614715576, 1.780400037765503, 1.8746000528335571, 1.7918000221252441, 1.5041999816894531, 1.5821000337600708, 1.125100016593933, 1.2069000005722046, 1.2000000476837158, 0.7689999938011169, 0.35690000653266907, 0.36039999127388, 1.0159000158309937, 0.9060999751091003, 0.7188000082969666, 0.15780000388622284, 1.503100037574768, 1.385200023651123, 0.006500000134110451, 0.49559998512268066, 0.8428000211715698, 0.11010000109672546, 1.164199948310852, 0.760200023651123, 0.0026000000070780516, 0.3628000020980835, -0.030899999663233757, -0.05429999902844429, 0.0348999984562397, -0.1606999933719635, 0.7418000102043152, 0.30059999227523804, 0.7530999779701233, 0.6406999826431274, 0.35679998993873596, 2.2167000770568848, 2.2165000438690186, 2.2149999141693115, 2.207900047302246, 2.2026000022888184, 2.1875, 2.1851999759674072, 2.1521999835968018, 2.1273999214172363, 2.118499994277954, 2.098299980163574, 2.091599941253662, 2.0897998809814453, 2.0508999824523926, 2.046600103378296, 2.042099952697754, 2.0362000465393066, 2.035900115966797, 2.0341999530792236, 2.032599925994873, 2.025599956512451, 2.025599956512451, 2.020900011062622, 2.020699977874756, 2.017199993133545, 2.014400005340576, 2.0130999088287354, 2.010999917984009, 2.0074000358581543, 1.9884999990463257, 1.9311000108718872, 1.895300030708313, 1.8035000562667847, 1.9074000120162964, 1.8401999473571777, 1.6632000207901, 1.8762999773025513, 1.361799955368042, 1.885599970817566, 1.9228999614715576, 1.923200011253357, 1.1327999830245972, 1.4105000495910645, 1.4678000211715698, 1.7199000120162964, 1.354099988937378, 1.1441999673843384, 1.2654999494552612, 1.566100001335144, 1.0181000232696533, 0.9602000117301941, 1.2102999687194824, 1.032099962234497, -0.11490000039339066, 0.739300012588501, 0.1881999969482422, -0.19930000603199005, -0.3880999982357025, 2.1775999069213867, 2.141400098800659, 2.0996999740600586, 2.0901999473571777, 2.0894999504089355, 2.08270001411438, 2.080899953842163, 2.0699000358581543, 2.055799961090088, 2.054500102996826, 2.0344998836517334, 2.0264999866485596, 2.026099920272827, 2.0139999389648438, 2.002700090408325, 2.0013999938964844, 1.986899971961975, 1.9816999435424805, 1.9743000268936157, 1.966599941253662, 1.9510999917984009, 1.9462000131607056, 1.9392000436782837, 1.9351999759674072, 1.9349000453948975, 1.9337999820709229, 1.9336999654769897, 1.93340003490448, 1.9330999851226807, 1.9329999685287476, 1.8716000318527222, 1.8970999717712402, 1.8939000368118286, 1.6646000146865845, 1.8516000509262085, 1.690600037574768, 1.617900013923645, 1.7618999481201172, 1.4176000356674194, 1.3436000347137451, 1.5198999643325806, 1.7249000072479248, 1.1025999784469604, 1.6018999814987183, 0.944100022315979, 0.9904999732971191, 0.90829998254776, 0.10530000180006027, 1.1713000535964966, 1.7317999601364136, 0.6161999702453613, 1.3144999742507935, 1.125499963760376, 0.7433000206947327, 0.5570999979972839, 1.6296000480651855, 0.4587000012397766, -0.13529999554157257, -0.01769999973475933, 0.1251000016927719, 0.9671000242233276, 0.006800000090152025, -0.3928999900817871, -0.08449999988079071, -0.6697999835014343, -0.1459999978542328], \"logprob\": [30.0, 29.0, 28.0, 27.0, 26.0, 25.0, 24.0, 23.0, 22.0, 21.0, 20.0, 19.0, 18.0, 17.0, 16.0, 15.0, 14.0, 13.0, 12.0, 11.0, 10.0, 9.0, 8.0, 7.0, 6.0, 5.0, 4.0, 3.0, 2.0, 1.0, -5.747499942779541, -5.711900234222412, -6.0131001472473145, -6.017300128936768, -6.014200210571289, -6.029200077056885, -5.904099941253662, -5.647500038146973, -6.021999835968018, -5.88100004196167, -6.400000095367432, -6.414999961853027, -6.277500152587891, -6.3256001472473145, -5.965000152587891, -6.4355998039245605, -5.89870023727417, -6.162799835205078, -6.36929988861084, -6.426499843597412, -6.882199764251709, -6.951900005340576, -6.955599784851074, -6.304100036621094, -7.024700164794922, -7.027100086212158, -7.026800155639648, -7.028299808502197, -7.030300140380859, -7.031599998474121, -4.324900150299072, -5.77400016784668, -6.262199878692627, -4.27239990234375, -6.313399791717529, -5.746300220489502, -5.428999900817871, -5.93149995803833, -4.342100143432617, -5.9319000244140625, -5.64139986038208, -5.541900157928467, -5.396299839019775, -5.461999893188477, -3.863600015640259, -4.549200057983398, -5.863699913024902, -4.475200176239014, -5.43720006942749, -5.030200004577637, -5.236700057983398, -4.595200061798096, -4.988100051879883, -5.035600185394287, -4.5904998779296875, -4.877600193023682, -5.606800079345703, -5.165500164031982, -5.38730001449585, -4.711699962615967, -5.329699993133545, -5.132599830627441, -4.843200206756592, -4.888299942016602, -5.480899810791016, -5.3618998527526855, -5.515600204467773, -5.335999965667725, -5.512700080871582, -5.4359002113342285, -5.703800201416016, -5.150000095367432, -5.8917999267578125, -5.998499870300293, -6.005199909210205, -6.005000114440918, -5.996600151062012, -5.673500061035156, -5.138299942016602, -5.999499797821045, -6.00439977645874, -6.381400108337402, -6.402400016784668, -6.410900115966797, -6.355500221252441, -5.683899879455566, -4.933700084686279, -6.3566999435424805, -5.048099994659424, -5.4303998947143555, -5.563700199127197, -7.010700225830078, -7.010700225830078, -7.011099815368652, -5.504700183868408, -7.013700008392334, -7.014599800109863, -7.01609992980957, -7.012499809265137, -7.018499851226807, -4.973299980163574, -5.436100006103516, -6.91480016708374, -5.124100208282471, -6.399700164794922, -5.978799819946289, -6.217100143432617, -6.16949987411499, -5.722400188446045, -4.98330020904541, -4.59689998626709, -5.380799770355225, -4.577099800109863, -5.817999839782715, -5.7179999351501465, -5.961699962615967, -5.12529993057251, -4.361999988555908, -4.65910005569458, -4.379000186920166, -4.512800216674805, -4.486199855804443, -5.3028998374938965, -4.5131001472473145, -5.141200065612793, -5.365099906921387, -4.8246002197265625, -5.284299850463867, -5.30210018157959, -5.459799766540527, -5.18120002746582, -5.202199935913086, -5.418099880218506, -5.335999965667725, -5.9822001457214355, -6.302599906921387, -5.979599952697754, -6.241399765014648, -6.3155999183654785, -6.309700012207031, -5.965799808502197, -6.360000133514404, -6.355599880218506, -6.337900161743164, -6.33489990234375, -5.901400089263916, -5.704100131988525, -6.367700099945068, -5.745100021362305, -6.34250020980835, -6.777500152587891, -6.901000022888184, -6.344099998474121, -4.951900005340576, -6.910099983215332, -6.333499908447266, -6.971700191497803, -6.906000137329102, -6.973400115966797, -6.974800109863281, -6.846700191497803, -6.975200176239014, -6.97629976272583, -6.977099895477295, -6.32450008392334, -6.505899906158447, -5.825399875640869, -5.723299980163574, -5.282700061798096, -5.719600200653076, -6.301599979400635, -6.087600231170654, -5.180200099945068, -5.4766998291015625, -4.591000080108643, -4.982999801635742, -5.042399883270264, -4.417900085449219, -3.875, -4.29580020904541, -5.126999855041504, -5.0578999519348145, -5.026800155639648, -4.621500015258789, -5.842899799346924, -5.76200008392334, -4.662399768829346, -5.048699855804443, -5.3242998123168945, -4.777400016784668, -5.597799777984619, -5.3308000564575195, -4.850800037384033, -5.081200122833252, -4.949100017547607, -4.951200008392334, -4.993800163269043, -5.080699920654297, -5.436100006103516, -5.322199821472168, -5.449999809265137, -5.43120002746582, -5.442500114440918, -4.459000110626221, -4.446000099182129, -5.119699954986572, -5.559599876403809, -4.404799938201904, -5.48769998550415, -4.802499771118164, -4.632999897003174, -4.1595001220703125, -4.361000061035156, -6.383999824523926, -4.460899829864502, -6.388000011444092, -4.507199764251709, -6.722700119018555, -4.342299938201904, -6.763899803161621, -6.763500213623047, -6.764699935913086, -6.764100074768066, -6.805799961090088, -6.805799961090088, -5.753200054168701, -6.807700157165527, -6.769199848175049, -4.382400035858154, -6.771599769592285, -6.768799781799316, -6.781400203704834, -6.763599872589111, -4.66379976272583, -4.619500160217285, -4.36359977722168, -5.5929999351501465, -5.485199928283691, -4.320199966430664, -5.837200164794922, -3.4916000366210938, -6.161499977111816, -6.337200164794922, -6.344600200653076, -3.7548000812530518, -4.792600154876709, -5.089600086212158, -5.78410005569458, -4.968699932098389, -4.768099784851074, -5.015500068664551, -5.587600231170654, -4.891900062561035, -4.898399829864502, -5.235400199890137, -5.210299968719482, -4.78380012512207, -5.132599830627441, -5.056099891662598, -4.978499889373779, -5.0441999435424805, -5.878900051116943, -6.133399963378906, -6.457099914550781, -6.533999919891357, -6.534800052642822, -6.140399932861328, -6.537300109863281, -6.548600196838379, -6.559599876403809, -6.549900054931641, -6.130000114440918, -6.556000232696533, -6.427599906921387, -6.624499797821045, -6.562300205230713, -6.531099796295166, -6.523200035095215, -6.156799793243408, -7.023399829864502, -5.6168999671936035, -7.098400115966797, -6.379899978637695, -7.106599807739258, -7.165900230407715, -7.165900230407715, -7.167399883270264, -7.165800094604492, -7.167600154876709, -7.167399883270264, -7.165599822998047, -5.797500133514404, -6.513599872589111, -6.46560001373291, -3.232300043106079, -6.15910005569458, -4.657400131225586, -4.18149995803833, -5.5346999168396, -3.238600015640259, -3.5762999057769775, -4.73960018157959, -5.827199935913086, -3.5664000511169434, -5.376999855041504, -3.835200071334839, -4.483500003814697, -4.754000186920166, -4.126500129699707, -5.486299991607666, -6.207300186157227, -5.099899768829346, -5.821000099182129, -5.672399997711182, -5.342700004577637, -5.191699981689453, -6.119500160217285, -5.286900043487549, -5.053500175476074, -5.204599857330322, -5.28439998626709, -5.71619987487793, -5.515900135040283, -5.421599864959717, -5.528500080108643, -5.557300090789795, -5.768700122833252]}, \"token.table\": {\"Topic\": [4, 2, 2, 1, 1, 2, 1, 2, 3, 5, 1, 2, 3, 4, 5, 4, 1, 5, 2, 1, 3, 1, 1, 2, 3, 4, 1, 1, 1, 1, 2, 3, 4, 5, 1, 2, 3, 4, 2, 1, 1, 4, 3, 4, 1, 4, 1, 1, 2, 1, 2, 4, 3, 1, 2, 4, 2, 3, 1, 2, 3, 1, 3, 2, 3, 5, 2, 1, 1, 2, 3, 4, 3, 4, 4, 1, 2, 2, 2, 2, 3, 1, 2, 5, 1, 2, 3, 1, 1, 2, 3, 4, 5, 1, 2, 5, 1, 2, 1, 2, 4, 1, 2, 3, 5, 4, 1, 2, 2, 1, 4, 2, 1, 2, 3, 1, 3, 2, 3, 2, 1, 2, 2, 1, 2, 4, 1, 1, 2, 3, 5, 2, 5, 1, 2, 3, 5, 5, 1, 5, 1, 2, 5, 1, 2, 3, 4, 5, 2, 1, 3, 4, 4, 4, 1, 1, 2, 4, 1, 4, 1, 1, 3, 5, 4, 1, 3, 4, 5, 2, 3, 5, 2, 1, 2, 1, 3, 5, 1, 2, 3, 4, 5, 1, 2, 1, 2, 2, 1, 1, 2, 3, 5, 2, 2, 4, 4, 1, 3, 4, 5, 1, 2, 3, 5, 1, 2, 2, 1, 1, 2, 4, 1, 4, 1, 1, 2, 3, 4, 1, 2, 3, 5, 1, 1, 2, 3, 4, 5, 1, 3, 5, 1, 2, 5, 1, 2, 3, 4, 1, 1, 2, 3, 5, 1, 4, 1, 2, 5, 1, 3, 4, 1, 3, 2, 2, 2, 1, 1, 2, 1, 2, 3, 4, 5, 1, 1, 2, 3, 2, 5, 5, 1, 4, 3, 1, 2, 3, 4, 5, 1, 2, 3, 5, 5, 4, 2, 2, 4, 2, 1, 2, 3, 1, 3, 4, 5, 1, 1, 4, 1, 3, 4, 1, 2, 4, 4, 4, 1, 2, 3, 4, 1, 4, 3, 1, 2, 3, 5, 4, 2, 4, 2, 2, 1, 1, 2, 2, 4, 1, 1, 1, 3, 1, 4, 1, 3, 5, 1, 2, 1, 2, 3, 5, 1, 4, 4, 1, 2, 3, 4, 5, 1, 2, 4, 1, 1, 2, 4, 5, 2, 1, 5, 2, 5, 1, 2, 1], \"Freq\": [0.5567280650138855, 0.8745735883712769, 1.235901951789856, 0.8686729669570923, 0.9390138387680054, 0.8453962802886963, 0.5902412533760071, 0.07378015667200089, 0.22134047746658325, 0.07378015667200089, 0.31255197525024414, 0.4688279628753662, 0.07813799381256104, 0.15627598762512207, 0.07813799381256104, 0.9680832624435425, 0.6882407069206238, 0.29496029019355774, 1.023314118385315, 0.4604795277118683, 0.4604795277118683, 0.9232917428016663, 0.28884825110435486, 0.28884825110435486, 0.14442412555217743, 0.28884825110435486, 1.008064866065979, 1.1260044574737549, 1.1300899982452393, 0.6245536208152771, 0.08516640216112137, 0.1419440060853958, 0.028388800099492073, 0.11355520039796829, 0.36440160870552063, 0.18220080435276031, 0.18220080435276031, 0.18220080435276031, 1.2307089567184448, 1.1154899597167969, 0.24432170391082764, 0.7329651117324829, 1.089569330215454, 0.6319547295570374, 0.9656839966773987, 0.8883873224258423, 1.006543755531311, 1.0992839336395264, 1.5847753286361694, 1.0125148296356201, 0.5195769667625427, 0.25978848338127136, 0.971216082572937, 0.7192090153694153, 0.14384180307388306, 0.14384180307388306, 0.3564482629299164, 0.3564482629299164, 0.32982513308525085, 0.32982513308525085, 0.32982513308525085, 1.134151816368103, 1.385918140411377, 0.23561252653598785, 0.23561252653598785, 0.4712250530719757, 0.7248581051826477, 0.9769068360328674, 0.42235472798347473, 0.42235472798347473, 0.05279434099793434, 0.05279434099793434, 0.30159488320350647, 0.6031897664070129, 0.8934025764465332, 1.0554897785186768, 1.5817582607269287, 1.5817216634750366, 1.429622769355774, 0.8673632144927979, 1.352057933807373, 0.9784115552902222, 0.643402099609375, 0.8830094933509827, 0.32096993923187256, 0.48145490884780884, 0.32096993923187256, 0.9393795728683472, 0.49891939759254456, 0.3991355299949646, 0.049891941249370575, 0.049891941249370575, 1.5366127490997314, 1.0056706666946411, 0.43129995465278625, 0.43129995465278625, 0.3907605707645416, 0.5861408710479736, 0.8049610257148743, 0.13416017591953278, 0.13416017591953278, 0.19192977249622345, 0.3838595449924469, 0.19192977249622345, 0.19192977249622345, 0.9807048439979553, 1.0069330930709839, 0.8406349420547485, 0.8488872051239014, 0.5273645520210266, 0.5273645520210266, 0.8603945970535278, 0.5304818153381348, 0.39786139130592346, 0.8606292009353638, 0.4796009361743927, 0.4796009361743927, 1.5822632312774658, 1.3156734704971313, 1.052120566368103, 0.8570194244384766, 1.1108596324920654, 1.5854374170303345, 0.652280330657959, 0.2964910566806793, 0.05929821357131004, 1.1452404260635376, 0.6928160190582275, 0.12596654891967773, 0.12596654891967773, 0.06298327445983887, 0.9810454845428467, 1.4491090774536133, 0.6678268313407898, 0.09540383517742157, 0.19080767035484314, 0.09540383517742157, 1.4118828773498535, 0.8560534119606018, 1.3007402420043945, 0.22289027273654938, 0.8915610909461975, 1.6179487705230713, 0.1289997696876526, 0.5159990787506104, 0.2579995393753052, 0.1289997696876526, 0.1289997696876526, 0.8986428380012512, 0.1966145783662796, 0.1966145783662796, 0.58984375, 0.7485716938972473, 0.7296262979507446, 1.1124515533447266, 0.21658869087696075, 0.6497660279273987, 0.10829434543848038, 0.24739201366901398, 0.7421760559082031, 0.9770724773406982, 0.3211142122745514, 0.3211142122745514, 0.3211142122745514, 0.9230352640151978, 0.21200060844421387, 0.42400121688842773, 0.21200060844421387, 0.21200060844421387, 1.5868200063705444, 1.1837209463119507, 0.6083303689956665, 0.9352215528488159, 0.25963109731674194, 0.7788933515548706, 0.8145217299461365, 0.20363043248653412, 0.8104660511016846, 0.1104133129119873, 0.2208266258239746, 0.1104133129119873, 0.05520665645599365, 0.5520665645599365, 0.6324119567871094, 0.15810298919677734, 0.3711084723472595, 0.5566627383232117, 0.8951122760772705, 0.982015073299408, 0.36261722445487976, 0.18130861222743988, 0.18130861222743988, 0.18130861222743988, 1.2061240673065186, 1.081160545349121, 0.8672559857368469, 0.8720793128013611, 0.37572938203811646, 0.37572938203811646, 0.12524312734603882, 0.12524312734603882, 0.676731526851654, 0.11278858780860901, 0.11278858780860901, 0.11278858780860901, 0.8148524165153503, 1.2082022428512573, 0.778516948223114, 1.0531567335128784, 0.29270321130752563, 0.43905484676361084, 0.14635160565376282, 0.44066956639289856, 0.44066956639289856, 0.9362182021141052, 0.3575403094291687, 0.17877015471458435, 0.17877015471458435, 0.17877015471458435, 0.3294517397880554, 0.3294517397880554, 0.3294517397880554, 0.3294517397880554, 1.132064938545227, 0.21697655320167542, 0.13018593192100525, 0.13018593192100525, 0.08679062128067017, 0.43395310640335083, 0.6470039486885071, 0.12940078973770142, 0.12940078973770142, 0.5530204176902771, 0.27651020884513855, 0.09217006713151932, 0.19875825941562653, 0.39751651883125305, 0.19875825941562653, 0.19875825941562653, 1.1083567142486572, 0.5704154372215271, 0.22816617786884308, 0.11408308893442154, 0.11408308893442154, 0.6081780195236206, 0.3040890097618103, 0.3694807291030884, 0.3694807291030884, 0.3694807291030884, 0.20383284986019135, 0.20383284986019135, 0.4076656997203827, 0.6391622424125671, 0.6391622424125671, 0.7444544434547424, 1.2363213300704956, 0.8768928050994873, 0.8368395566940308, 0.887213945388794, 1.058332085609436, 0.43751633167266846, 0.10937908291816711, 0.10937908291816711, 0.32813724875450134, 0.05468954145908356, 0.9825625419616699, 0.4023219347000122, 0.2011609673500061, 0.4023219347000122, 1.2157511711120605, 1.2424207925796509, 0.7854691743850708, 0.9259486794471741, 0.06613919138908386, 0.8811526894569397, 0.21975994110107422, 0.3076639175415039, 0.08790397644042969, 0.08790397644042969, 0.3076639175415039, 0.1361149549484253, 0.2722299098968506, 0.1361149549484253, 0.5444598197937012, 0.956477701663971, 0.9742136597633362, 0.9116656184196472, 0.2904776632785797, 0.2904776632785797, 1.58035409450531, 0.5323307514190674, 0.5323307514190674, 0.7734443545341492, 0.5398663282394409, 0.09815751761198044, 0.09815751761198044, 0.2453937828540802, 1.009014368057251, 0.9241560101509094, 0.061610400676727295, 0.73833167552948, 0.21095190942287445, 1.2885228395462036, 0.30476853251457214, 0.30476853251457214, 0.30476853251457214, 0.9161249399185181, 0.74588942527771, 0.160114586353302, 0.640458345413208, 0.160114586353302, 0.160114586353302, 1.038312554359436, 0.8865619897842407, 0.7455247044563293, 0.11298152804374695, 0.3954353332519531, 0.11298152804374695, 0.3954353332519531, 0.980880081653595, 0.6811395287513733, 0.8061015009880066, 1.0030468702316284, 0.8067101240158081, 1.0052402019500732, 1.003729224205017, 0.9254156947135925, 0.4594859480857849, 0.4594859480857849, 0.9792611002922058, 0.9316118955612183, 0.5239167809486389, 0.5239167809486389, 0.8797598481178284, 0.06283998489379883, 0.8785585761070251, 0.9945110082626343, 0.4427545368671417, 0.8740796446800232, 0.17481592297554016, 0.6192961931228638, 0.2064320594072342, 0.1032160297036171, 0.1032160297036171, 0.32723119854927063, 0.49084681272506714, 0.6261529326438904, 0.10571076720952988, 0.36998769640922546, 0.10571076720952988, 0.36998769640922546, 0.05285538360476494, 0.18585650622844696, 0.5575695037841797, 0.18585650622844696, 0.8759141564369202, 0.47476598620414734, 0.11869149655103683, 0.11869149655103683, 0.23738299310207367, 1.589564323425293, 0.5178094506263733, 0.5178094506263733, 0.6896886229515076, 0.1724221557378769, 1.1294480562210083, 1.0231462717056274, 0.9871792197227478], \"Term\": [\"accident\", \"accidents\", \"accountable\", \"act\", \"adherence\", \"advanced\", \"affairs\", \"affairs\", \"affairs\", \"affairs\", \"al\", \"al\", \"al\", \"al\", \"al\", \"alternative\", \"ambassador\", \"ambassador\", \"amn\", \"anti\", \"anti\", \"arab\", \"arrested\", \"arrested\", \"arrested\", \"arrested\", \"aspects\", \"attended\", \"awards\", \"bahrain\", \"bahrain\", \"bahrain\", \"bahrain\", \"bahrain\", \"bahraini\", \"bahraini\", \"bahraini\", \"bahraini\", \"bahrainis\", \"beach\", \"bin\", \"bin\", \"boat\", \"bomb\", \"boy\", \"bridge\", \"bronze\", \"budaiya\", \"buildings\", \"busaiteen\", \"camp\", \"camp\", \"camping\", \"car\", \"car\", \"car\", \"cases\", \"cases\", \"causeway\", \"causeway\", \"causeway\", \"celebrations\", \"charges\", \"chief\", \"chief\", \"chief\", \"children\", \"circulated\", \"civil\", \"civil\", \"civil\", \"civil\", \"coast\", \"coast\", \"commander\", \"concerned\", \"concluded\", \"confined\", \"confront\", \"continue\", \"controlled\", \"counter\", \"crimes\", \"crown\", \"customs\", \"customs\", \"customs\", \"death\", \"defence\", \"defence\", \"defence\", \"defence\", \"defense\", \"deploys\", \"deputy\", \"deputy\", \"details\", \"details\", \"died\", \"died\", \"died\", \"director\", \"director\", \"director\", \"director\", \"drivers\", \"drowned\", \"effective\", \"everyone\", \"explosives\", \"explosives\", \"expressed\", \"extinguished\", \"extinguished\", \"fahad\", \"faisal\", \"faisal\", \"fatal\", \"fault\", \"field\", \"fight\", \"final\", \"find\", \"fire\", \"fire\", \"fire\", \"flow\", \"fm\", \"fm\", \"fm\", \"fm\", \"focus\", \"forced\", \"foreign\", \"foreign\", \"foreign\", \"foreign\", \"form\", \"french\", \"fugitive\", \"full\", \"full\", \"future\", \"general\", \"general\", \"general\", \"general\", \"general\", \"grade\", \"guard\", \"guard\", \"guard\", \"hamad\", \"heavy\", \"hebshi\", \"held\", \"held\", \"held\", \"highway\", \"highway\", \"hit\", \"hm\", \"hm\", \"hm\", \"hold\", \"holds\", \"holds\", \"holds\", \"holds\", \"homes\", \"hotline\", \"hrh\", \"indicate\", \"initial\", \"initial\", \"injured\", \"injured\", \"interference\", \"interior\", \"interior\", \"interior\", \"interior\", \"interior\", \"international\", \"international\", \"investigation\", \"investigation\", \"investment\", \"involved\", \"iran\", \"iran\", \"iran\", \"iran\", \"items\", \"kg\", \"khalifa\", \"kindly\", \"king\", \"king\", \"king\", \"king\", \"kingdom\", \"kingdom\", \"kingdom\", \"kingdom\", \"know\", \"large\", \"lectures\", \"location\", \"man\", \"man\", \"man\", \"manama\", \"manama\", \"medal\", \"meeting\", \"meeting\", \"meeting\", \"meeting\", \"meets\", \"meets\", \"meets\", \"meets\", \"mina\", \"minister\", \"minister\", \"minister\", \"minister\", \"minister\", \"ministry\", \"ministry\", \"ministry\", \"moi\", \"moi\", \"moi\", \"muharraq\", \"muharraq\", \"muharraq\", \"muharraq\", \"municipality\", \"national\", \"national\", \"national\", \"national\", \"near\", \"near\", \"new\", \"new\", \"new\", \"northern\", \"northern\", \"northern\", \"office\", \"office\", \"officers\", \"organised\", \"orientation\", \"participates\", \"personnel\", \"pmc\", \"police\", \"police\", \"police\", \"police\", \"police\", \"pool\", \"president\", \"president\", \"president\", \"press\", \"prime\", \"prince\", \"procedures\", \"procedures\", \"project\", \"pt\", \"pt\", \"pt\", \"pt\", \"pt\", \"public\", \"public\", \"public\", \"public\", \"qatari\", \"race\", \"radio\", \"rap\", \"rap\", \"reaches\", \"reason\", \"reason\", \"received\", \"receives\", \"receives\", \"receives\", \"receives\", \"rectify\", \"relevant\", \"relevant\", \"republic\", \"republic\", \"rescued\", \"road\", \"road\", \"road\", \"roads\", \"robbery\", \"safety\", \"safety\", \"safety\", \"safety\", \"salmabad\", \"salman\", \"sea\", \"security\", \"security\", \"security\", \"security\", \"seek\", \"seized\", \"shaikh\", \"short\", \"show\", \"stated\", \"stevie\", \"success\", \"summer\", \"summer\", \"swimming\", \"syria\", \"take\", \"take\", \"taken\", \"taken\", \"team\", \"technical\", \"terror\", \"terrorism\", \"terrorism\", \"terrorist\", \"terrorist\", \"terrorist\", \"terrorist\", \"towards\", \"towards\", \"town\", \"traffic\", \"traffic\", \"traffic\", \"traffic\", \"traffic\", \"training\", \"training\", \"training\", \"tunisia\", \"us\", \"us\", \"us\", \"us\", \"victim\", \"visit\", \"visit\", \"visits\", \"visits\", \"warehouse\", \"website\", \"wins\"]}, \"R\": 30, \"lambda.step\": 0.01, \"plot.opts\": {\"xlab\": \"PC1\", \"ylab\": \"PC2\"}, \"topic.order\": [1, 3, 5, 2, 4]};\n",
       "\n",
       "function LDAvis_load_lib(url, callback){\n",
       "  var s = document.createElement('script');\n",
       "  s.src = url;\n",
       "  s.async = true;\n",
       "  s.onreadystatechange = s.onload = callback;\n",
       "  s.onerror = function(){console.warn(\"failed to load library \" + url);};\n",
       "  document.getElementsByTagName(\"head\")[0].appendChild(s);\n",
       "}\n",
       "\n",
       "if(typeof(LDAvis) !== \"undefined\"){\n",
       "   // already loaded: just create the visualization\n",
       "   !function(LDAvis){\n",
       "       new LDAvis(\"#\" + \"ldavis_el776417450934177446069885637\", ldavis_el776417450934177446069885637_data);\n",
       "   }(LDAvis);\n",
       "}else if(typeof define === \"function\" && define.amd){\n",
       "   // require.js is available: use it to load d3/LDAvis\n",
       "   require.config({paths: {d3: \"https://cdnjs.cloudflare.com/ajax/libs/d3/3.5.5/d3.min\"}});\n",
       "   require([\"d3\"], function(d3){\n",
       "      window.d3 = d3;\n",
       "      LDAvis_load_lib(\"https://cdn.rawgit.com/bmabey/pyLDAvis/files/ldavis.v1.0.0.js\", function(){\n",
       "        new LDAvis(\"#\" + \"ldavis_el776417450934177446069885637\", ldavis_el776417450934177446069885637_data);\n",
       "      });\n",
       "    });\n",
       "}else{\n",
       "    // require.js not available: dynamically load d3 & LDAvis\n",
       "    LDAvis_load_lib(\"https://cdnjs.cloudflare.com/ajax/libs/d3/3.5.5/d3.min.js\", function(){\n",
       "         LDAvis_load_lib(\"https://cdn.rawgit.com/bmabey/pyLDAvis/files/ldavis.v1.0.0.js\", function(){\n",
       "                 new LDAvis(\"#\" + \"ldavis_el776417450934177446069885637\", ldavis_el776417450934177446069885637_data);\n",
       "            })\n",
       "         });\n",
       "}\n",
       "</script>"
      ],
      "text/plain": [
       "PreparedData(topic_coordinates=            Freq  cluster  topics          x          y\n",
       "topic                                                  \n",
       "0      43.882263        1       1  60.068279  43.149746\n",
       "2      25.873808        1       2  12.946766 -66.216545\n",
       "4      10.196352        1       3   1.553039   1.861586\n",
       "1      10.027431        1       4  81.723183 -86.182693\n",
       "3      10.020142        1       5  92.798386 -17.849485, topic_info=     Category       Freq         Term      Total  loglift  logprob\n",
       "term                                                              \n",
       "63    Default  23.000000     minister  23.000000  30.0000  30.0000\n",
       "1248  Default  18.000000     interior  18.000000  29.0000  29.0000\n",
       "2682  Default  18.000000      traffic  18.000000  28.0000  28.0000\n",
       "492   Default  17.000000     security  17.000000  27.0000  27.0000\n",
       "2707  Default  22.000000           pt  22.000000  26.0000  26.0000\n",
       "64    Default  20.000000     receives  20.000000  25.0000  25.0000\n",
       "1061  Default  18.000000       police  18.000000  24.0000  24.0000\n",
       "23    Default  35.000000      bahrain  35.000000  23.0000  23.0000\n",
       "66    Default  10.000000   ambassador  10.000000  22.0000  22.0000\n",
       "516   Default   4.000000       salman   4.000000  21.0000  21.0000\n",
       "1088  Default   7.000000       public   7.000000  20.0000  20.0000\n",
       "379   Default   6.000000      towards   6.000000  19.0000  19.0000\n",
       "55    Default  13.000000      affairs  13.000000  18.0000  18.0000\n",
       "975   Default   5.000000        guard   5.000000  17.0000  17.0000\n",
       "120   Default   4.000000          bin   4.000000  16.0000  16.0000\n",
       "269   Default   3.000000       shaikh   3.000000  15.0000  15.0000\n",
       "1946  Default   3.000000        roads   3.000000  14.0000  14.0000\n",
       "2791  Default   4.000000      highway   4.000000  13.0000  13.0000\n",
       "1472  Default   3.000000  alternative   3.000000  12.0000  12.0000\n",
       "2011  Default   3.000000         seek   3.000000  11.0000  11.0000\n",
       "374   Default   7.000000         king   7.000000  10.0000  10.0000\n",
       "268   Default   3.000000      khalifa   3.000000   9.0000   9.0000\n",
       "1573  Default   3.000000       kindly   3.000000   8.0000   8.0000\n",
       "466   Default  16.000000     relevant  16.000000   7.0000   7.0000\n",
       "2612  Default  15.000000   procedures  15.000000   6.0000   6.0000\n",
       "146   Default   4.000000        chief   4.000000   5.0000   5.0000\n",
       "1445  Default   2.000000        heavy   2.000000   4.0000   4.0000\n",
       "918   Default   6.000000         near   6.000000   3.0000   3.0000\n",
       "990   Default   3.000000     accident   3.000000   2.0000   2.0000\n",
       "848   Default   3.000000        coast   3.000000   1.0000   1.0000\n",
       "...       ...        ...          ...        ...      ...      ...\n",
       "1088   Topic5   3.711873       public   7.346732   1.6179  -4.1815\n",
       "637    Topic5   0.959203          hrh   1.643844   1.7619  -5.5347\n",
       "63     Topic5   9.529872     minister  23.043964   1.4176  -3.2386\n",
       "492    Topic5   6.798670     security  17.702009   1.3436  -3.5763\n",
       "227    Topic5   2.124339       deputy   4.637144   1.5199  -4.7396\n",
       "725    Topic5   0.715930       prince   1.273124   1.7249  -5.8272\n",
       "2707   Topic5   6.866441           pt  22.752100   1.1026  -3.5664\n",
       "1947   Topic5   1.123052       terror   2.258588   1.6019  -5.3770\n",
       "64     Topic5   5.247801     receives  20.375414   0.9441  -3.8352\n",
       "66     Topic5   2.744196   ambassador  10.170860   0.9905  -4.4835\n",
       "28     Topic5   2.093784           us   8.425203   0.9083  -4.7540\n",
       "23     Topic5   3.921696      bahrain  35.225159   0.1053  -4.1265\n",
       "616    Topic5   1.006711           hm   3.114157   1.1713  -5.4863\n",
       "784    Topic5   0.489565           hh   0.864628   1.7318  -6.2073\n",
       "374    Topic5   1.481582         king   7.984470   0.6162  -5.0999\n",
       "950    Topic5   0.720395        visit   1.931212   1.3145  -5.8210\n",
       "39     Topic5   0.835785          new   2.706501   1.1255  -5.6724\n",
       "502    Topic5   1.162200         iran   5.515458   0.7433  -5.3427\n",
       "88     Topic5   1.351660     ministry   7.727928   0.5571  -5.1917\n",
       "581    Topic5   0.534481       qatari   1.045503   1.6296  -6.1195\n",
       "148    Topic5   1.228897      general   7.751952   0.4587  -5.2869\n",
       "50     Topic5   1.551914      kingdom  17.732290  -0.1353  -5.0535\n",
       "55     Topic5   1.334280      affairs  13.553780  -0.0177  -5.2046\n",
       "2840   Topic5   1.231964          moi  10.849509   0.1251  -5.2844\n",
       "100    Topic5   0.799992        meets   3.035346   0.9671  -5.7162\n",
       "172    Topic5   0.977398    terrorist   9.688417   0.0068  -5.5159\n",
       "59     Topic5   1.073996           fm  15.877231  -0.3929  -5.4216\n",
       "60     Topic5   0.965137      foreign  10.481759  -0.0845  -5.5285\n",
       "1061   Topic5   0.937716       police  18.285032  -0.6698  -5.5573\n",
       "77     Topic5   0.759042     national   8.765541  -0.1460  -5.7687\n",
       "\n",
       "[357 rows x 6 columns], token_table=      Topic      Freq         Term\n",
       "term                              \n",
       "990       4  0.556728     accident\n",
       "2694      2  0.874574    accidents\n",
       "3708      2  1.235902  accountable\n",
       "2181      1  0.868673          act\n",
       "2351      1  0.939014    adherence\n",
       "3080      2  0.845396     advanced\n",
       "55        1  0.590241      affairs\n",
       "55        2  0.073780      affairs\n",
       "55        3  0.221340      affairs\n",
       "55        5  0.073780      affairs\n",
       "118       1  0.312552           al\n",
       "118       2  0.468828           al\n",
       "118       3  0.078138           al\n",
       "118       4  0.156276           al\n",
       "118       5  0.078138           al\n",
       "1472      4  0.968083  alternative\n",
       "66        1  0.688241   ambassador\n",
       "66        5  0.294960   ambassador\n",
       "2800      2  1.023314          amn\n",
       "2433      1  0.460480         anti\n",
       "2433      3  0.460480         anti\n",
       "142       1  0.923292         arab\n",
       "2720      1  0.288848     arrested\n",
       "2720      2  0.288848     arrested\n",
       "2720      3  0.144424     arrested\n",
       "2720      4  0.288848     arrested\n",
       "2450      1  1.008065      aspects\n",
       "3151      1  1.126004     attended\n",
       "3775      1  1.130090       awards\n",
       "23        1  0.624554      bahrain\n",
       "...     ...       ...          ...\n",
       "411       1  0.874080    terrorism\n",
       "411       2  0.174816    terrorism\n",
       "172       1  0.619296    terrorist\n",
       "172       2  0.206432    terrorist\n",
       "172       3  0.103216    terrorist\n",
       "172       5  0.103216    terrorist\n",
       "379       1  0.327231      towards\n",
       "379       4  0.490847      towards\n",
       "1543      4  0.626153         town\n",
       "2682      1  0.105711      traffic\n",
       "2682      2  0.369988      traffic\n",
       "2682      3  0.105711      traffic\n",
       "2682      4  0.369988      traffic\n",
       "2682      5  0.052855      traffic\n",
       "2705      1  0.185857     training\n",
       "2705      2  0.557570     training\n",
       "2705      4  0.185857     training\n",
       "54        1  0.875914      tunisia\n",
       "28        1  0.474766           us\n",
       "28        2  0.118691           us\n",
       "28        4  0.118691           us\n",
       "28        5  0.237383           us\n",
       "2824      2  1.589564       victim\n",
       "950       1  0.517809        visit\n",
       "950       5  0.517809        visit\n",
       "1511      2  0.689689       visits\n",
       "1511      5  0.172422       visits\n",
       "2923      1  1.129448    warehouse\n",
       "280       2  1.023146      website\n",
       "91        1  0.987179         wins\n",
       "\n",
       "[368 rows x 3 columns], R=30, lambda_step=0.01, plot_opts={'xlab': 'PC1', 'ylab': 'PC2'}, topic_order=[1, 3, 5, 2, 4])"
      ]
     },
     "execution_count": 29,
     "metadata": {},
     "output_type": "execute_result"
    }
   ],
   "source": [
    "import pyLDAvis.gensim\n",
    "\n",
    "pyLDAvis.enable_notebook()\n",
    "panel = pyLDAvis.gensim.prepare(lda, corpus_lda, dictionary, mds='tsne')\n",
    "panel"
   ]
  },
  {
   "cell_type": "code",
   "execution_count": 30,
   "metadata": {},
   "outputs": [
    {
     "name": "stderr",
     "output_type": "stream",
     "text": [
      "2018-11-03 16:21:30,376 : INFO : topic #0 (0.200): 0.021*\"bahrain\" + 0.014*\"relevant\" + 0.013*\"procedures\" + 0.013*\"taken\" + 0.011*\"kingdom\" + 0.011*\"fm\" + 0.010*\"receives\" + 0.010*\"fire\" + 0.009*\"defence\" + 0.008*\"civil\"\n",
      "2018-11-03 16:21:30,379 : INFO : topic #1 (0.200): 0.030*\"traffic\" + 0.023*\"police\" + 0.016*\"salman\" + 0.013*\"towards\" + 0.013*\"bin\" + 0.013*\"shaikh\" + 0.013*\"guard\" + 0.012*\"highway\" + 0.012*\"roads\" + 0.012*\"alternative\"\n",
      "2018-11-03 16:21:30,381 : INFO : topic #2 (0.200): 0.013*\"civil\" + 0.013*\"defence\" + 0.011*\"traffic\" + 0.011*\"security\" + 0.011*\"pt\" + 0.010*\"details\" + 0.010*\"held\" + 0.009*\"al\" + 0.008*\"fire\" + 0.007*\"amn\"\n",
      "2018-11-03 16:21:30,382 : INFO : topic #3 (0.200): 0.039*\"interior\" + 0.039*\"minister\" + 0.028*\"pt\" + 0.028*\"security\" + 0.022*\"receives\" + 0.016*\"bahrain\" + 0.015*\"public\" + 0.011*\"ambassador\" + 0.009*\"chief\" + 0.009*\"deputy\"\n",
      "2018-11-03 16:21:30,385 : INFO : topic #4 (0.200): 0.021*\"bahrain\" + 0.014*\"minister\" + 0.012*\"affairs\" + 0.010*\"king\" + 0.010*\"receives\" + 0.009*\"pt\" + 0.008*\"police\" + 0.008*\"traffic\" + 0.007*\"kingdom\" + 0.007*\"interior\"\n"
     ]
    },
    {
     "data": {
      "text/plain": [
       "[(0,\n",
       "  '0.021*\"bahrain\" + 0.014*\"relevant\" + 0.013*\"procedures\" + 0.013*\"taken\" + 0.011*\"kingdom\" + 0.011*\"fm\" + 0.010*\"receives\" + 0.010*\"fire\" + 0.009*\"defence\" + 0.008*\"civil\"'),\n",
       " (1,\n",
       "  '0.030*\"traffic\" + 0.023*\"police\" + 0.016*\"salman\" + 0.013*\"towards\" + 0.013*\"bin\" + 0.013*\"shaikh\" + 0.013*\"guard\" + 0.012*\"highway\" + 0.012*\"roads\" + 0.012*\"alternative\"'),\n",
       " (2,\n",
       "  '0.013*\"civil\" + 0.013*\"defence\" + 0.011*\"traffic\" + 0.011*\"security\" + 0.011*\"pt\" + 0.010*\"details\" + 0.010*\"held\" + 0.009*\"al\" + 0.008*\"fire\" + 0.007*\"amn\"'),\n",
       " (3,\n",
       "  '0.039*\"interior\" + 0.039*\"minister\" + 0.028*\"pt\" + 0.028*\"security\" + 0.022*\"receives\" + 0.016*\"bahrain\" + 0.015*\"public\" + 0.011*\"ambassador\" + 0.009*\"chief\" + 0.009*\"deputy\"'),\n",
       " (4,\n",
       "  '0.021*\"bahrain\" + 0.014*\"minister\" + 0.012*\"affairs\" + 0.010*\"king\" + 0.010*\"receives\" + 0.009*\"pt\" + 0.008*\"police\" + 0.008*\"traffic\" + 0.007*\"kingdom\" + 0.007*\"interior\"')]"
      ]
     },
     "execution_count": 30,
     "metadata": {},
     "output_type": "execute_result"
    }
   ],
   "source": [
    "lda.print_topics(num_topics=5)"
   ]
  }
 ],
 "metadata": {
  "anaconda-cloud": {},
  "kernelspec": {
   "display_name": "Python 3",
   "language": "python",
   "name": "python3"
  },
  "language_info": {
   "codemirror_mode": {
    "name": "ipython",
    "version": 3
   },
   "file_extension": ".py",
   "mimetype": "text/x-python",
   "name": "python",
   "nbconvert_exporter": "python",
   "pygments_lexer": "ipython3",
   "version": "3.6.3"
  }
 },
 "nbformat": 4,
 "nbformat_minor": 1
}
