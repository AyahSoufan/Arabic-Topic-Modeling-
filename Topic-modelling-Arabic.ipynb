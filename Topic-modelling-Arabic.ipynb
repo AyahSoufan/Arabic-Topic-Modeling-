{
 "cells": [
  {
   "cell_type": "code",
   "execution_count": 11,
   "metadata": {
    "_cell_guid": "5a7c334d-3afa-4508-874f-3366da0a9c2c",
    "_uuid": "1139f2793448fc6a647e9a0c8e8679963d9f206d",
    "collapsed": true
   },
   "outputs": [],
   "source": [
    "#https://www.kaggle.com/errearanhas/topic-modelling-lda-on-elon-tweets/notebook\n",
    "import os\n",
    "import numpy as np \n",
    "#from plotly.offline import download_plotlyjs, init_notebook_mode, plot, iplot\n",
    "import plotly as py\n",
    "import plotly.graph_objs as go\n",
    "\n",
    "#init_notebook_mode(connected=True) #do not miss this line\n",
    "\n",
    "from gensim import corpora, models, similarities\n",
    "\n",
    "import warnings\n",
    "warnings.filterwarnings(\"ignore\")"
   ]
  },
  {
   "cell_type": "code",
   "execution_count": 1,
   "metadata": {
    "_cell_guid": "7cdec987-42d7-495d-8aed-d904f430707a",
    "_uuid": "2ab794b9bdd2400c1eb349493361f325fef51eee",
    "collapsed": true
   },
   "outputs": [],
   "source": [
    "#datafile = 'Bahrain_tweets_cleaned.csv'\n",
    "datafile = 'Bahrain_tweets_cleaned_Arabic.csv'"
   ]
  },
  {
   "cell_type": "code",
   "execution_count": 3,
   "metadata": {
    "_cell_guid": "52abb44e-881a-4fa5-aaad-cca178c148b4",
    "_uuid": "3247c5f08df034b7afe4be36e52a99baa625a5ba"
   },
   "outputs": [
    {
     "data": {
      "text/html": [
       "<div>\n",
       "<style scoped>\n",
       "    .dataframe tbody tr th:only-of-type {\n",
       "        vertical-align: middle;\n",
       "    }\n",
       "\n",
       "    .dataframe tbody tr th {\n",
       "        vertical-align: top;\n",
       "    }\n",
       "\n",
       "    .dataframe thead th {\n",
       "        text-align: right;\n",
       "    }\n",
       "</style>\n",
       "<table border=\"1\" class=\"dataframe\">\n",
       "  <thead>\n",
       "    <tr style=\"text-align: right;\">\n",
       "      <th></th>\n",
       "      <th>status_id</th>\n",
       "      <th>text</th>\n",
       "      <th>char_length</th>\n",
       "    </tr>\n",
       "  </thead>\n",
       "  <tbody>\n",
       "    <tr>\n",
       "      <th>0</th>\n",
       "      <td>1056255227857395717</td>\n",
       "      <td>ختام فعاليه الفرقه الموسيقيه العسكريه لقوه دفا...</td>\n",
       "      <td>146</td>\n",
       "    </tr>\n",
       "    <tr>\n",
       "      <th>1</th>\n",
       "      <td>1056155633672744960</td>\n",
       "      <td>يرجي كتابه عنوان الموقع كاملا في متصفح الانترنت</td>\n",
       "      <td>47</td>\n",
       "    </tr>\n",
       "    <tr>\n",
       "      <th>2</th>\n",
       "      <td>1055985919273115653</td>\n",
       "      <td>تعرف علي مترشحي الانتخابات النيابيه والبلديه ع...</td>\n",
       "      <td>120</td>\n",
       "    </tr>\n",
       "    <tr>\n",
       "      <th>3</th>\n",
       "      <td>1055985156295745536</td>\n",
       "      <td>يرجي كتابه عنوان الموقع كاملا في متصفح الانترنت</td>\n",
       "      <td>47</td>\n",
       "    </tr>\n",
       "    <tr>\n",
       "      <th>4</th>\n",
       "      <td>1055773814158778368</td>\n",
       "      <td>مواعيد تلقي الطعون علي اعتراضات المترشحين بوزا...</td>\n",
       "      <td>179</td>\n",
       "    </tr>\n",
       "    <tr>\n",
       "      <th>5</th>\n",
       "      <td>1055033336719138816</td>\n",
       "      <td>كونوا علي الموعد يومي الخميس والجمعه القادمين ...</td>\n",
       "      <td>136</td>\n",
       "    </tr>\n",
       "    <tr>\n",
       "      <th>6</th>\n",
       "      <td>1055032537242914816</td>\n",
       "      <td>نلبي الواجب انتخابات البحرين الانتخابات النياب...</td>\n",
       "      <td>78</td>\n",
       "    </tr>\n",
       "    <tr>\n",
       "      <th>7</th>\n",
       "      <td>1054452449220681730</td>\n",
       "      <td>تسجل اكبر اقبال علي الترشح لانتخابات النيابيه ...</td>\n",
       "      <td>137</td>\n",
       "    </tr>\n",
       "    <tr>\n",
       "      <th>8</th>\n",
       "      <td>1054437940468871169</td>\n",
       "      <td>ونوه المدير التنفيذي لانتخابات المستشار نواف ح...</td>\n",
       "      <td>236</td>\n",
       "    </tr>\n",
       "    <tr>\n",
       "      <th>9</th>\n",
       "      <td>1054437937805512704</td>\n",
       "      <td>وحول عد المترشحين لمجالس البلديه حسب المحافظات...</td>\n",
       "      <td>133</td>\n",
       "    </tr>\n",
       "  </tbody>\n",
       "</table>\n",
       "</div>"
      ],
      "text/plain": [
       "             status_id                                               text  \\\n",
       "0  1056255227857395717  ختام فعاليه الفرقه الموسيقيه العسكريه لقوه دفا...   \n",
       "1  1056155633672744960    يرجي كتابه عنوان الموقع كاملا في متصفح الانترنت   \n",
       "2  1055985919273115653  تعرف علي مترشحي الانتخابات النيابيه والبلديه ع...   \n",
       "3  1055985156295745536    يرجي كتابه عنوان الموقع كاملا في متصفح الانترنت   \n",
       "4  1055773814158778368  مواعيد تلقي الطعون علي اعتراضات المترشحين بوزا...   \n",
       "5  1055033336719138816  كونوا علي الموعد يومي الخميس والجمعه القادمين ...   \n",
       "6  1055032537242914816  نلبي الواجب انتخابات البحرين الانتخابات النياب...   \n",
       "7  1054452449220681730  تسجل اكبر اقبال علي الترشح لانتخابات النيابيه ...   \n",
       "8  1054437940468871169  ونوه المدير التنفيذي لانتخابات المستشار نواف ح...   \n",
       "9  1054437937805512704  وحول عد المترشحين لمجالس البلديه حسب المحافظات...   \n",
       "\n",
       "   char_length  \n",
       "0          146  \n",
       "1           47  \n",
       "2          120  \n",
       "3           47  \n",
       "4          179  \n",
       "5          136  \n",
       "6           78  \n",
       "7          137  \n",
       "8          236  \n",
       "9          133  "
      ]
     },
     "execution_count": 3,
     "metadata": {},
     "output_type": "execute_result"
    }
   ],
   "source": [
    "import pandas as pd\n",
    "tweets = pd.read_csv(datafile)\n",
    "tweets.head(10)"
   ]
  },
  {
   "cell_type": "code",
   "execution_count": 4,
   "metadata": {},
   "outputs": [
    {
     "name": "stdout",
     "output_type": "stream",
     "text": [
      "<class 'pandas.core.frame.DataFrame'>\n",
      "RangeIndex: 15093 entries, 0 to 15092\n",
      "Data columns (total 3 columns):\n",
      "status_id      15093 non-null int64\n",
      "text           15093 non-null object\n",
      "char_length    15093 non-null int64\n",
      "dtypes: int64(2), object(1)\n",
      "memory usage: 353.8+ KB\n"
     ]
    }
   ],
   "source": [
    "tweets.info()"
   ]
  },
  {
   "cell_type": "code",
   "execution_count": 5,
   "metadata": {
    "_cell_guid": "fdadead9-8dea-4c34-8bf2-1c4652418f36",
    "_uuid": "a9bbf206e9d8b2b17c15da0df8c67f1365f03dab",
    "scrolled": true
   },
   "outputs": [
    {
     "data": {
      "text/plain": [
       "range(0, 15093)"
      ]
     },
     "execution_count": 5,
     "metadata": {},
     "output_type": "execute_result"
    }
   ],
   "source": [
    "range(len(tweets['text']))"
   ]
  },
  {
   "cell_type": "markdown",
   "metadata": {
    "_cell_guid": "556c0eec-994f-4f72-82af-9da59e590a1b",
    "_uuid": "940eb7b9c8715792165ad73a40400e8c06c7b775"
   },
   "source": [
    "***Tweet Activity Over Years***"
   ]
  },
  {
   "cell_type": "code",
   "execution_count": 6,
   "metadata": {
    "_cell_guid": "b06b4ca0-f1ab-45a1-9550-1492a30c3c74",
    "_uuid": "ffb58f64bee55b852c07d0bc87be430d1258d976",
    "collapsed": true
   },
   "outputs": [],
   "source": [
    "corpus=[]\n",
    "a=[]\n",
    "for i in range(len(tweets['text'])):\n",
    "        a=tweets['text'][i]\n",
    "        corpus.append(a)"
   ]
  },
  {
   "cell_type": "code",
   "execution_count": 7,
   "metadata": {
    "_cell_guid": "e943c950-1007-46ff-a868-412100b6830f",
    "_uuid": "eeb90a8ffa5442ee9e32a456b227df1f61be706f"
   },
   "outputs": [
    {
     "data": {
      "text/plain": [
       "['ختام فعاليه الفرقه الموسيقيه العسكريه لقوه دفاع البحرين التي اقيمت يومي الخميس والجمعه الماضين بمجمع السيف 🇧🇭 نلبي الواجب انتخابات البحرين البحرين',\n",
       " 'يرجي كتابه عنوان الموقع كاملا في متصفح الانترنت',\n",
       " 'تعرف علي مترشحي الانتخابات النيابيه والبلديه عبر الموقع الالكتروني الرسمي لانتخابات نلبي الواجب انتخابات البحرين البحرين',\n",
       " 'يرجي كتابه عنوان الموقع كاملا في متصفح الانترنت',\n",
       " 'مواعيد تلقي الطعون علي اعتراضات المترشحين بوزاره العدل مساء يوم الجمعه ظهرا يوم السبت نلبي الواجب الطعون الانتخابيه انتخابات البحرين الانتخابات النيابيه الانتخابات البلديه البحرين']"
      ]
     },
     "execution_count": 7,
     "metadata": {},
     "output_type": "execute_result"
    }
   ],
   "source": [
    "corpus[0:5]"
   ]
  },
  {
   "cell_type": "code",
   "execution_count": 8,
   "metadata": {
    "_cell_guid": "d117ab5e-3395-4430-8dad-0750a520c313",
    "_uuid": "e6f1dd9faefafd8045c94fc71a033c201c5443ff"
   },
   "outputs": [
    {
     "name": "stderr",
     "output_type": "stream",
     "text": [
      "C:\\Users\\Ayah\\Anaconda3\\lib\\site-packages\\gensim\\utils.py:1212: UserWarning: detected Windows; aliasing chunkize to chunkize_serial\n",
      "  warnings.warn(\"detected Windows; aliasing chunkize to chunkize_serial\")\n"
     ]
    },
    {
     "name": "stdout",
     "output_type": "stream",
     "text": [
      "Folder \"C:\\Users\\Ayah\\AppData\\Local\\Temp\" will be used to save temporary dictionary and corpus.\n"
     ]
    }
   ],
   "source": [
    "import gensim\n",
    "import logging\n",
    "import tempfile\n",
    "\n",
    "TEMP_FOLDER = tempfile.gettempdir()\n",
    "print('Folder \"{}\" will be used to save temporary dictionary and corpus.'.format(TEMP_FOLDER))\n",
    "\n",
    "from gensim import corpora\n",
    "logging.basicConfig(format='%(asctime)s : %(levelname)s : %(message)s', level=logging.INFO)"
   ]
  },
  {
   "cell_type": "code",
   "execution_count": 9,
   "metadata": {
    "_cell_guid": "068cfe59-dbc2-4481-a20f-6cd321cbc4bb",
    "_uuid": "df0a72a7a17efcf0da96a51753855ec2039cffb8",
    "collapsed": true
   },
   "outputs": [],
   "source": [
    "from nltk.corpus import stopwords\n",
    "from string import punctuation\n",
    "\n",
    "# remove common words and tokenize\n",
    "list1 = ['RT','rt']\n",
    "stoplist = stopwords.words('english') + list(punctuation) + list1\n",
    "\n",
    "texts = [[word for word in str(document).lower().split() if word not in stoplist] for document in corpus]"
   ]
  },
  {
   "cell_type": "code",
   "execution_count": 12,
   "metadata": {
    "_cell_guid": "41eea25d-97f6-478c-97bb-8073cecb3101",
    "_uuid": "c9824ceb1efd0895923b23ff8d058a86a43b9c54"
   },
   "outputs": [
    {
     "name": "stderr",
     "output_type": "stream",
     "text": [
      "2018-11-03 14:09:31,278 : INFO : adding document #0 to Dictionary(0 unique tokens: [])\n",
      "2018-11-03 14:09:31,851 : INFO : adding document #10000 to Dictionary(22318 unique tokens: ['اقيمت', 'البحرين', 'التي', 'الخميس', 'السيف']...)\n",
      "2018-11-03 14:09:32,134 : INFO : built Dictionary(27867 unique tokens: ['اقيمت', 'البحرين', 'التي', 'الخميس', 'السيف']...) from 15093 documents (total 281196 corpus positions)\n",
      "2018-11-03 14:09:32,134 : INFO : saving Dictionary object under C:\\Users\\Ayah\\AppData\\Local\\Temp\\bahrain.dict, separately None\n",
      "2018-11-03 14:09:32,173 : INFO : saved C:\\Users\\Ayah\\AppData\\Local\\Temp\\bahrain.dict\n"
     ]
    }
   ],
   "source": [
    "dictionary = corpora.Dictionary(texts)\n",
    "dictionary.save(os.path.join(TEMP_FOLDER, 'bahrain.dict'))  # store the dictionary, for future reference\n",
    "#print(dictionary)"
   ]
  },
  {
   "cell_type": "code",
   "execution_count": 13,
   "metadata": {
    "_cell_guid": "38f1a502-a6fe-4c3d-b8bf-27c9272c3753",
    "_uuid": "3944206c06ca0af2822f81c3ef0dadf994f5e023",
    "collapsed": true
   },
   "outputs": [],
   "source": [
    "#print(dictionary.token2id)"
   ]
  },
  {
   "cell_type": "code",
   "execution_count": 14,
   "metadata": {
    "_cell_guid": "b80d4a62-6126-48e5-aba8-8de557c5d00d",
    "_uuid": "040914ec58061f9f66a39df81c8c1ae4cb9dbeb5"
   },
   "outputs": [
    {
     "name": "stderr",
     "output_type": "stream",
     "text": [
      "2018-11-03 14:09:40,642 : INFO : storing corpus in Matrix Market format to C:\\Users\\Ayah\\AppData\\Local\\Temp\\elon.mm\n",
      "2018-11-03 14:09:40,646 : INFO : saving sparse matrix to C:\\Users\\Ayah\\AppData\\Local\\Temp\\elon.mm\n",
      "2018-11-03 14:09:40,647 : INFO : PROGRESS: saving document #0\n",
      "2018-11-03 14:09:40,697 : INFO : PROGRESS: saving document #1000\n",
      "2018-11-03 14:09:40,748 : INFO : PROGRESS: saving document #2000\n",
      "2018-11-03 14:09:40,821 : INFO : PROGRESS: saving document #3000\n",
      "2018-11-03 14:09:40,903 : INFO : PROGRESS: saving document #4000\n",
      "2018-11-03 14:09:40,960 : INFO : PROGRESS: saving document #5000\n",
      "2018-11-03 14:09:40,996 : INFO : PROGRESS: saving document #6000\n",
      "2018-11-03 14:09:41,053 : INFO : PROGRESS: saving document #7000\n",
      "2018-11-03 14:09:41,118 : INFO : PROGRESS: saving document #8000\n",
      "2018-11-03 14:09:41,172 : INFO : PROGRESS: saving document #9000\n",
      "2018-11-03 14:09:41,224 : INFO : PROGRESS: saving document #10000\n",
      "2018-11-03 14:09:41,269 : INFO : PROGRESS: saving document #11000\n",
      "2018-11-03 14:09:41,341 : INFO : PROGRESS: saving document #12000\n",
      "2018-11-03 14:09:41,403 : INFO : PROGRESS: saving document #13000\n",
      "2018-11-03 14:09:41,447 : INFO : PROGRESS: saving document #14000\n",
      "2018-11-03 14:09:41,487 : INFO : PROGRESS: saving document #15000\n",
      "2018-11-03 14:09:41,493 : INFO : saved 15093x27867 matrix, density=0.062% (260728/420596631)\n",
      "2018-11-03 14:09:41,530 : INFO : saving MmCorpus index to C:\\Users\\Ayah\\AppData\\Local\\Temp\\elon.mm.index\n"
     ]
    }
   ],
   "source": [
    "corpus = [dictionary.doc2bow(text) for text in texts]\n",
    "corpora.MmCorpus.serialize(os.path.join(TEMP_FOLDER, 'elon.mm'), corpus)  # store to disk, for later use"
   ]
  },
  {
   "cell_type": "markdown",
   "metadata": {
    "_cell_guid": "30731758-2dd0-482c-8ad8-995ebf37b686",
    "_uuid": "547b528b1af3eac74eed647c6013c67304a44f42"
   },
   "source": [
    "In the previous cells, we created a corpus of documents represented as a stream of vectors. To continue, let’s fire up gensim and use that corpus:"
   ]
  },
  {
   "cell_type": "code",
   "execution_count": 15,
   "metadata": {
    "_cell_guid": "c654c601-bf99-4ca3-8fcd-c035dbe8af8f",
    "_uuid": "b446ef66b9fb10675b0b8c0216527a35cddb5fa4",
    "collapsed": true
   },
   "outputs": [],
   "source": [
    "from gensim import corpora, models, similarities"
   ]
  },
  {
   "cell_type": "markdown",
   "metadata": {
    "_cell_guid": "8c2fae3e-3c57-4a1b-b302-7f9bfe2fb5a0",
    "_uuid": "516974a573c993c655cec2ea8ccda4a3e4e3d899"
   },
   "source": [
    "### Creating a transformation"
   ]
  },
  {
   "cell_type": "markdown",
   "metadata": {
    "_cell_guid": "c8cc6eba-dfde-4078-93aa-49ec66b79483",
    "_uuid": "95d9a030b86689a097ff84cf988ce6bfee42b6d6"
   },
   "source": [
    "\n",
    "The transformations are standard Python objects, typically initialized by means of a training corpus:\n",
    "\n",
    "Different transformations may require different initialization parameters; in case of TfIdf, the “training” consists simply of\n",
    "going through the supplied corpus once and computing document frequencies of all its features.\n",
    "Training other models, such as Latent Semantic Analysis or Latent Dirichlet Allocation, is much more involved and,\n",
    "consequently, takes much more time."
   ]
  },
  {
   "cell_type": "code",
   "execution_count": 16,
   "metadata": {
    "_cell_guid": "a7966606-dc6a-44a8-8fe5-d1a79929e203",
    "_uuid": "91cd194bf43c84b564c693c6e0ea109d28724abc"
   },
   "outputs": [
    {
     "name": "stderr",
     "output_type": "stream",
     "text": [
      "2018-11-03 14:09:51,592 : INFO : collecting document frequencies\n",
      "2018-11-03 14:09:51,597 : INFO : PROGRESS: processing document #0\n",
      "2018-11-03 14:09:51,675 : INFO : PROGRESS: processing document #10000\n",
      "2018-11-03 14:09:51,707 : INFO : calculating IDF weights for 15093 documents and 27866 features (260728 matrix non-zeros)\n"
     ]
    }
   ],
   "source": [
    "tfidf = models.TfidfModel(corpus) # step 1 -- initialize a model"
   ]
  },
  {
   "cell_type": "markdown",
   "metadata": {
    "_cell_guid": "47a7ad12-9917-4a74-b190-b6f039e87baf",
    "_uuid": "902cd861d68967c9d6d78f7d074fe6e4d31e4547"
   },
   "source": [
    "### Note\n",
    "Transformations always convert between two specific vector spaces. The same vector space (= the same set of feature ids) must be used for training as well as for subsequent vector transformations. Failure to use the same input feature space, such as applying a different string preprocessing, using different feature ids, or using bag-of-words input vectors where TfIdf vectors are expected, will result in feature mismatch during transformation calls and consequently in either garbage output and/or runtime exceptions."
   ]
  },
  {
   "cell_type": "markdown",
   "metadata": {
    "_cell_guid": "31035482-743c-4143-a016-af6e7aafa8b2",
    "_uuid": "12084cb081ffae38fd076b271f748faa6e3ff5af"
   },
   "source": [
    "From now on, tfidf is treated as a read-only object that can be used to apply a transformation to a whole corpus:"
   ]
  },
  {
   "cell_type": "code",
   "execution_count": 17,
   "metadata": {
    "_cell_guid": "8d3211bd-a12d-4518-b822-eb92df9a564d",
    "_uuid": "6ccc9986f35d02916c62139410d0cbc6455e3149",
    "collapsed": true
   },
   "outputs": [],
   "source": [
    "corpus_tfidf = tfidf[corpus]  # step 2 -- use the model to transform vectors"
   ]
  },
  {
   "cell_type": "markdown",
   "metadata": {
    "_cell_guid": "6096b0ef-bb2b-40d1-aac4-f538dae0f1e3",
    "_uuid": "39f769bd5e8fea11c952a7c33bf32b329618f837"
   },
   "source": [
    "### LDA:\n",
    "https://en.wikipedia.org/wiki/Latent_Dirichlet_allocation"
   ]
  },
  {
   "cell_type": "markdown",
   "metadata": {
    "_cell_guid": "7c793905-48bb-4526-9e78-1d5d1a9ed70b",
    "_uuid": "8aca0810b66308f947046dd9689409fc56067b1a"
   },
   "source": [
    "Latent Dirichlet Allocation, LDA is yet another transformation from bag-of-words counts into a topic space of lower dimensionality. LDA is a probabilistic extension of LSA (also called multinomial PCA), so LDA’s topics can be interpreted as probability distributions over words. These distributions are, just like with LSA, inferred automatically from a training corpus. Documents are in turn interpreted as a (soft) mixture of these topics (again, just like with LSA)."
   ]
  },
  {
   "cell_type": "code",
   "execution_count": 18,
   "metadata": {
    "_cell_guid": "cc49ccb3-bd68-4359-8fec-7f6cbff2a182",
    "_uuid": "5771a4cc1b5f20878d52409e11f3fecaa59a9ac6",
    "collapsed": true
   },
   "outputs": [],
   "source": [
    "total_topics = 5"
   ]
  },
  {
   "cell_type": "code",
   "execution_count": 19,
   "metadata": {
    "_cell_guid": "8fb9df90-fdc2-491b-a2aa-02c0eca4c29a",
    "_uuid": "db447043098a7546237bbaf4c7d1145103209160"
   },
   "outputs": [
    {
     "name": "stderr",
     "output_type": "stream",
     "text": [
      "2018-11-03 14:10:09,896 : INFO : using symmetric alpha at 0.2\n",
      "2018-11-03 14:10:09,901 : INFO : using symmetric eta at 0.2\n",
      "2018-11-03 14:10:09,909 : INFO : using serial LDA version on this node\n",
      "2018-11-03 14:10:09,938 : INFO : running online (single-pass) LDA training, 5 topics, 1 passes over the supplied corpus of 15093 documents, updating model once every 2000 documents, evaluating perplexity every 15093 documents, iterating 50x with a convergence threshold of 0.001000\n",
      "2018-11-03 14:10:09,941 : WARNING : too few updates, training might not converge; consider increasing the number of passes or iterations to improve accuracy\n",
      "2018-11-03 14:10:09,945 : INFO : PROGRESS: pass 0, at document #2000/15093\n",
      "2018-11-03 14:10:12,375 : INFO : merging changes from 2000 documents into a model of 15093 documents\n",
      "2018-11-03 14:10:12,439 : INFO : topic #0 (0.200): 0.040*\"في\" + 0.030*\"البحرين\" + 0.027*\"من\" + 0.021*\"بصوتك\" + 0.020*\"تقدر\" + 0.019*\"الانتخابات\" + 0.019*\"انتخابات\" + 0.013*\"علي\" + 0.008*\"النيابيه\" + 0.008*\"لانتخابات\"\n",
      "2018-11-03 14:10:12,443 : INFO : topic #1 (0.200): 0.033*\"البحرين\" + 0.033*\"انتخابات\" + 0.029*\"في\" + 0.022*\"الانتخابات\" + 0.019*\"علي\" + 0.016*\"لانتخابات\" + 0.013*\"بصوتك\" + 0.013*\"تقدر\" + 0.011*\"مجلس\" + 0.010*\"النواب\"\n",
      "2018-11-03 14:10:12,447 : INFO : topic #2 (0.200): 0.021*\"في\" + 0.019*\"من\" + 0.015*\"تقدر\" + 0.015*\"بصوتك\" + 0.013*\"علي\" + 0.011*\"البحرين\" + 0.009*\"ان\" + 0.007*\"الانتخابيه\" + 0.007*\"و\" + 0.006*\"الناخبين\"\n",
      "2018-11-03 14:10:12,453 : INFO : topic #3 (0.200): 0.026*\"من\" + 0.021*\"في\" + 0.017*\"لانتخابات\" + 0.013*\"بصوتك\" + 0.013*\"تقدر\" + 0.011*\"البحرين\" + 0.010*\"الترشح\" + 0.009*\"علي\" + 0.009*\"عن\" + 0.008*\"النيابيه\"\n",
      "2018-11-03 14:10:12,457 : INFO : topic #4 (0.200): 0.021*\"من\" + 0.019*\"بصوتك\" + 0.019*\"تقدر\" + 0.013*\"في\" + 0.012*\"علي\" + 0.011*\"البحرين\" + 0.007*\"الجنه\" + 0.007*\"ان\" + 0.006*\"الداءره\" + 0.006*\"او\"\n",
      "2018-11-03 14:10:12,459 : INFO : topic diff=4.949858, rho=1.000000\n",
      "2018-11-03 14:10:12,462 : INFO : PROGRESS: pass 0, at document #4000/15093\n",
      "2018-11-03 14:10:14,719 : INFO : merging changes from 2000 documents into a model of 15093 documents\n",
      "2018-11-03 14:10:14,751 : INFO : topic #0 (0.200): 0.035*\"البحرين\" + 0.035*\"في\" + 0.026*\"من\" + 0.019*\"انتخابات\" + 0.016*\"•\" + 0.012*\"الانتخابات\" + 0.010*\"علي\" + 0.010*\"٢٠١٨\" + 0.008*\"عن\" + 0.007*\"الترشح\"\n",
      "2018-11-03 14:10:14,755 : INFO : topic #1 (0.200): 0.052*\"انتخابات\" + 0.050*\"البحرين\" + 0.042*\"•\" + 0.024*\"٢٠١٨\" + 0.022*\"في\" + 0.019*\"الانتخابات\" + 0.017*\"الترشح\" + 0.016*\"لانتخابات\" + 0.013*\"علي\" + 0.012*\"مجلس\"\n",
      "2018-11-03 14:10:14,759 : INFO : topic #2 (0.200): 0.022*\"في\" + 0.017*\"من\" + 0.014*\"علي\" + 0.012*\"ان\" + 0.012*\"البحرين\" + 0.007*\"الي\" + 0.007*\"عن\" + 0.006*\"و\" + 0.005*\"الانتخابيه\" + 0.004*\"الشماليه\"\n",
      "2018-11-03 14:10:14,765 : INFO : topic #3 (0.200): 0.022*\"عن\" + 0.020*\"في\" + 0.018*\"من\" + 0.015*\"الداءره\" + 0.014*\"البحرين\" + 0.013*\"الترشح\" + 0.013*\"المحرق\" + 0.012*\"لانتخابات\" + 0.011*\"اعلن\" + 0.009*\"يترشح\"\n",
      "2018-11-03 14:10:14,770 : INFO : topic #4 (0.200): 0.022*\"من\" + 0.013*\"في\" + 0.012*\"البحرين\" + 0.012*\"علي\" + 0.009*\"لتواصل\" + 0.009*\"ان\" + 0.008*\"الداءره\" + 0.008*\"المترشح\" + 0.007*\"حساب\" + 0.007*\"عن\"\n",
      "2018-11-03 14:10:14,774 : INFO : topic diff=1.334061, rho=0.707107\n",
      "2018-11-03 14:10:14,777 : INFO : PROGRESS: pass 0, at document #6000/15093\n",
      "2018-11-03 14:10:16,339 : INFO : merging changes from 2000 documents into a model of 15093 documents\n",
      "2018-11-03 14:10:16,367 : INFO : topic #0 (0.200): 0.037*\"في\" + 0.033*\"البحرين\" + 0.028*\"من\" + 0.013*\"•\" + 0.011*\"لتواصل\" + 0.011*\"انتخابات\" + 0.009*\"علي\" + 0.007*\"الانتخابات\" + 0.007*\"٢٠١٨\" + 0.007*\"١\"\n",
      "2018-11-03 14:10:16,368 : INFO : topic #1 (0.200): 0.076*\"•\" + 0.046*\"البحرين\" + 0.039*\"انتخابات\" + 0.031*\"٢٠١٨\" + 0.021*\"في\" + 0.018*\"المهمه\" + 0.017*\"لمزيد\" + 0.017*\"الاخبار\" + 0.016*\"الترشح\" + 0.015*\"تابع\"\n",
      "2018-11-03 14:10:16,373 : INFO : topic #2 (0.200): 0.024*\"في\" + 0.016*\"من\" + 0.014*\"علي\" + 0.012*\"البحرين\" + 0.008*\"وزير\" + 0.008*\"ان\" + 0.007*\"سمو\" + 0.007*\"الي\" + 0.007*\"بن\" + 0.006*\"الشيخ\"\n",
      "2018-11-03 14:10:16,375 : INFO : topic #3 (0.200): 0.020*\"في\" + 0.019*\"عن\" + 0.017*\"من\" + 0.014*\"البحرين\" + 0.012*\"الداءره\" + 0.011*\"المحرق\" + 0.010*\"الترشح\" + 0.009*\"لانتخابات\" + 0.009*\"اعلن\" + 0.008*\"بن\"\n",
      "2018-11-03 14:10:16,377 : INFO : topic #4 (0.200): 0.023*\"من\" + 0.017*\"لتواصل\" + 0.014*\"في\" + 0.012*\"البحرين\" + 0.011*\"علي\" + 0.007*\"مع\" + 0.007*\"ان\" + 0.006*\"سمو\" + 0.006*\"واتساب\" + 0.006*\"…\"\n",
      "2018-11-03 14:10:16,380 : INFO : topic diff=0.816982, rho=0.577350\n",
      "2018-11-03 14:10:16,384 : INFO : PROGRESS: pass 0, at document #8000/15093\n",
      "2018-11-03 14:10:17,670 : INFO : merging changes from 2000 documents into a model of 15093 documents\n",
      "2018-11-03 14:10:17,717 : INFO : topic #0 (0.200): 0.068*\"البحرين\" + 0.040*\"في\" + 0.030*\"وكاله\" + 0.022*\"من\" + 0.015*\"انباء\" + 0.008*\"مع\" + 0.008*\"ملكه\" + 0.008*\"علي\" + 0.007*\"•\" + 0.006*\"لتواصل\"\n",
      "2018-11-03 14:10:17,717 : INFO : topic #1 (0.200): 0.067*\"•\" + 0.050*\"البحرين\" + 0.035*\"انتخابات\" + 0.027*\"٢٠١٨\" + 0.020*\"في\" + 0.016*\"المهمه\" + 0.015*\"لمزيد\" + 0.015*\"الاخبار\" + 0.014*\"الترشح\" + 0.013*\"تابع\"\n",
      "2018-11-03 14:10:17,723 : INFO : topic #2 (0.200): 0.047*\"انباء\" + 0.036*\"وكاله\" + 0.031*\"البحرين\" + 0.022*\"في\" + 0.012*\"سمو\" + 0.012*\"من\" + 0.012*\"علي\" + 0.012*\"وزير\" + 0.011*\"رءيس\" + 0.009*\"بن\"\n",
      "2018-11-03 14:10:17,726 : INFO : topic #3 (0.200): 0.021*\"البحرين\" + 0.018*\"في\" + 0.015*\"الوزراء\" + 0.015*\"عن\" + 0.015*\"من\" + 0.011*\"رءيس\" + 0.010*\"بن\" + 0.009*\"المحرق\" + 0.009*\"الداءره\" + 0.008*\"الملك\"\n",
      "2018-11-03 14:10:17,728 : INFO : topic #4 (0.200): 0.020*\"البحرين\" + 0.019*\"من\" + 0.013*\"في\" + 0.012*\"لتواصل\" + 0.010*\"علي\" + 0.009*\"مع\" + 0.007*\"سمو\" + 0.007*\"ولي\" + 0.005*\"الدولي\" + 0.005*\"العهد\"\n",
      "2018-11-03 14:10:17,731 : INFO : topic diff=0.640433, rho=0.500000\n",
      "2018-11-03 14:10:17,735 : INFO : PROGRESS: pass 0, at document #10000/15093\n",
      "2018-11-03 14:10:19,113 : INFO : merging changes from 2000 documents into a model of 15093 documents\n",
      "2018-11-03 14:10:19,149 : INFO : topic #0 (0.200): 0.053*\"البحرين\" + 0.047*\"في\" + 0.023*\"ملكه\" + 0.021*\"من\" + 0.015*\"وكاله\" + 0.011*\"مع\" + 0.011*\"العربيه\" + 0.011*\"علي\" + 0.008*\"انباء\" + 0.005*\"سفاره\"\n",
      "2018-11-03 14:10:19,151 : INFO : topic #1 (0.200): 0.053*\"•\" + 0.046*\"البحرين\" + 0.028*\"انتخابات\" + 0.022*\"٢٠١٨\" + 0.019*\"في\" + 0.019*\"خارجيه\" + 0.012*\"المهمه\" + 0.012*\"الاخبار\" + 0.012*\"لمزيد\" + 0.011*\"من\"\n",
      "2018-11-03 14:10:19,154 : INFO : topic #2 (0.200): 0.027*\"الخارجيه\" + 0.027*\"انباء\" + 0.026*\"البحرين\" + 0.026*\"وزير\" + 0.025*\"في\" + 0.021*\"وكاله\" + 0.014*\"معالي\" + 0.013*\"علي\" + 0.012*\"من\" + 0.011*\"وزاره\"\n",
      "2018-11-03 14:10:19,156 : INFO : topic #3 (0.200): 0.019*\"في\" + 0.016*\"البحرين\" + 0.015*\"عن\" + 0.014*\"من\" + 0.013*\"الوزراء\" + 0.009*\"بن\" + 0.008*\"الملك\" + 0.008*\"رءيس\" + 0.008*\"المفدي\" + 0.007*\"علي\"\n",
      "2018-11-03 14:10:19,159 : INFO : topic #4 (0.200): 0.019*\"من\" + 0.014*\"البحرين\" + 0.014*\"في\" + 0.012*\"علي\" + 0.011*\"مع\" + 0.007*\"اله\" + 0.007*\"سفير\" + 0.007*\"الدولي\" + 0.007*\"لتواصل\" + 0.006*\"الام\"\n",
      "2018-11-03 14:10:19,161 : INFO : topic diff=0.679202, rho=0.447214\n",
      "2018-11-03 14:10:19,163 : INFO : PROGRESS: pass 0, at document #12000/15093\n",
      "2018-11-03 14:10:20,336 : INFO : merging changes from 2000 documents into a model of 15093 documents\n",
      "2018-11-03 14:10:20,365 : INFO : topic #0 (0.200): 0.047*\"في\" + 0.039*\"البحرين\" + 0.022*\"من\" + 0.016*\"ملكه\" + 0.013*\"علي\" + 0.011*\"مع\" + 0.010*\"وكاله\" + 0.009*\"العربيه\" + 0.005*\"حادث\" + 0.005*\"التعاون\"\n",
      "2018-11-03 14:10:20,368 : INFO : topic #1 (0.200): 0.042*\"•\" + 0.037*\"البحرين\" + 0.022*\"انتخابات\" + 0.019*\"في\" + 0.018*\"٢٠١٨\" + 0.015*\"خارجيه\" + 0.012*\"من\" + 0.010*\"علي\" + 0.010*\"المهمه\" + 0.009*\"الاخبار\"\n",
      "2018-11-03 14:10:20,372 : INFO : topic #2 (0.200): 0.026*\"في\" + 0.021*\"وزير\" + 0.018*\"علي\" + 0.016*\"البحرين\" + 0.015*\"معالي\" + 0.015*\"من\" + 0.015*\"الخارجيه\" + 0.015*\"انباء\" + 0.011*\"وكاله\" + 0.011*\"الداخليه\"\n",
      "2018-11-03 14:10:20,375 : INFO : topic #3 (0.200): 0.019*\"من\" + 0.017*\"في\" + 0.013*\"عن\" + 0.012*\"شارع\" + 0.011*\"بن\" + 0.011*\"علي\" + 0.010*\"البحرين\" + 0.009*\"منطقه\" + 0.009*\"خليفه\" + 0.009*\"مروري\"\n",
      "2018-11-03 14:10:20,376 : INFO : topic #4 (0.200): 0.023*\"من\" + 0.015*\"علي\" + 0.013*\"في\" + 0.011*\"مع\" + 0.010*\"البحرين\" + 0.006*\"المروريه\" + 0.006*\"الدولي\" + 0.006*\"سفير\" + 0.005*\"المشترك\" + 0.005*\"التواصل\"\n",
      "2018-11-03 14:10:20,380 : INFO : topic diff=0.633031, rho=0.408248\n"
     ]
    },
    {
     "name": "stderr",
     "output_type": "stream",
     "text": [
      "2018-11-03 14:10:20,382 : INFO : PROGRESS: pass 0, at document #14000/15093\n",
      "2018-11-03 14:10:21,579 : INFO : merging changes from 2000 documents into a model of 15093 documents\n",
      "2018-11-03 14:10:21,610 : INFO : topic #0 (0.200): 0.046*\"في\" + 0.033*\"البحرين\" + 0.021*\"من\" + 0.012*\"ملكه\" + 0.012*\"علي\" + 0.011*\"مع\" + 0.007*\"وكاله\" + 0.007*\"العربيه\" + 0.006*\"السعوديه\" + 0.005*\"التعاون\"\n",
      "2018-11-03 14:10:21,613 : INFO : topic #1 (0.200): 0.046*\"اخبار\" + 0.030*\"البحرين\" + 0.028*\"•\" + 0.018*\"في\" + 0.015*\"انتخابات\" + 0.012*\"٢٠١٨\" + 0.011*\"خارجيه\" + 0.010*\"من\" + 0.009*\"علي\" + 0.008*\"مجلس\"\n",
      "2018-11-03 14:10:21,617 : INFO : topic #2 (0.200): 0.027*\"في\" + 0.021*\"وزير\" + 0.016*\"علي\" + 0.014*\"البحرين\" + 0.014*\"من\" + 0.014*\"الخارجيه\" + 0.011*\"معالي\" + 0.011*\"انباء\" + 0.008*\"وكاله\" + 0.008*\"الداخليه\"\n",
      "2018-11-03 14:10:21,621 : INFO : topic #3 (0.200): 0.017*\"من\" + 0.017*\"في\" + 0.014*\"بن\" + 0.011*\"عن\" + 0.010*\"الوزراء\" + 0.010*\"شارع\" + 0.010*\"علي\" + 0.008*\"البحرين\" + 0.008*\"الملك\" + 0.008*\"خليفه\"\n",
      "2018-11-03 14:10:21,622 : INFO : topic #4 (0.200): 0.040*\"الايام\" + 0.020*\"من\" + 0.014*\"اخبار\" + 0.014*\"في\" + 0.014*\"علي\" + 0.011*\"مع\" + 0.008*\"البحرين\" + 0.006*\"الدولي\" + 0.006*\"ولي\" + 0.005*\"العهد\"\n",
      "2018-11-03 14:10:21,626 : INFO : topic diff=0.552012, rho=0.377964\n",
      "2018-11-03 14:10:22,506 : INFO : -9.687 per-word bound, 824.5 perplexity estimate based on a held-out corpus of 1093 documents with 12408 words\n",
      "2018-11-03 14:10:22,506 : INFO : PROGRESS: pass 0, at document #15093/15093\n",
      "2018-11-03 14:10:23,141 : INFO : merging changes from 1093 documents into a model of 15093 documents\n",
      "2018-11-03 14:10:23,168 : INFO : topic #0 (0.200): 0.046*\"في\" + 0.030*\"البحرين\" + 0.019*\"من\" + 0.011*\"علي\" + 0.011*\"مع\" + 0.010*\"ملكه\" + 0.006*\"العربيه\" + 0.006*\"السعوديه\" + 0.006*\"التعاون\" + 0.006*\"وكاله\"\n",
      "2018-11-03 14:10:23,168 : INFO : topic #1 (0.200): 0.065*\"اخبار\" + 0.024*\"البحرين\" + 0.019*\"في\" + 0.019*\"•\" + 0.011*\"انتخابات\" + 0.010*\"من\" + 0.009*\"علي\" + 0.008*\"مجلس\" + 0.008*\"خارجيه\" + 0.008*\"٢٠١٨\"\n",
      "2018-11-03 14:10:23,175 : INFO : topic #2 (0.200): 0.027*\"في\" + 0.019*\"وزير\" + 0.015*\"علي\" + 0.013*\"من\" + 0.013*\"البحرين\" + 0.011*\"الخارجيه\" + 0.008*\"معالي\" + 0.008*\"رءيس\" + 0.008*\"انباء\" + 0.007*\"الداخليه\"\n",
      "2018-11-03 14:10:23,177 : INFO : topic #3 (0.200): 0.017*\"في\" + 0.016*\"بن\" + 0.016*\"من\" + 0.011*\"الوزراء\" + 0.010*\"عن\" + 0.009*\"علي\" + 0.009*\"الملك\" + 0.008*\"شارع\" + 0.008*\"رءيس\" + 0.007*\"خليفه\"\n",
      "2018-11-03 14:10:23,179 : INFO : topic #4 (0.200): 0.078*\"الايام\" + 0.043*\"اخبار\" + 0.018*\"من\" + 0.015*\"في\" + 0.013*\"علي\" + 0.010*\"مع\" + 0.007*\"البحرين\" + 0.005*\"الدولي\" + 0.005*\"ولي\" + 0.005*\"العهد\"\n",
      "2018-11-03 14:10:23,182 : INFO : topic diff=0.435359, rho=0.353553\n"
     ]
    }
   ],
   "source": [
    "lda = models.LdaModel(corpus, id2word=dictionary, num_topics=total_topics)\n",
    "corpus_lda = lda[corpus_tfidf] # create a double wrapper over the original corpus: bow->tfidf->fold-in-lsi"
   ]
  },
  {
   "cell_type": "code",
   "execution_count": 20,
   "metadata": {
    "_cell_guid": "dfbb2723-ec7e-490e-8abd-fb646335bc55",
    "_uuid": "53e59fb13b5f55abb2e8158cdd0b244bcb055b3f"
   },
   "outputs": [
    {
     "data": {
      "text/plain": [
       "[(0,\n",
       "  '0.046*\"في\" + 0.030*\"البحرين\" + 0.019*\"من\" + 0.011*\"علي\" + 0.011*\"مع\" + 0.010*\"ملكه\"'),\n",
       " (1,\n",
       "  '0.065*\"اخبار\" + 0.024*\"البحرين\" + 0.019*\"في\" + 0.019*\"•\" + 0.011*\"انتخابات\" + 0.010*\"من\"'),\n",
       " (2,\n",
       "  '0.027*\"في\" + 0.019*\"وزير\" + 0.015*\"علي\" + 0.013*\"من\" + 0.013*\"البحرين\" + 0.011*\"الخارجيه\"'),\n",
       " (3,\n",
       "  '0.017*\"في\" + 0.016*\"بن\" + 0.016*\"من\" + 0.011*\"الوزراء\" + 0.010*\"عن\" + 0.009*\"علي\"'),\n",
       " (4,\n",
       "  '0.078*\"الايام\" + 0.043*\"اخبار\" + 0.018*\"من\" + 0.015*\"في\" + 0.013*\"علي\" + 0.010*\"مع\"')]"
      ]
     },
     "execution_count": 20,
     "metadata": {},
     "output_type": "execute_result"
    }
   ],
   "source": [
    "#Show first n important word in the topics:\n",
    "lda.show_topics(total_topics,6)"
   ]
  },
  {
   "cell_type": "code",
   "execution_count": 21,
   "metadata": {
    "_cell_guid": "5e31a267-03c5-4a4e-8a73-c72f7abd4644",
    "_uuid": "25d66c5df87a0c365dcd0725e779dc8724ab63af",
    "collapsed": true,
    "scrolled": true
   },
   "outputs": [],
   "source": [
    "from collections import OrderedDict\n",
    "\n",
    "data_lda = {i: OrderedDict(lda.show_topic(i,25)) for i in range(total_topics)}\n",
    "#data_lda"
   ]
  },
  {
   "cell_type": "code",
   "execution_count": 22,
   "metadata": {
    "_cell_guid": "409fed91-48dd-4355-9587-a6299b63f181",
    "_uuid": "edeb3eedc9a10cc135c7bbef50fda042f330482d"
   },
   "outputs": [
    {
     "name": "stdout",
     "output_type": "stream",
     "text": [
      "(85, 5)\n",
      "(5, 85)\n"
     ]
    }
   ],
   "source": [
    "import pandas as pd\n",
    "\n",
    "df_lda = pd.DataFrame(data_lda)\n",
    "print(df_lda.shape)\n",
    "df_lda = df_lda.fillna(0).T\n",
    "print(df_lda.shape)"
   ]
  },
  {
   "cell_type": "code",
   "execution_count": 23,
   "metadata": {
    "_cell_guid": "6410b413-a0d4-49be-a2c4-6844cfc8cb0c",
    "_uuid": "f81dd0ed3ef908b520c2416cf626473a4dd8acd6"
   },
   "outputs": [
    {
     "data": {
      "text/html": [
       "<div>\n",
       "<style scoped>\n",
       "    .dataframe tbody tr th:only-of-type {\n",
       "        vertical-align: middle;\n",
       "    }\n",
       "\n",
       "    .dataframe tbody tr th {\n",
       "        vertical-align: top;\n",
       "    }\n",
       "\n",
       "    .dataframe thead th {\n",
       "        text-align: right;\n",
       "    }\n",
       "</style>\n",
       "<table border=\"1\" class=\"dataframe\">\n",
       "  <thead>\n",
       "    <tr style=\"text-align: right;\">\n",
       "      <th></th>\n",
       "      <th>اخبار</th>\n",
       "      <th>الاخبار</th>\n",
       "      <th>الام</th>\n",
       "      <th>الامن</th>\n",
       "      <th>الانتخابات</th>\n",
       "      <th>الانسان</th>\n",
       "      <th>الايام</th>\n",
       "      <th>البحرين</th>\n",
       "      <th>الترشح</th>\n",
       "      <th>التعاون</th>\n",
       "      <th>...</th>\n",
       "      <th>واتساب</th>\n",
       "      <th>وزاره</th>\n",
       "      <th>وزير</th>\n",
       "      <th>وكاله</th>\n",
       "      <th>ولي</th>\n",
       "      <th>يتلقي</th>\n",
       "      <th>يستقبل</th>\n",
       "      <th>يشارك</th>\n",
       "      <th>٢٠١٨</th>\n",
       "      <th>•</th>\n",
       "    </tr>\n",
       "  </thead>\n",
       "  <tbody>\n",
       "    <tr>\n",
       "      <th>0</th>\n",
       "      <td>0.000000</td>\n",
       "      <td>0.000000</td>\n",
       "      <td>0.000000</td>\n",
       "      <td>0.000000</td>\n",
       "      <td>0.000000</td>\n",
       "      <td>0.003195</td>\n",
       "      <td>0.004706</td>\n",
       "      <td>0.029513</td>\n",
       "      <td>0.000000</td>\n",
       "      <td>0.005877</td>\n",
       "      <td>...</td>\n",
       "      <td>0.000000</td>\n",
       "      <td>0.00000</td>\n",
       "      <td>0.002896</td>\n",
       "      <td>0.005703</td>\n",
       "      <td>0.000000</td>\n",
       "      <td>0.003982</td>\n",
       "      <td>0.000000</td>\n",
       "      <td>0.002705</td>\n",
       "      <td>0.00000</td>\n",
       "      <td>0.000000</td>\n",
       "    </tr>\n",
       "    <tr>\n",
       "      <th>1</th>\n",
       "      <td>0.065400</td>\n",
       "      <td>0.004327</td>\n",
       "      <td>0.000000</td>\n",
       "      <td>0.000000</td>\n",
       "      <td>0.004954</td>\n",
       "      <td>0.000000</td>\n",
       "      <td>0.004027</td>\n",
       "      <td>0.024189</td>\n",
       "      <td>0.004955</td>\n",
       "      <td>0.000000</td>\n",
       "      <td>...</td>\n",
       "      <td>0.003057</td>\n",
       "      <td>0.00000</td>\n",
       "      <td>0.000000</td>\n",
       "      <td>0.000000</td>\n",
       "      <td>0.000000</td>\n",
       "      <td>0.000000</td>\n",
       "      <td>0.000000</td>\n",
       "      <td>0.000000</td>\n",
       "      <td>0.00805</td>\n",
       "      <td>0.018795</td>\n",
       "    </tr>\n",
       "    <tr>\n",
       "      <th>2</th>\n",
       "      <td>0.000000</td>\n",
       "      <td>0.000000</td>\n",
       "      <td>0.000000</td>\n",
       "      <td>0.005304</td>\n",
       "      <td>0.000000</td>\n",
       "      <td>0.000000</td>\n",
       "      <td>0.000000</td>\n",
       "      <td>0.013216</td>\n",
       "      <td>0.000000</td>\n",
       "      <td>0.000000</td>\n",
       "      <td>...</td>\n",
       "      <td>0.000000</td>\n",
       "      <td>0.00616</td>\n",
       "      <td>0.018989</td>\n",
       "      <td>0.006224</td>\n",
       "      <td>0.000000</td>\n",
       "      <td>0.000000</td>\n",
       "      <td>0.005532</td>\n",
       "      <td>0.000000</td>\n",
       "      <td>0.00000</td>\n",
       "      <td>0.000000</td>\n",
       "    </tr>\n",
       "    <tr>\n",
       "      <th>3</th>\n",
       "      <td>0.000000</td>\n",
       "      <td>0.000000</td>\n",
       "      <td>0.000000</td>\n",
       "      <td>0.000000</td>\n",
       "      <td>0.000000</td>\n",
       "      <td>0.000000</td>\n",
       "      <td>0.005707</td>\n",
       "      <td>0.007205</td>\n",
       "      <td>0.000000</td>\n",
       "      <td>0.000000</td>\n",
       "      <td>...</td>\n",
       "      <td>0.000000</td>\n",
       "      <td>0.00000</td>\n",
       "      <td>0.000000</td>\n",
       "      <td>0.000000</td>\n",
       "      <td>0.000000</td>\n",
       "      <td>0.000000</td>\n",
       "      <td>0.000000</td>\n",
       "      <td>0.000000</td>\n",
       "      <td>0.00000</td>\n",
       "      <td>0.000000</td>\n",
       "    </tr>\n",
       "    <tr>\n",
       "      <th>4</th>\n",
       "      <td>0.042516</td>\n",
       "      <td>0.000000</td>\n",
       "      <td>0.002841</td>\n",
       "      <td>0.000000</td>\n",
       "      <td>0.000000</td>\n",
       "      <td>0.000000</td>\n",
       "      <td>0.078321</td>\n",
       "      <td>0.007026</td>\n",
       "      <td>0.000000</td>\n",
       "      <td>0.000000</td>\n",
       "      <td>...</td>\n",
       "      <td>0.000000</td>\n",
       "      <td>0.00000</td>\n",
       "      <td>0.000000</td>\n",
       "      <td>0.000000</td>\n",
       "      <td>0.004972</td>\n",
       "      <td>0.000000</td>\n",
       "      <td>0.000000</td>\n",
       "      <td>0.000000</td>\n",
       "      <td>0.00000</td>\n",
       "      <td>0.000000</td>\n",
       "    </tr>\n",
       "  </tbody>\n",
       "</table>\n",
       "<p>5 rows × 85 columns</p>\n",
       "</div>"
      ],
      "text/plain": [
       "      اخبار   الاخبار      الام     الامن  الانتخابات   الانسان    الايام  \\\n",
       "0  0.000000  0.000000  0.000000  0.000000    0.000000  0.003195  0.004706   \n",
       "1  0.065400  0.004327  0.000000  0.000000    0.004954  0.000000  0.004027   \n",
       "2  0.000000  0.000000  0.000000  0.005304    0.000000  0.000000  0.000000   \n",
       "3  0.000000  0.000000  0.000000  0.000000    0.000000  0.000000  0.005707   \n",
       "4  0.042516  0.000000  0.002841  0.000000    0.000000  0.000000  0.078321   \n",
       "\n",
       "    البحرين    الترشح   التعاون    ...       واتساب    وزاره      وزير  \\\n",
       "0  0.029513  0.000000  0.005877    ...     0.000000  0.00000  0.002896   \n",
       "1  0.024189  0.004955  0.000000    ...     0.003057  0.00000  0.000000   \n",
       "2  0.013216  0.000000  0.000000    ...     0.000000  0.00616  0.018989   \n",
       "3  0.007205  0.000000  0.000000    ...     0.000000  0.00000  0.000000   \n",
       "4  0.007026  0.000000  0.000000    ...     0.000000  0.00000  0.000000   \n",
       "\n",
       "      وكاله       ولي     يتلقي    يستقبل     يشارك     ٢٠١٨         •  \n",
       "0  0.005703  0.000000  0.003982  0.000000  0.002705  0.00000  0.000000  \n",
       "1  0.000000  0.000000  0.000000  0.000000  0.000000  0.00805  0.018795  \n",
       "2  0.006224  0.000000  0.000000  0.005532  0.000000  0.00000  0.000000  \n",
       "3  0.000000  0.000000  0.000000  0.000000  0.000000  0.00000  0.000000  \n",
       "4  0.000000  0.004972  0.000000  0.000000  0.000000  0.00000  0.000000  \n",
       "\n",
       "[5 rows x 85 columns]"
      ]
     },
     "execution_count": 23,
     "metadata": {},
     "output_type": "execute_result"
    }
   ],
   "source": [
    "df_lda"
   ]
  },
  {
   "cell_type": "code",
   "execution_count": 25,
   "metadata": {
    "_cell_guid": "bc653426-6a63-4b41-887d-92d270dc1168",
    "_uuid": "415d0d14427e94f9900776f3126d5bf8c2391beb"
   },
   "outputs": [
    {
     "data": {
      "text/html": [
       "\n",
       "<link rel=\"stylesheet\" type=\"text/css\" href=\"https://cdn.rawgit.com/bmabey/pyLDAvis/files/ldavis.v1.0.0.css\">\n",
       "\n",
       "\n",
       "<div id=\"ldavis_el718021288870580083942570778\"></div>\n",
       "<script type=\"text/javascript\">\n",
       "\n",
       "var ldavis_el718021288870580083942570778_data = {\"mdsDat\": {\"Freq\": [30.03788948059082, 29.440340042114258, 18.98409652709961, 10.880450248718262, 10.6572265625], \"cluster\": [1, 1, 1, 1, 1], \"topics\": [1, 2, 3, 4, 5], \"x\": [-125.61732482910156, 86.40478515625, -114.32612609863281, 162.72052001953125, 19.24257469177246], \"y\": [129.34104919433594, 115.015380859375, -75.76932525634766, -75.0560073852539, -231.8203582763672]}, \"tinfo\": {\"Category\": [\"Default\", \"Default\", \"Default\", \"Default\", \"Default\", \"Default\", \"Default\", \"Default\", \"Default\", \"Default\", \"Default\", \"Default\", \"Default\", \"Default\", \"Default\", \"Default\", \"Default\", \"Default\", \"Default\", \"Default\", \"Default\", \"Default\", \"Default\", \"Default\", \"Default\", \"Default\", \"Default\", \"Default\", \"Default\", \"Default\", \"Topic1\", \"Topic1\", \"Topic1\", \"Topic1\", \"Topic1\", \"Topic1\", \"Topic1\", \"Topic1\", \"Topic1\", \"Topic1\", \"Topic1\", \"Topic1\", \"Topic1\", \"Topic1\", \"Topic1\", \"Topic1\", \"Topic1\", \"Topic1\", \"Topic1\", \"Topic1\", \"Topic1\", \"Topic1\", \"Topic1\", \"Topic1\", \"Topic1\", \"Topic1\", \"Topic1\", \"Topic1\", \"Topic1\", \"Topic1\", \"Topic1\", \"Topic1\", \"Topic1\", \"Topic1\", \"Topic1\", \"Topic1\", \"Topic1\", \"Topic1\", \"Topic1\", \"Topic1\", \"Topic1\", \"Topic1\", \"Topic1\", \"Topic1\", \"Topic1\", \"Topic1\", \"Topic1\", \"Topic1\", \"Topic1\", \"Topic1\", \"Topic1\", \"Topic1\", \"Topic1\", \"Topic1\", \"Topic1\", \"Topic1\", \"Topic1\", \"Topic1\", \"Topic1\", \"Topic1\", \"Topic1\", \"Topic1\", \"Topic1\", \"Topic1\", \"Topic1\", \"Topic1\", \"Topic1\", \"Topic1\", \"Topic1\", \"Topic1\", \"Topic1\", \"Topic2\", \"Topic2\", \"Topic2\", \"Topic2\", \"Topic2\", \"Topic2\", \"Topic2\", \"Topic2\", \"Topic2\", \"Topic2\", \"Topic2\", \"Topic2\", \"Topic2\", \"Topic2\", \"Topic2\", \"Topic2\", \"Topic2\", \"Topic2\", \"Topic2\", \"Topic2\", \"Topic2\", \"Topic2\", \"Topic2\", \"Topic2\", \"Topic2\", \"Topic2\", \"Topic2\", \"Topic2\", \"Topic2\", \"Topic2\", \"Topic2\", \"Topic2\", \"Topic2\", \"Topic2\", \"Topic2\", \"Topic2\", \"Topic2\", \"Topic2\", \"Topic2\", \"Topic2\", \"Topic2\", \"Topic2\", \"Topic2\", \"Topic2\", \"Topic2\", \"Topic2\", \"Topic2\", \"Topic2\", \"Topic2\", \"Topic2\", \"Topic2\", \"Topic2\", \"Topic2\", \"Topic2\", \"Topic2\", \"Topic2\", \"Topic2\", \"Topic2\", \"Topic2\", \"Topic2\", \"Topic2\", \"Topic2\", \"Topic2\", \"Topic2\", \"Topic2\", \"Topic2\", \"Topic2\", \"Topic2\", \"Topic2\", \"Topic2\", \"Topic2\", \"Topic3\", \"Topic3\", \"Topic3\", \"Topic3\", \"Topic3\", \"Topic3\", \"Topic3\", \"Topic3\", \"Topic3\", \"Topic3\", \"Topic3\", \"Topic3\", \"Topic3\", \"Topic3\", \"Topic3\", \"Topic3\", \"Topic3\", \"Topic3\", \"Topic3\", \"Topic3\", \"Topic3\", \"Topic3\", \"Topic3\", \"Topic3\", \"Topic3\", \"Topic3\", \"Topic3\", \"Topic3\", \"Topic3\", \"Topic3\", \"Topic3\", \"Topic3\", \"Topic3\", \"Topic3\", \"Topic3\", \"Topic3\", \"Topic3\", \"Topic3\", \"Topic3\", \"Topic3\", \"Topic3\", \"Topic3\", \"Topic3\", \"Topic3\", \"Topic3\", \"Topic3\", \"Topic3\", \"Topic3\", \"Topic3\", \"Topic3\", \"Topic3\", \"Topic3\", \"Topic3\", \"Topic3\", \"Topic3\", \"Topic3\", \"Topic3\", \"Topic3\", \"Topic3\", \"Topic3\", \"Topic4\", \"Topic4\", \"Topic4\", \"Topic4\", \"Topic4\", \"Topic4\", \"Topic4\", \"Topic4\", \"Topic4\", \"Topic4\", \"Topic4\", \"Topic4\", \"Topic4\", \"Topic4\", \"Topic4\", \"Topic4\", \"Topic4\", \"Topic4\", \"Topic4\", \"Topic4\", \"Topic4\", \"Topic4\", \"Topic4\", \"Topic4\", \"Topic4\", \"Topic4\", \"Topic4\", \"Topic4\", \"Topic4\", \"Topic4\", \"Topic4\", \"Topic4\", \"Topic4\", \"Topic4\", \"Topic4\", \"Topic4\", \"Topic4\", \"Topic4\", \"Topic4\", \"Topic4\", \"Topic4\", \"Topic4\", \"Topic4\", \"Topic4\", \"Topic4\", \"Topic4\", \"Topic4\", \"Topic4\", \"Topic4\", \"Topic4\", \"Topic4\", \"Topic4\", \"Topic4\", \"Topic4\", \"Topic4\", \"Topic4\", \"Topic4\", \"Topic4\", \"Topic4\", \"Topic4\", \"Topic4\", \"Topic4\", \"Topic4\", \"Topic4\", \"Topic4\", \"Topic5\", \"Topic5\", \"Topic5\", \"Topic5\", \"Topic5\", \"Topic5\", \"Topic5\", \"Topic5\", \"Topic5\", \"Topic5\", \"Topic5\", \"Topic5\", \"Topic5\", \"Topic5\", \"Topic5\", \"Topic5\", \"Topic5\", \"Topic5\", \"Topic5\", \"Topic5\", \"Topic5\", \"Topic5\", \"Topic5\", \"Topic5\", \"Topic5\", \"Topic5\", \"Topic5\", \"Topic5\", \"Topic5\", \"Topic5\", \"Topic5\", \"Topic5\", \"Topic5\", \"Topic5\", \"Topic5\", \"Topic5\", \"Topic5\", \"Topic5\", \"Topic5\", \"Topic5\", \"Topic5\", \"Topic5\", \"Topic5\", \"Topic5\", \"Topic5\", \"Topic5\", \"Topic5\", \"Topic5\", \"Topic5\", \"Topic5\", \"Topic5\", \"Topic5\", \"Topic5\", \"Topic5\", \"Topic5\", \"Topic5\", \"Topic5\", \"Topic5\", \"Topic5\", \"Topic5\", \"Topic5\", \"Topic5\", \"Topic5\", \"Topic5\", \"Topic5\", \"Topic5\", \"Topic5\", \"Topic5\", \"Topic5\"], \"Freq\": [264.0, 167.0, 60.0, 102.0, 56.0, 28.0, 37.0, 57.0, 24.0, 41.0, 228.0, 27.0, 86.0, 48.0, 13.0, 23.0, 53.0, 27.0, 47.0, 60.0, 22.0, 30.0, 16.0, 54.0, 25.0, 67.0, 19.0, 33.0, 44.0, 283.0, 23.406230926513672, 13.221610069274902, 10.330338478088379, 7.438434600830078, 7.229933261871338, 6.6670241355896, 5.012575626373291, 5.635918617248535, 4.359614849090576, 5.396807670593262, 7.735792636871338, 4.445725917816162, 4.208989143371582, 4.093275547027588, 4.2787089347839355, 10.9367036819458, 3.8041601181030273, 3.3895630836486816, 3.2291903495788574, 4.855811595916748, 3.190121650695801, 3.1399033069610596, 5.937682628631592, 2.4905292987823486, 5.360790729522705, 5.137111186981201, 2.3524320125579834, 2.4439847469329834, 2.773510217666626, 5.291221618652344, 9.383368492126465, 3.513709306716919, 6.005869388580322, 24.045934677124023, 7.365540504455566, 6.1148223876953125, 7.969661235809326, 51.42628479003906, 29.879365921020508, 86.0887222290039, 27.927001953125, 10.792469024658203, 8.757007598876953, 7.065134048461914, 13.718539237976074, 38.014488220214844, 7.677642822265625, 25.08003807067871, 35.92887878417969, 20.6578369140625, 15.200366020202637, 7.827269554138184, 10.44936752319336, 20.859819412231445, 37.774532318115234, 70.06361389160156, 11.734994888305664, 123.5200424194336, 28.217506408691406, 28.015840530395508, 15.933009147644043, 25.78908920288086, 60.23915100097656, 59.91838836669922, 17.819473266601562, 15.265837669372559, 16.5183048248291, 13.243785858154297, 13.06932258605957, 12.990827560424805, 14.190120697021484, 17.695053100585938, 14.195686340332031, 19.34911346435547, 9.539249420166016, 8.671233177185059, 10.877907752990723, 6.553169250488281, 6.3479228019714355, 5.763291358947754, 5.801207065582275, 5.42522668838501, 5.405229568481445, 5.136608123779297, 4.844009876251221, 4.864983558654785, 5.038610458374023, 5.426263332366943, 3.8581643104553223, 4.086429119110107, 3.7793381214141846, 4.101374626159668, 3.510690689086914, 3.3355672359466553, 3.145277500152588, 3.158226490020752, 3.0537667274475098, 3.0597012042999268, 3.1348278522491455, 3.51257586479187, 3.2320098876953125, 12.018760681152344, 3.3992464542388916, 7.962198257446289, 26.11532211303711, 28.175779342651367, 9.703980445861816, 5.050055980682373, 7.472435474395752, 8.411715507507324, 9.561799049377441, 9.681564331054688, 43.935821533203125, 8.470532417297363, 9.25511646270752, 26.23980712890625, 7.726476192474365, 9.247156143188477, 9.50451946258545, 205.3518524169922, 9.377507209777832, 131.13858032226562, 47.292510986328125, 86.3700180053711, 8.073821067810059, 25.339866638183594, 16.77346420288086, 48.43215560913086, 10.070189476013184, 12.187602043151855, 15.126721382141113, 11.341706275939941, 15.270336151123047, 20.911088943481445, 15.252290725708008, 12.475208282470703, 12.698241233825684, 11.435327529907227, 12.868621826171875, 10.432768821716309, 10.05221939086914, 9.769390106201172, 8.372114181518555, 8.502728462219238, 6.274020671844482, 6.302266597747803, 6.660700798034668, 11.296416282653809, 5.038788318634033, 4.137690544128418, 5.045282363891602, 3.777590751647949, 3.98652720451355, 3.60902738571167, 3.6894419193267822, 5.144601821899414, 2.7417497634887695, 3.0809521675109863, 2.5301413536071777, 2.53275203704834, 4.401395797729492, 2.4865660667419434, 2.378530502319336, 2.8076086044311523, 23.624929428100586, 2.5474562644958496, 2.1335809230804443, 6.893013000488281, 2.125035285949707, 2.2616379261016846, 2.255744218826294, 1.9232689142227173, 1.959187626838684, 3.3948967456817627, 53.8536491394043, 12.398469924926758, 13.579221725463867, 12.627228736877441, 31.202173233032227, 19.26644515991211, 23.064077377319336, 187.38926696777344, 8.758485794067383, 11.413398742675781, 7.52614164352417, 6.252209186553955, 4.417876720428467, 14.197135925292969, 13.896512031555176, 24.302213668823242, 14.193140983581543, 69.30773162841797, 11.650118827819824, 10.334620475769043, 17.62002944946289, 54.49988555908203, 24.97995948791504, 27.70840835571289, 13.360831260681152, 6.953900337219238, 11.538716316223145, 6.942781448364258, 7.755370140075684, 5.379865646362305, 5.521424293518066, 4.942197322845459, 3.0213470458984375, 9.800683975219727, 2.0193793773651123, 1.862046480178833, 3.671429395675659, 2.340038776397705, 13.155899047851562, 2.243297576904297, 1.5462552309036255, 1.4064983129501343, 1.347481369972229, 1.369471549987793, 1.2291276454925537, 1.2262701988220215, 1.1248717308044434, 1.1392101049423218, 1.0488929748535156, 1.0005874633789062, 1.5843862295150757, 1.0007752180099487, 1.2573446035385132, 1.0268844366073608, 1.1586744785308838, 1.234531044960022, 0.9831525087356567, 0.9590039849281311, 2.3831820487976074, 2.7150511741638184, 1.9750373363494873, 1.5487360954284668, 7.384257793426514, 1.7954003810882568, 2.8616085052490234, 11.951737403869629, 18.5048828125, 1.8237285614013672, 2.3313944339752197, 1.8060203790664673, 25.902212142944336, 6.8534417152404785, 2.415161609649658, 5.226599216461182, 9.039007186889648, 15.077534675598145, 16.600736618041992, 5.503017425537109, 7.546664237976074, 6.8517746925354, 9.493853569030762, 5.843008518218994, 7.4682936668396, 25.736940383911133, 13.14284896850586, 27.194774627685547, 6.791123390197754, 15.13088321685791, 4.721348285675049, 7.414375305175781, 11.831459999084473, 9.372626304626465, 5.030746936798096, 6.517811298370361, 3.70849871635437, 8.638585090637207, 3.1785941123962402, 4.569969177246094, 1.5443073511123657, 1.7007806301116943, 1.392594337463379, 2.0040130615234375, 1.097200632095337, 0.9791958332061768, 0.972874641418457, 1.2591289281845093, 1.0125313997268677, 1.2084656953811646, 4.022889137268066, 0.7280888557434082, 0.6879236102104187, 0.8159664869308472, 0.705191433429718, 0.6838372349739075, 0.6578218340873718, 0.8332162499427795, 0.6210325956344604, 0.777148962020874, 0.6589615345001221, 0.5626786947250366, 0.6098862886428833, 0.5577452778816223, 0.5673210620880127, 1.3852609395980835, 2.1512985229492188, 2.1636855602264404, 2.5523948669433594, 125.97869873046875, 4.701050758361816, 1.1961638927459717, 2.0450940132141113, 1.189720869064331, 0.886920154094696, 1.4907103776931763, 3.9389257431030273, 1.440484881401062, 68.38681030273438, 1.8867158889770508, 7.997108459472656, 2.3698043823242188, 7.33748197555542, 6.045887470245361, 3.9353673458099365, 16.707536697387695, 28.778419494628906, 3.6594011783599854, 20.23031997680664, 23.894533157348633, 3.965425729751587, 3.981935977935791, 5.060847282409668, 11.300495147705078, 4.793819427490234, 3.027498245239258, 3.000011682510376, 4.959197044372559, 4.082817077636719, 3.553199052810669, 4.468999862670898, 3.590052366256714, 3.293943405151367, 3.360610008239746], \"Term\": [\"\\u0627\\u062e\\u0628\\u0627\\u0631\", \"\\u0627\\u0644\\u0627\\u064a\\u0627\\u0645\", \"\\u2022\", \"\\u0648\\u0632\\u064a\\u0631\", \"\\u0628\\u0646\", \"\\u0627\\u0644\\u0648\\u0632\\u0631\\u0627\\u0621\", \"\\u0627\\u0646\\u062a\\u062e\\u0627\\u0628\\u0627\\u062a\", \"\\u0627\\u0644\\u062e\\u0627\\u0631\\u062c\\u064a\\u0647\", \"\\u062e\\u0627\\u0631\\u062c\\u064a\\u0647\", \"\\u0627\\u0644\\u0645\\u0644\\u0643\", \"\\u0645\\u0646\", \"\\u0662\\u0660\\u0661\\u0668\", \"\\u0645\\u0639\", \"\\u0627\\u0646\\u0628\\u0627\\u0621\", \"\\u0634\\u0627\\u0631\\u0639\", \"\\u0627\\u0644\\u062f\\u0641\\u0627\\u0639\", \"\\u0648\\u0643\\u0627\\u0644\\u0647\", \"\\u0627\\u0644\\u062a\\u0639\\u0627\\u0648\\u0646\", \"\\u0645\\u0639\\u0627\\u0644\\u064a\", \"\\u0639\\u0646\", \"\\u0627\\u0644\\u0646\\u0648\\u0627\\u0628\", \"\\u0627\\u0644\\u0639\\u0631\\u0628\\u064a\\u0647\", \"\\u062e\\u0644\\u064a\\u0641\\u0647\", \"\\u0645\\u0644\\u0643\\u0647\", \"\\u0627\\u0644\\u0627\\u0645\\u0646\", \"\\u0631\\u0621\\u064a\\u0633\", \"\\u062d\\u0627\\u062f\\u062b\", \"\\u0627\\u0644\\u062f\\u0627\\u062e\\u0644\\u064a\\u0647\", \"\\u0645\\u062c\\u0644\\u0633\", \"\\u0627\\u0644\\u0628\\u062d\\u0631\\u064a\\u0646\", \"\\u0627\\u0644\\u062f\\u0641\\u0627\\u0639\", \"\\u062c\\u0645\\u0647\\u0648\\u0631\\u064a\\u0647\", \"\\u2019\", \"\\u0628\\u0645\\u0646\\u0637\\u0642\\u0647\", \"\\u0627\\u0644\\u0645\\u0628\\u0646\\u064a\", \"\\u0627\\u0646\\u0637\\u0644\\u0627\\u0642\", \"\\u0627\\u0644\\u0627\\u0648\\u0633\\u0637\", \"\\u0627\\u0644\\u0646\\u0641\\u0637\", \"\\u0627\\u0644\\u0634\\u0631\\u0642\", \"\\u0627\\u0644\\u0648\\u0644\\u0627\\u064a\\u0627\\u062a\", \"\\u0627\\u0644\\u0627\\u0631\\u0647\\u0627\\u0628\", \"\\u0631\\u0648\\u0633\\u064a\\u0627\", \"\\u0627\\u0637\\u0644\\u0627\\u0642\", \"\\u0633\\u0648\\u0642\", \"\\u0627\\u0644\\u0645\\u0636\\u0627\\u0641\\u0647\", \"\\u0641\\u0631\\u064a\\u0642\", \"\\u0645\\u062f\\u064a\\u0631\\u064a\\u0647\", \"\\u0627\\u0644\\u0627\\u0633\\u062a\\u0642\\u0644\\u0627\\u0644\", \"\\u0645\\u062d\\u0627\\u0636\\u0631\\u0647\", \"\\u0627\\u0646\\u0647\\u064a\\u0627\\u0631\", \"\\u0627\\u0644\\u0642\\u064a\\u0645\\u0647\", \"\\u0627\\u0644\\u0631\\u0648\\u0633\\u064a\", \"\\u0644\\u0643\\u0631\\u0647\", \"\\u0627\\u0644\\u0627\\u062a\\u062d\\u0627\\u062f\\u064a\\u0647\", \"\\u0645\\u0628\\u0646\\u064a\", \"\\u0645\\u0643\\u0627\\u0641\\u062d\\u0647\", \"\\u0628\\u0645\\u062f\\u064a\\u0646\\u0647\", \"\\u0648\\u0627\\u0644\\u0633\\u064a\\u0627\\u062d\\u0647\", \"\\u0648\\u0627\\u0644\\u062c\\u0648\\u0627\\u0632\\u0627\\u062a\", \"\\u0627\\u0644\\u0635\\u0646\\u0627\\u0639\\u0647\", \"\\u0627\\u0644\\u0627\\u0645\\u0631\\u064a\\u0643\\u064a\\u0647\", \"\\u0627\\u0644\\u062a\\u062c\\u0627\\u0631\\u0647\", \"\\u0627\\u0644\\u0627\\u0645\\u0631\\u064a\\u0643\\u064a\", \"\\u0627\\u0644\\u0627\\u0645\\u0646\", \"\\u0627\\u0644\\u0635\\u062d\\u0647\", \"\\u0627\\u0644\\u0633\\u0644\\u0645\\u0627\\u0646\\u064a\\u0647\", \"\\u0634\\u0621\\u0648\\u0646\", \"\\u0627\\u0644\\u062e\\u0627\\u0631\\u062c\\u064a\\u0647\", \"\\u0627\\u0644\\u062f\\u0627\\u062e\\u0644\\u064a\\u0647\", \"\\u0648\\u0632\\u064a\\u0631\", \"\\u0648\\u0632\\u0627\\u0631\\u0647\", \"\\u0627\\u0644\\u0642\\u0628\\u0636\", \"\\u0645\\u062d\\u0627\\u0641\\u0638\", \"\\u0627\\u062c\\u062a\\u0645\\u0627\\u0639\", \"\\u0634\\u0631\\u0637\\u0647\", \"\\u0645\\u0639\\u0627\\u0644\\u064a\", \"\\u0627\\u0644\\u0627\\u0634\\u063a\\u0627\\u0644\", \"\\u064a\\u0633\\u062a\\u0642\\u0628\\u0644\", \"\\u0627\\u0646\\u0628\\u0627\\u0621\", \"\\u062d\\u0648\\u0627\\u0631\", \"\\u0627\\u0644\\u0645\\u062f\\u0646\\u064a\", \"\\u0627\\u0644\\u0627\\u062a\\u062d\\u0627\\u062f\", \"\\u0627\\u062b\\u0631\", \"\\u0633\\u0645\\u0648\", \"\\u0631\\u0621\\u064a\\u0633\", \"\\u0639\\u0644\\u064a\", \"\\u0627\\u064a\\u0631\\u0627\\u0646\", \"\\u0641\\u064a\", \"\\u0648\\u0643\\u0627\\u0644\\u0647\", \"\\u0627\\u0644\\u064a\", \"\\u0627\\u0644\\u0634\\u064a\\u062e\", \"\\u0628\\u0646\", \"\\u0645\\u0646\", \"\\u0627\\u0644\\u0628\\u062d\\u0631\\u064a\\u0646\", \"\\u0627\\u0644\\u0645\\u0644\\u0643\", \"\\u0627\\u0644\\u0639\\u0627\\u0645\", \"\\u0639\\u0627\\u062c\\u0644\", \"\\u0627\\u0644\\u0645\\u062a\\u062d\\u062f\\u0647\", \"\\u062e\\u0644\\u0627\\u0644\", \"\\u062c\\u0644\\u0627\\u0644\\u0647\", \"\\u0645\\u0639\", \"\\u064a\\u062a\\u0644\\u0642\\u064a\", \"\\u0627\\u0644\\u0627\\u0646\\u0633\\u0627\\u0646\", \"\\u062d\\u0627\\u062f\\u062b\", \"\\u0642\\u0636\\u064a\\u0647\", \"\\u0627\\u0644\\u0627\\u062e\\u062a\\u064a\\u0627\\u0631\\u064a\", \"\\u062a\\u0628\\u0627\\u0634\\u0631\", \"\\u0644\\u062d\\u0642\\u0648\\u0642\", \"\\u0627\\u0644\\u0643\\u0648\\u064a\\u062a\", \"\\u0627\\u0644\\u0633\\u0644\\u0637\\u0627\\u062a\", \"\\u0627\\u0644\\u0643\\u0647\\u0631\\u0628\\u0627\\u0621\", \"\\u0646\\u062a\\u064a\\u062c\\u0647\", \"\\u062a\\u0642\\u064a\\u0645\", \"\\u0646\\u064a\\u0648\\u064a\\u0648\\u0631\\u0643\", \"\\u0646\\u0638\\u0627\\u0645\", \"\\u0627\\u0644\\u0645\\u0628\\u0627\\u062d\\u062b\", \"\\u0634\\u0627\\u0647\\u062f\", \"\\u0628\\u0627\\u0644\\u0645\\u0644\\u0643\\u0647\", \"\\u062d\\u0627\\u0644\\u0627\\u062a\", \"\\u0627\\u0644\\u0631\\u064a\\u0627\\u0636\\u064a\\u0647\", \"\\u0644\\u062f\\u0648\\u0644\", \"\\u0627\\u0644\\u0645\\u0631\\u0643\\u0632\\u064a\", \"\\u0648\\u0627\\u0644\\u0645\\u0627\\u0621\", \"\\u0627\\u0644\\u0646\\u0633\\u062e\\u0647\", \"\\u0645\\u0637\\u0627\\u0644\\u0639\\u0627\\u062a\", \"\\u062a\\u062c\\u0646\\u0628\", \"\\u0627\\u0644\\u062a\\u062f\\u0631\\u064a\\u0628\", \"\\u0627\\u0644\\u0627\\u0633\\u062a\\u0642\\u0631\\u0627\\u0631\", \"\\u0627\\u0644\\u0643\\u062b\\u064a\\u0631\", \"\\u0641\\u0631\\u0646\\u0633\\u0627\", \"\\u0627\\u0644\\u0627\\u0637\\u0641\\u0627\\u0644\", \"\\u064a\\u0634\\u0627\\u0631\\u0643\", \"\\u064a\\u0648\\u0627\\u0635\\u0644\", \"\\u0627\\u0644\\u0637\\u0642\\u0633\", \"\\u0627\\u0644\\u062a\\u0639\\u0627\\u0648\\u0646\", \"\\u0627\\u0644\\u0639\\u0631\\u0628\\u064a\\u0647\", \"\\u0627\\u0644\\u062a\\u0642\\u0627\\u0639\\u062f\", \"\\u0627\\u0644\\u062c\\u0646\\u0627\\u0621\\u064a\\u0647\", \"\\u064a\\u0644\\u062a\\u0642\\u064a\", \"\\u0633\\u0641\\u0627\\u0631\\u0647\", \"\\u0641\\u0639\\u0627\\u0644\\u064a\\u0627\\u062a\", \"\\u0642\\u0637\\u0631\", \"\\u0645\\u0644\\u0643\\u0647\", \"\\u0627\\u0644\\u0642\\u0627\\u0646\\u0648\\u0646\\u064a\\u0647\", \"\\u0645\\u0642\\u062a\\u0644\", \"\\u0627\\u0644\\u0633\\u0639\\u0648\\u062f\\u064a\\u0647\", \"\\u062a\\u0639\\u0632\\u064a\\u0632\", \"\\u062c\\u0627\\u0645\\u0639\\u0647\", \"\\u0627\\u0644\\u0627\\u0645\\u0646\\u064a\\u0647\", \"\\u0641\\u064a\", \"\\u062a\\u0637\\u0648\\u064a\\u0631\", \"\\u0627\\u0644\\u0628\\u062d\\u0631\\u064a\\u0646\", \"\\u0645\\u0639\", \"\\u0645\\u0646\", \"\\u0648\\u0643\\u064a\\u0644\", \"\\u0648\\u0643\\u0627\\u0644\\u0647\", \"\\u0627\\u0644\\u0639\\u0627\\u0645\\u0647\", \"\\u0639\\u0644\\u064a\", \"\\u064a\\u0631\\u062c\\u064a\", \"\\u0628\\u0631\\u0646\\u0627\\u0645\\u062c\", \"\\u0627\\u0644\\u0645\\u0646\\u0627\\u0645\\u0647\", \"\\u0627\\u0644\\u064a\\u0648\\u0645\", \"\\u0627\\u0644\\u064a\", \"\\u0627\\u0644\\u0627\\u064a\\u0627\\u0645\", \"\\u0639\\u0646\", \"\\u0645\\u062c\\u0644\\u0633\", \"\\u0627\\u0646\\u0628\\u0627\\u0621\", \"\\u0627\\u0644\\u0639\\u0627\\u0645\", \"\\u0648\\u0632\\u064a\\u0631\", \"\\u0627\\u0644\\u0645\\u0644\\u0643\\u0647\", \"\\u0627\\u0644\\u0645\\u062a\\u062d\\u062f\\u0647\", \"\\u0627\\u0644\\u0648\\u0632\\u0631\\u0627\\u0621\", \"\\u0648\\u0631\\u0634\\u0647\", \"\\u0645\\u0621\\u062a\\u0645\\u0631\", \"\\u0642\\u0648\\u0647\", \"\\u0645\\u062c\\u0645\\u0648\\u0639\\u0647\", \"\\u0627\\u0644\\u0645\\u0621\\u062a\\u0645\\u0631\", \"\\u0627\\u0644\\u0634\\u0648\\u0631\\u064a\", \"\\u0645\\u0633\\u0627\\u0639\\u062f\", \"\\u062f\\u064a\\u0633\\u0645\\u0628\\u0631\", \"\\u062f\\u0641\\u0627\\u0639\", \"\\u0644\\u0648\\u0632\\u0627\\u0631\\u0647\", \"\\u064a\\u062e\\u062a\\u0645\", \"\\u0627\\u0644\\u0639\\u064a\\u062f\", \"\\u062a\\u0642\\u0648\\u0645\", \"\\u062e\\u062a\\u0627\\u0645\", \"\\u062e\\u062f\\u0645\\u062a\\u0643\\u0645\", \"\\u0628\\u0644\\u062f\", \"\\u0645\\u0648\\u0627\\u0641\\u0642\\u0647\", \"\\u0639\\u0642\\u062f\", \"\\u0645\\u0646\\u0638\\u0645\\u0647\", \"\\u0627\\u0633\\u062a\\u0642\\u0637\\u0627\\u0628\", \"\\u0627\\u0644\\u0645\\u0633\\u0621\\u0648\\u0644\\u064a\\u0646\", \"\\u0627\\u0631\\u0633\\u0627\\u0644\", \"\\u062e\\u0627\\u0631\\u062c\\u064a\\u0647\", \"\\u0627\\u0644\\u0628\\u062d\\u062b\", \"\\u0627\\u0644\\u0633\\u0645\\u0627\\u062d\", \"\\u062a\\u0646\\u0641\\u064a\\u0630\", \"\\u0645\\u0631\\u0627\\u062f\", \"\\u0627\\u0633\\u062a\\u062f\\u0627\\u0645\\u0647\", \"\\u0627\\u0641\\u0631\\u0627\\u062f\", \"\\u0645\\u0631\\u064a\\u0645\", \"\\u0644\\u0645\\u062a\\u0627\\u0628\\u0639\\u0647\", \"\\u062a\\u0639\\u064a\\u0646\", \"\\u2022\", \"\\u0627\\u0644\\u0627\\u062e\\u0628\\u0627\\u0631\", \"\\u0627\\u0644\\u0645\\u0647\\u0645\\u0647\", \"\\u0644\\u0645\\u0632\\u064a\\u062f\", \"\\u0627\\u0646\\u062a\\u062e\\u0627\\u0628\\u0627\\u062a\", \"\\u0627\\u0644\\u0646\\u0648\\u0627\\u0628\", \"\\u0662\\u0660\\u0661\\u0668\", \"\\u0627\\u062e\\u0628\\u0627\\u0631\", \"\\u0648\\u0627\\u062a\\u0633\\u0627\\u0628\", \"\\u062a\\u0627\\u0628\\u0639\", \"\\u0647\\u0644\", \"\\u064a\\u0648\\u0646\\u064a\\u0648\", \"\\u0627\\u0644\\u0627\\u0648\\u0644\\u064a\\u0647\", \"\\u0627\\u0644\\u062a\\u0631\\u0634\\u062d\", \"\\u0644\\u0627\\u0646\\u062a\\u062e\\u0627\\u0628\\u0627\\u062a\", \"\\u0645\\u062c\\u0644\\u0633\", \"\\u0627\\u0644\\u0627\\u0646\\u062a\\u062e\\u0627\\u0628\\u0627\\u062a\", \"\\u0627\\u0644\\u0628\\u062d\\u0631\\u064a\\u0646\", \"\\u0627\\u0644\\u0634\\u0645\\u0627\\u0644\\u064a\\u0647\", \"\\u0627\\u0644\\u062c\\u0646\\u0648\\u0628\\u064a\\u0647\", \"\\u0639\\u0627\\u062c\\u0644\", \"\\u0641\\u064a\", \"\\u0639\\u0644\\u064a\", \"\\u0645\\u0646\", \"\\u0639\\u0646\", \"\\u064a\\u062a\\u0631\\u0634\\u062d\", \"\\u0627\\u0644\\u0627\\u064a\\u0627\\u0645\", \"\\u0627\\u0643\\u062a\\u0648\\u0628\\u0631\", \"\\u0645\\u0631\\u0648\\u0631\\u064a\", \"\\u0648\\u0641\\u062f\", \"\\u0627\\u0644\\u0633\\u0648\\u0627\\u062d\\u0644\", \"\\u062e\\u0641\\u0631\", \"\\u0646\\u0638\\u0631\\u0627\", \"\\u0645\\u0646\\u0637\\u0642\\u0647\", \"\\u0631\\u0639\\u0627\\u064a\\u0647\", \"\\u064a\\u0633\\u062a\\u0639\\u0631\\u0636\", \"\\u0642\\u0627\\u0645\\u062a\", \"\\u062a\\u0647\\u064a\\u0628\", \"\\u0634\\u0627\\u0631\\u0639\", \"\\u0627\\u0644\\u0637\\u0627\\u0621\\u0631\\u0647\", \"\\u0627\\u0644\\u0641\\u0631\\u0646\\u0633\\u064a\", \"\\u0627\\u0644\\u0627\\u0648\\u0631\\u0648\\u0628\\u064a\", \"\\u0645\\u0633\\u0627\\u0631\", \"\\u0627\\u0644\\u0641\\u0631\\u0646\\u0633\\u064a\\u0647\", \"\\u0627\\u0644\\u062f\\u062e\\u0648\\u0644\", \"\\u0627\\u0644\\u0635\\u0628\\u0627\\u062d\", \"\\u064a\\u0639\\u0631\\u0628\", \"\\u062a\\u0648\\u0642\\u0641\", \"\\u0644\\u062a\\u0648\\u062c\\u064a\\u0647\\u0627\\u062a\", \"\\u0644\\u062c\\u0627\\u0621\\u0632\\u0647\", \"\\u0644\\u062d\\u064a\\u0646\", \"\\u0627\\u0644\\u0633\\u064a\\u0633\\u064a\", \"\\u0627\\u0644\\u0627\\u0633\\u062f\", \"\\u0627\\u0644\\u0627\\u0642\\u0644\\u064a\\u0645\\u064a\\u0647\", \"\\u0644\\u0627\\u0639\\u0628\", \"\\u064a\\u0643\\u0634\\u0641\", \"\\u062a\\u0646\\u0641\\u0630\", \"\\u0641\\u0648\\u0632\\u0647\", \"\\u0627\\u0644\\u0628\\u062d\\u0631\\u064a\", \"\\u062a\\u062c\\u0646\\u0628\\u0627\", \"\\u0627\\u0644\\u0634\\u0628\\u0627\\u0628\\u064a\", \"\\u0628\\u0642\\u064a\\u0627\\u062f\\u0647\", \"\\u0627\\u0644\\u0645\\u0631\\u0648\\u0631\", \"\\u0639\\u0627\\u0647\\u0644\", \"\\u0635\\u0627\\u062d\\u0628\", \"\\u062e\\u0644\\u064a\\u0641\\u0647\", \"\\u0627\\u0644\\u0648\\u0632\\u0631\\u0627\\u0621\", \"\\u0627\\u0644\\u0633\\u0645\\u0648\", \"\\u0627\\u0644\\u0633\\u0648\\u0627\\u0642\", \"\\u0634\\u0631\\u0642\", \"\\u0628\\u0646\", \"\\u0639\\u064a\\u0633\\u064a\", \"\\u064a\\u0634\\u0647\\u062f\", \"\\u0639\\u0628\\u062f\\u0627\\u0644\\u0647\", \"\\u0633\\u0644\\u0645\\u0627\\u0646\", \"\\u0627\\u0644\\u0645\\u0644\\u0643\", \"\\u0639\\u0646\", \"\\u0627\\u0644\", \"\\u0645\\u062d\\u0645\\u062f\", \"\\u0627\\u0644\\u0645\\u062d\\u0631\\u0642\", \"\\u062c\\u0644\\u0627\\u0644\\u0647\", \"\\u0627\\u0644\\u0645\\u0641\\u062f\\u064a\", \"\\u062d\\u0645\\u062f\", \"\\u0645\\u0646\", \"\\u0631\\u0621\\u064a\\u0633\", \"\\u0641\\u064a\", \"\\u0627\\u0644\\u0634\\u064a\\u062e\", \"\\u0639\\u0644\\u064a\", \"\\u0627\\u0644\\u0645\\u062e\\u062a\\u0635\\u0647\", \"\\u0639\\u0627\\u062c\\u0644\", \"\\u0627\\u0644\\u0628\\u062d\\u0631\\u064a\\u0646\", \"\\u0627\\u0644\\u0627\\u064a\\u0627\\u0645\", \"\\u0627\\u0644\\u064a\", \"\\u0633\\u0641\\u064a\\u0631\", \"\\u0627\\u0644\\u0645\\u0631\\u0648\\u0631\\u064a\\u0647\", \"\\u0627\\u0644\\u062f\\u0648\\u0644\\u064a\", \"\\u062c\\u0633\\u0631\", \"\\u0627\\u0644\\u0627\\u0645\", \"\\u0627\\u0644\\u062e\\u0644\\u064a\\u062c\\u064a\", \"\\u0628\\u0645\\u0634\\u0627\\u0631\\u0643\\u0647\", \"\\u0627\\u0644\\u0645\\u0648\\u0636\\u0648\\u0639\\u0627\\u062a\", \"\\u064a\\u0642\\u062f\\u0645\", \"\\u0628\\u0644\\u0627\\u062f\\u0647\", \"\\u064a\\u0642\\u0648\\u062f\", \"\\u0644\\u0648\\u062d\\u0627\\u062a\", \"\\u064a\\u0641\\u0648\\u0632\", \"\\u0627\\u0644\\u0634\\u0631\\u0642\\u064a\", \"\\u0627\\u0644\\u062a\\u0639\\u0627\\u0645\\u0644\", \"\\u0627\\u0644\\u0633\\u0639\\u0648\\u062f\\u064a\", \"\\u0631\\u0648\\u0627\\u062f\", \"\\u0634\\u062e\\u0635\\u0627\", \"\\u0628\\u0627\\u0644\\u0635\\u0648\\u0631\\u0647\", \"\\u062a\\u0639\\u0644\\u064a\\u0645\\u0627\\u062a\", \"\\u062c\\u0627\\u0628\\u0631\", \"\\u0639\\u0636\\u0648\\u0627\", \"\\u0643\\u0641\\u0627\\u0621\\u0647\", \"\\u0645\\u0621\\u0633\\u0647\", \"\\u0627\\u062b\\u0646\\u064a\\u0646\", \"\\u0627\\u0644\\u062f\\u0631\\u0627\\u0633\\u0647\", \"\\u0645\\u0646\\u0627\\u0637\\u0642\", \"\\u0627\\u0644\\u0639\\u0645\\u0644\\u0627\\u0621\", \"\\u0628\\u0627\\u0633\\u0645\", \"\\u062d\\u0644\\u0648\\u0644\", \"\\u0627\\u0644\\u062c\\u062f\\u064a\\u062f\\u0647\", \"\\u0627\\u0644\\u062f\\u0648\\u0631\\u064a\", \"\\u0627\\u0639\\u062a\\u0645\\u0627\\u062f\", \"\\u0627\\u0644\\u062e\\u062f\\u0645\\u0647\", \"\\u0627\\u0644\\u0627\\u064a\\u0627\\u0645\", \"\\u0627\\u0644\\u0645\\u0634\\u062a\\u0631\\u0643\", \"\\u0648\\u0627\\u0644\\u0627\\u062a\\u0635\\u0627\\u0644\\u0627\\u062a\", \"\\u0645\\u064a\\u0631\\u0632\\u0627\", \"\\u0627\\u0646\\u062c\\u0627\\u0632\", \"\\u0648\\u0635\\u0646\\u0627\\u0639\\u0647\", \"\\u0627\\u0631\\u062a\\u0641\\u0627\\u0639\", \"\\u0627\\u0644\\u062a\\u0648\\u0627\\u0635\\u0644\", \"\\u062a\\u0648\\u0642\\u0639\", \"\\u0627\\u062e\\u0628\\u0627\\u0631\", \"\\u062e\\u062f\\u0645\\u0647\", \"\\u0648\\u0644\\u064a\", \"\\u0627\\u0639\\u0645\\u0627\\u0644\", \"\\u0627\\u0644\\u0639\\u0647\\u062f\", \"\\u0645\\u0627\", \"\\u0644\", \"\\u0645\\u0639\", \"\\u0645\\u0646\", \"\\u0647\\u0630\\u0647\", \"\\u0639\\u0644\\u064a\", \"\\u0641\\u064a\", \"\\u0627\\u0644\\u0647\", \"\\u0644\\u062f\\u064a\", \"\\u0633\\u0645\\u0648\", \"\\u0627\\u0644\\u0628\\u062d\\u0631\\u064a\\u0646\", \"\\u0627\\u0646\", \"\\u0628\\u0627\\u0644\\u0641\\u064a\\u062f\\u064a\\u0648\", \"\\u0627\\u0644\\u0639\\u0627\\u0644\\u0645\", \"\\u0639\\u0646\", \"\\u0627\\u0644\\u0639\\u0627\\u0645\", \"\\u0648\", \"\\u0627\\u0644\\u064a\", \"\\u062d\\u0645\\u062f\", \"\\u0644\\u0627\", \"\\u0627\\u0644\\u062a\\u064a\"], \"Total\": [264.0, 167.0, 60.0, 102.0, 56.0, 28.0, 37.0, 57.0, 24.0, 41.0, 228.0, 27.0, 86.0, 48.0, 13.0, 23.0, 53.0, 27.0, 47.0, 60.0, 22.0, 30.0, 16.0, 54.0, 25.0, 67.0, 19.0, 33.0, 44.0, 283.0, 23.4870662689209, 13.278050422668457, 10.38601303100586, 7.503988742828369, 7.295616626739502, 6.730839729309082, 5.0690155029296875, 5.705729961395264, 4.415548801422119, 5.4668354988098145, 7.839193820953369, 4.505210876464844, 4.266017436981201, 4.1503214836120605, 4.3409223556518555, 11.103038787841797, 3.8671860694885254, 3.448223114013672, 3.2874152660369873, 4.944615840911865, 3.2516684532165527, 3.204927682876587, 6.067497730255127, 2.546809434890747, 5.487837314605713, 5.259550094604492, 2.408693790435791, 2.503072738647461, 2.840855360031128, 5.420897960662842, 9.677950859069824, 3.6030306816101074, 6.196157932281494, 25.21778106689453, 7.620437145233154, 6.310668468475342, 8.281037330627441, 57.13089370727539, 33.33890151977539, 102.74119567871094, 31.597270965576172, 11.563163757324219, 9.30977725982666, 7.421970844268799, 15.479670524597168, 47.67572784423828, 8.181902885437012, 31.271089553833008, 48.6682014465332, 26.09556007385254, 18.750089645385742, 8.527989387512207, 12.191082954406738, 29.981773376464844, 67.67166900634766, 178.83694458007812, 14.984501838684082, 434.4610595703125, 53.61372375488281, 56.682640075683594, 25.047618865966797, 56.24009323120117, 228.83291625976562, 283.4966735839844, 41.380897521972656, 35.94170379638672, 49.9521598815918, 26.171798706054688, 26.234464645385742, 29.987722396850586, 86.38850402832031, 17.75100326538086, 14.244659423828125, 19.428287506103516, 9.60253620147705, 8.73137092590332, 10.956076622009277, 6.602176189422607, 6.397481918334961, 5.812759876251221, 5.851274490356445, 5.474295139312744, 5.455662250518799, 5.186028957366943, 4.895004749298096, 4.91823148727417, 5.095594882965088, 5.494834899902344, 3.9074790477752686, 4.138708591461182, 3.8292367458343506, 4.156993389129639, 3.559134006500244, 3.38529896736145, 3.194748878479004, 3.2082784175872803, 3.103024482727051, 3.1092476844787598, 3.185835599899292, 3.571129560470581, 3.285909652709961, 12.332653999328613, 3.4564497470855713, 8.199958801269531, 27.62809181213379, 30.173131942749023, 10.119770050048828, 5.188563823699951, 7.8329596519470215, 8.878884315490723, 10.212440490722656, 10.42715072631836, 54.37384796142578, 9.124359130859375, 10.116148948669434, 32.37565612792969, 8.331076622009277, 10.248556137084961, 10.841937065124512, 434.4610595703125, 10.750240325927734, 283.4966735839844, 86.38850402832031, 228.83291625976562, 9.512721061706543, 53.61372375488281, 29.073013305664062, 178.83694458007812, 13.745588302612305, 21.058979034423828, 35.0750846862793, 21.261219024658203, 56.682640075683594, 167.81678771972656, 60.322532653808594, 44.49858093261719, 48.6682014465332, 35.94170379638672, 102.74119567871094, 20.147945404052734, 26.171798706054688, 28.862903594970703, 8.427515029907227, 8.560319900512695, 6.322515964508057, 6.353723049163818, 6.716464996337891, 11.411238670349121, 5.09212589263916, 4.186399936676025, 5.111622333526611, 3.8277604579925537, 4.04027795791626, 3.66194224357605, 3.749319314956665, 5.230262279510498, 2.792401075363159, 3.1382052898406982, 2.578063726425171, 2.5812878608703613, 4.490103244781494, 2.5367507934570312, 2.4282920360565186, 2.8665854930877686, 24.13219451904297, 2.604795455932617, 2.181694269180298, 7.050906658172607, 2.1737356185913086, 2.314380168914795, 2.309410572052002, 1.9707673788070679, 2.007749080657959, 3.5007057189941406, 60.792049407958984, 13.671085357666016, 15.473587989807129, 14.351895332336426, 37.6862678527832, 22.682140350341797, 27.719470977783203, 264.52178955078125, 9.888763427734375, 13.663654327392578, 8.645065307617188, 7.217586040496826, 4.796621322631836, 19.629194259643555, 19.9451904296875, 44.49858093261719, 22.119773864746094, 283.4966735839844, 20.57909393310547, 19.54702377319336, 49.9521598815918, 434.4610595703125, 178.83694458007812, 228.83291625976562, 60.322532653808594, 10.606501579284668, 167.81678771972656, 12.748348236083984, 7.819795608520508, 5.439716339111328, 5.585427284240723, 5.003016471862793, 3.0815718173980713, 10.001127243041992, 2.083503246307373, 1.922491431236267, 3.792708396911621, 2.4229657649993896, 13.625051498413086, 2.3262083530426025, 1.6054495573043823, 1.465158462524414, 1.4049036502838135, 1.4289032220840454, 1.2863491773605347, 1.2839385271072388, 1.18290376663208, 1.1982297897338867, 1.1075201034545898, 1.0583620071411133, 1.6799910068511963, 1.0612354278564453, 1.3337223529815674, 1.0893808603286743, 1.2293145656585693, 1.309999704360962, 1.0434021949768066, 1.021591305732727, 2.5417730808258057, 2.953871488571167, 2.1624765396118164, 1.6793524026870728, 9.215837478637695, 1.9923757314682007, 3.382408380508423, 16.970478057861328, 28.862903594970703, 2.0474531650543213, 2.7373569011688232, 2.0391440391540527, 56.24009323120117, 11.746076583862305, 3.077633857727051, 9.06612777709961, 19.952728271484375, 41.380897521972656, 60.322532653808594, 11.232621192932129, 18.981704711914062, 17.165388107299805, 29.987722396850586, 14.6049165725708, 23.05931854248047, 228.83291625976562, 67.67166900634766, 434.4610595703125, 25.047618865966797, 178.83694458007812, 13.213590621948242, 49.9521598815918, 283.4966735839844, 167.81678771972656, 56.682640075683594, 6.580713748931885, 3.7741403579711914, 8.811761856079102, 3.2439281940460205, 4.693264484405518, 1.6059926748275757, 1.7904607057571411, 1.4691245555877686, 2.1264946460723877, 1.1666394472122192, 1.0430653095245361, 1.0423955917358398, 1.3527582883834839, 1.0887229442596436, 1.301024317741394, 4.358785629272461, 0.7891579270362854, 0.7495731711387634, 0.8895164132118225, 0.7690185308456421, 0.7462956309318542, 0.7201917767524719, 0.9136373996734619, 0.6823040246963501, 0.8566556572914124, 0.7297355532646179, 0.6244314312934875, 0.6787832975387573, 0.6218529939651489, 0.6326150298118591, 1.546783208847046, 2.426715850830078, 2.449439525604248, 2.9247522354125977, 167.81678771972656, 5.795916557312012, 1.3652794361114502, 2.4428534507751465, 1.3669754266738892, 1.0019177198410034, 1.861274003982544, 6.219801902770996, 1.81961190700531, 264.52178955078125, 2.635263681411743, 18.508113861083984, 3.6034815311431885, 18.48283576965332, 16.065223693847656, 8.53079891204834, 86.38850402832031, 228.83291625976562, 8.682703971862793, 178.83694458007812, 434.4610595703125, 13.364381790161133, 14.49237060546875, 29.981773376464844, 283.4966735839844, 30.137407302856445, 9.377861022949219, 9.180987358093262, 60.322532653808594, 35.94170379638672, 20.333175659179688, 56.682640075683594, 23.05931854248047, 16.095781326293945, 20.351932525634766], \"loglift\": [30.0, 29.0, 28.0, 27.0, 26.0, 25.0, 24.0, 23.0, 22.0, 21.0, 20.0, 19.0, 18.0, 17.0, 16.0, 15.0, 14.0, 13.0, 12.0, 11.0, 10.0, 9.0, 8.0, 7.0, 6.0, 5.0, 4.0, 3.0, 2.0, 1.0, 1.1993000507354736, 1.1985000371932983, 1.1972999572753906, 1.1938999891281128, 1.1936999559402466, 1.1931999921798706, 1.191499948501587, 1.1904000043869019, 1.190000057220459, 1.1898000240325928, 1.1893999576568604, 1.1893999576568604, 1.1892999410629272, 1.1888999938964844, 1.1883000135421753, 1.187600016593933, 1.1863000392913818, 1.1856000423431396, 1.1848000288009644, 1.1845999956130981, 1.1835999488830566, 1.1821999549865723, 1.1811000108718872, 1.180400013923645, 1.1792999505996704, 1.1792000532150269, 1.1791000366210938, 1.1787999868392944, 1.1786999702453613, 1.1785000562667847, 1.1718000173568726, 1.1776000261306763, 1.1714999675750732, 1.1550999879837036, 1.1686999797821045, 1.1712000370025635, 1.1643999814987183, 1.097499966621399, 1.0931999683380127, 1.0259000062942505, 1.079200029373169, 1.1337000131607056, 1.1414999961853027, 1.15339994430542, 1.0819000005722046, 0.9763000011444092, 1.1390999555587769, 0.9821000099182129, 0.8992000222206116, 0.968999981880188, 0.9927999973297119, 1.1169999837875366, 1.0484999418258667, 0.839900016784668, 0.619700014591217, 0.2655999958515167, 0.958299994468689, -0.054999999701976776, 0.5608000159263611, 0.49799999594688416, 0.7502999901771545, 0.4230000078678131, -0.13199999928474426, -0.351500004529953, 0.3601999878883362, 0.3463999927043915, 0.09610000252723694, 0.5216000080108643, 0.5059000253677368, 0.3662000000476837, -0.603600025177002, 1.219599962234497, 1.2194000482559204, 1.2187000513076782, 1.2161999940872192, 1.21589994430542, 1.2156000137329102, 1.215399980545044, 1.215000033378601, 1.2143000364303589, 1.2142000198364258, 1.2137999534606934, 1.2135000228881836, 1.2131999731063843, 1.2122999429702759, 1.211899995803833, 1.2115999460220337, 1.2101999521255493, 1.2101000547409058, 1.2101000547409058, 1.2096999883651733, 1.2093000411987305, 1.2091000080108643, 1.2079999446868896, 1.207200050354004, 1.2071000337600708, 1.2067999839782715, 1.2066999673843384, 1.2066999673843384, 1.2063000202178955, 1.2063000202178955, 1.1970000267028809, 1.2060999870300293, 1.1934000253677368, 1.1664999723434448, 1.1542999744415283, 1.180799961090088, 1.1957000494003296, 1.1756999492645264, 1.1687999963760376, 1.156999945640564, 1.1485999822616577, 1.0096999406814575, 1.1483999490737915, 1.1338000297546387, 1.0126999616622925, 1.1475000381469727, 1.1200000047683716, 1.0911999940872192, 0.4733999967575073, 1.0861999988555908, 0.45190000534057617, 0.6202999949455261, 0.2485000044107437, 1.0587999820709229, 0.4733999967575073, 0.6728000044822693, -0.08349999785423279, 0.9117000102996826, 0.6758999824523926, 0.38179999589920044, 0.5943999886512756, -0.08879999816417694, -0.8597999811172485, -0.15219999849796295, -0.048900000751018524, -0.12080000340938568, 0.07760000228881836, -0.8546000123023987, 0.5647000074386597, 0.26589998602867126, 0.13950000703334808, 1.6549999713897705, 1.6548000574111938, 1.6539000272750854, 1.65339994430542, 1.6532000303268433, 1.6514999866485596, 1.6510000228881836, 1.649899959564209, 1.6484999656677246, 1.6483999490737915, 1.6482000350952148, 1.6469999551773071, 1.6454999446868896, 1.6450999975204468, 1.6433000564575195, 1.6432000398635864, 1.642799973487854, 1.6426000595092773, 1.6416000127792358, 1.6416000127792358, 1.6409000158309937, 1.6407999992370605, 1.6403000354766846, 1.639299988746643, 1.639299988746643, 1.6389000415802002, 1.6389000415802002, 1.6384999752044678, 1.638100028038025, 1.6371999979019165, 1.6370999813079834, 1.6309000253677368, 1.5404000282287598, 1.5638999938964844, 1.531000018119812, 1.5334999561309814, 1.4728000164031982, 1.4983999729156494, 1.4776999950408936, 1.3167999982833862, 1.5401999950408936, 1.481600046157837, 1.5230000019073486, 1.5180000066757202, 1.579300045967102, 1.3375999927520752, 1.3001999855041504, 1.0566999912261963, 1.217900037765503, 0.25290000438690186, 1.0925999879837036, 1.0241999626159668, 0.6194999814033508, -0.41429999470710754, -0.3068000078201294, -0.4496999979019165, 0.1542000025510788, 1.239400029182434, -1.0155999660491943, 1.0539000034332275, 2.20989990234375, 2.2070999145507812, 2.206700086593628, 2.2060000896453857, 2.198499917984009, 2.197999954223633, 2.1868999004364014, 2.186300039291382, 2.185699939727783, 2.1833999156951904, 2.183199882507324, 2.1819000244140625, 2.1805999279022217, 2.177299976348877, 2.176500082015991, 2.1756999492645264, 2.1726999282836914, 2.1721999645233154, 2.1679000854492188, 2.1677000522613525, 2.163800001144409, 2.162100076675415, 2.159600019454956, 2.1594998836517334, 2.1591999530792236, 2.15910005569458, 2.1589999198913574, 2.158900022506714, 2.1586999893188477, 2.1549999713897705, 2.1538000106811523, 2.1338999271392822, 2.127500057220459, 2.137200117111206, 1.9966000318527222, 2.1140999794006348, 2.0510001182556152, 1.8675999641418457, 1.7736999988555908, 2.1024999618530273, 2.0576999187469482, 2.0968000888824463, 1.4428999423980713, 1.6793999671936035, 1.9758000373840332, 1.6674000024795532, 1.4263999462127686, 1.2086000442504883, 0.9279000163078308, 1.504699945449829, 1.295799970626831, 1.2998000383377075, 1.0680999755859375, 1.3020999431610107, 1.0908000469207764, 0.03310000151395798, 0.5794000029563904, -0.5529000163078308, 0.9129999876022339, -0.2515000104904175, 1.1891000270843506, 0.31060001254081726, -0.9581999778747559, -0.6668999791145325, -0.2037000060081482, 2.229300022125244, 2.221400022506714, 2.219099998474121, 2.218600034713745, 2.2123000621795654, 2.1998000144958496, 2.1875, 2.1854000091552734, 2.1796000003814697, 2.1775999069213867, 2.1756999492645264, 2.1698999404907227, 2.1672000885009766, 2.1663999557495117, 2.16510009765625, 2.1586999893188477, 2.158400058746338, 2.15310001373291, 2.152600049972534, 2.1522998809814453, 2.1514999866485596, 2.1482999324798584, 2.1468000411987305, 2.1447999477386475, 2.1414999961853027, 2.136899948120117, 2.1347999572753906, 2.1319000720977783, 2.1301000118255615, 2.130000114440918, 2.1285998821258545, 2.118499994277954, 2.1149001121520996, 2.102799892425537, 1.9522000551223755, 2.029599905014038, 2.1066999435424805, 2.061199903488159, 2.100100040435791, 2.117000102996826, 2.016900062561035, 1.782099962234497, 2.0053000450134277, 0.8862000107765198, 1.9048000574111938, 1.3997999429702759, 1.8198000192642212, 1.3150999546051025, 1.2617000341415405, 1.4652999639511108, 0.5958999991416931, 0.1656000018119812, 1.374899983406067, 0.05959999933838844, -0.6614999771118164, 1.0240000486373901, 0.9470999836921692, 0.45989999175071716, -0.9833999872207642, 0.40049999952316284, 1.108299970626831, 1.1203999519348145, -0.25949999690055847, 0.06379999965429306, 0.4945000112056732, -0.30140000581741333, 0.3790000081062317, 0.6524999737739563, 0.43790000677108765], \"logprob\": [30.0, 29.0, 28.0, 27.0, 26.0, 25.0, 24.0, 23.0, 22.0, 21.0, 20.0, 19.0, 18.0, 17.0, 16.0, 15.0, 14.0, 13.0, 12.0, 11.0, 10.0, 9.0, 8.0, 7.0, 6.0, 5.0, 4.0, 3.0, 2.0, 1.0, -5.266300201416016, -5.837399959564209, -6.084199905395508, -6.412600040435791, -6.440999984741211, -6.52209997177124, -6.807300090789795, -6.690100193023682, -6.946899890899658, -6.733500003814697, -6.3734002113342285, -6.927299976348877, -6.982100009918213, -7.009900093078613, -6.96560001373291, -6.027200222015381, -7.083199977874756, -7.198599815368652, -7.247000217437744, -6.839099884033203, -7.259200096130371, -7.275100231170654, -6.638000011444092, -7.506800174713135, -6.740200042724609, -6.782800197601318, -7.563799858093262, -7.525599956512451, -7.399199962615967, -6.753200054168701, -6.180300235748291, -7.162600040435791, -6.626500129699707, -5.239299774169922, -6.422500133514404, -6.60860013961792, -6.343599796295166, -4.479100227355957, -5.02209997177124, -3.963900089263916, -5.089700222015381, -6.04040002822876, -6.2494001388549805, -6.464099884033203, -5.80049991607666, -4.781300067901611, -6.38100004196167, -5.197199821472168, -4.837699890136719, -5.391200065612793, -5.697999954223633, -6.361700057983398, -6.072700023651123, -5.381400108337402, -4.787600040435791, -4.169899940490723, -5.956699848175049, -3.6029000282287598, -5.0792999267578125, -5.08650016784668, -5.650899887084961, -5.169300079345703, -4.321000099182129, -4.326300144195557, -5.539000034332275, -5.693699836730957, -5.614799976348877, -5.835700035095215, -5.848999977111816, -5.855000019073486, -5.76669979095459, -5.525899887084961, -5.746200084686279, -5.436500072479248, -6.143799781799316, -6.239200115203857, -6.012400150299072, -6.519199848175049, -6.55109977722168, -6.64769983291626, -6.64109992980957, -6.708099842071533, -6.7118000984191895, -6.762800216674805, -6.821400165557861, -6.8171000480651855, -6.782100200653076, -6.707900047302246, -7.048999786376953, -6.991499900817871, -7.0696001052856445, -6.9878997802734375, -7.143400192260742, -7.194499969482422, -7.253300189971924, -7.249199867248535, -7.282800197601318, -7.280900001525879, -7.2565999031066895, -7.1427998542785645, -7.226099967956543, -5.912700176239014, -7.175600051879883, -6.32450008392334, -5.13670015335083, -5.060699939727783, -6.1265997886657715, -6.779799938201904, -6.388000011444092, -6.269599914550781, -6.14139986038208, -6.129000186920166, -4.616499900817871, -6.262599945068359, -6.173999786376953, -5.131899833679199, -6.354499816894531, -6.174900054931641, -6.14739990234375, -3.07450008392334, -6.160900115966797, -3.522900104522705, -4.542799949645996, -3.940500020980835, -6.3105998039245605, -5.166800022125244, -5.579400062561035, -4.519000053405762, -6.089600086212158, -5.898799896240234, -5.682700157165527, -5.970699787139893, -5.673299789428711, -5.35890007019043, -5.674499988555908, -5.875400066375732, -5.857699871063232, -5.962500095367432, -5.844399929046631, -6.054200172424316, -6.091400146484375, -6.119900226593018, -5.8354997634887695, -5.820000171661377, -6.124000072479248, -6.119500160217285, -6.064199924468994, -5.535900115966797, -6.343299865722656, -6.540299892425537, -6.3420000076293945, -6.63129997253418, -6.577499866485596, -6.677000045776367, -6.654900074005127, -6.322500228881836, -6.9517998695373535, -6.83519983291626, -7.032100200653076, -7.031099796295166, -6.478499889373779, -7.049499988555908, -7.093900203704834, -6.928100109100342, -4.798099994659424, -7.025300025939941, -7.202600002288818, -6.029900074005127, -7.206600189208984, -7.1442999839782715, -7.146900177001953, -7.306399822235107, -7.287899971008301, -6.738100051879883, -3.974100112915039, -5.442800045013428, -5.351900100708008, -5.424600124359131, -4.519899845123291, -5.002099990844727, -4.8221001625061035, -2.7272000312805176, -5.79040002822876, -5.525599956512451, -5.941999912261963, -6.127500057220459, -6.474800109863281, -5.307400226593018, -5.328800201416016, -4.769800186157227, -5.307700157165527, -3.72189998626709, -5.505099773406982, -5.624899864196777, -5.091400146484375, -3.9621999263763428, -4.742300033569336, -4.638700008392334, -5.368100166320801, -6.021100044250488, -5.514699935913086, -6.02269983291626, -5.355400085449219, -5.721099853515625, -5.695099830627441, -5.806000232696533, -6.298099994659424, -5.121300220489502, -6.701000213623047, -6.782100200653076, -6.1031999588012695, -6.553599834442139, -4.826900005340576, -6.595799922943115, -6.967899799346924, -7.062699794769287, -7.105500221252441, -7.089399814605713, -7.197500228881836, -7.19980001449585, -7.286099910736084, -7.273399829864502, -7.355999946594238, -7.403200149536133, -6.943600177764893, -7.4029998779296875, -7.174799919128418, -7.377299785614014, -7.256499767303467, -7.1930999755859375, -7.42080020904541, -7.4456000328063965, -6.535299777984619, -6.40500020980835, -6.723199844360352, -6.966300010681152, -5.404399871826172, -6.818600177764893, -6.352399826049805, -4.922900199890137, -4.4857001304626465, -6.8028998374938965, -6.557300090789795, -6.812699794769287, -4.149499893188477, -5.479000091552734, -6.521999835968018, -5.75, -5.202199935913086, -4.6905999183654785, -4.594299793243408, -5.698500156402588, -5.382699966430664, -5.479300022125244, -5.15310001373291, -5.638500213623047, -5.393099784851074, -4.155900001525879, -4.827899932861328, -4.100800037384033, -5.4882001876831055, -4.686999797821045, -5.8516998291015625, -5.400400161743164, -4.933000087738037, -5.165999889373779, -5.7881999015808105, -5.508500099182129, -6.072400093078613, -5.226799964904785, -6.226600170135498, -5.863500118255615, -6.948500156402588, -6.8520002365112305, -7.0518999099731445, -6.687900066375732, -7.290299892425537, -7.404099941253662, -7.410600185394287, -7.152599811553955, -7.37060022354126, -7.193699836730957, -5.991099834442139, -7.700399875640869, -7.7571001052856445, -7.586400032043457, -7.7322998046875, -7.7631001472473145, -7.8018999099731445, -7.565499782562256, -7.859399795532227, -7.635200023651123, -7.800099849700928, -7.958099842071533, -7.877500057220459, -7.966899871826172, -7.949900150299072, -7.057199954986572, -6.617000102996826, -6.611199855804443, -6.446000099182129, -2.5469000339508057, -5.835299968719482, -7.20389986038208, -6.667600154876709, -7.2093000411987305, -7.5030999183654785, -6.983799934387207, -6.0121002197265625, -7.018099784851074, -3.157900094985962, -6.748199939727783, -5.303999900817871, -6.520199775695801, -5.390100002288818, -5.583700180053711, -6.013000011444092, -4.567200183868408, -4.023399829864502, -6.0858001708984375, -4.375899791717529, -4.209400177001953, -6.00540018081665, -6.001299858093262, -5.761499881744385, -4.958199977874756, -5.815700054168701, -6.275300025939941, -6.28439998626709, -5.781799793243408, -5.97629976272583, -6.115200042724609, -5.885900020599365, -6.104899883270264, -6.190999984741211, -6.170899868011475]}, \"token.table\": {\"Topic\": [1, 4, 5, 1, 2, 3, 4, 5, 5, 3, 3, 3, 1, 5, 4, 5, 3, 2, 3, 4, 1, 2, 3, 4, 5, 1, 4, 1, 2, 3, 2, 1, 2, 1, 4, 1, 2, 4, 5, 1, 1, 1, 4, 2, 4, 1, 2, 3, 4, 2, 4, 1, 3, 2, 3, 4, 5, 3, 4, 1, 2, 3, 4, 5, 1, 2, 2, 3, 4, 5, 2, 3, 2, 1, 5, 1, 2, 3, 4, 5, 5, 2, 1, 2, 3, 4, 5, 1, 2, 4, 5, 5, 5, 1, 2, 4, 4, 5, 1, 5, 5, 1, 2, 5, 2, 3, 4, 5, 2, 1, 3, 4, 4, 4, 4, 4, 1, 5, 1, 2, 3, 4, 3, 1, 2, 3, 4, 5, 4, 1, 1, 4, 2, 1, 2, 5, 1, 2, 3, 4, 5, 1, 2, 3, 4, 2, 4, 5, 1, 2, 4, 5, 3, 4, 4, 2, 3, 1, 2, 1, 2, 2, 2, 3, 2, 1, 1, 2, 5, 1, 2, 3, 4, 5, 2, 4, 5, 1, 2, 4, 5, 2, 2, 4, 5, 3, 3, 5, 1, 1, 2, 4, 1, 2, 4, 5, 1, 2, 3, 4, 5, 1, 2, 3, 4, 5, 2, 3, 5, 2, 1, 1, 2, 3, 4, 1, 2, 3, 4, 5, 2, 3, 4, 1, 1, 2, 3, 4, 5, 1, 2, 3, 4, 5, 1, 2, 3, 4, 5, 1, 2, 2, 3, 4, 5, 1, 1, 1, 2, 5, 5, 2, 3, 5, 2, 1, 2, 5, 4, 5, 3, 1, 5, 1, 1, 2, 3, 4, 5, 2, 3, 5, 2, 2, 4, 2, 3, 2, 5, 3, 3, 2, 4, 3, 4, 5, 4, 5, 2, 5, 5, 1, 2, 4, 5, 1, 2, 2, 5, 1, 2, 4, 5, 1, 2, 3, 3, 3, 5, 4, 1, 2, 3, 4, 5, 1, 2, 3, 4, 5, 3, 3, 1, 2, 3, 4, 5, 4, 5, 1, 2, 5, 1, 2, 3, 4, 5, 1, 2, 4, 5, 1, 1, 4, 2, 5, 1, 2, 4, 4, 1, 2, 3, 4, 4, 1, 2, 3, 4, 5, 3, 1, 2, 3, 4, 5, 1, 2, 3, 4, 5, 1, 2, 3, 4, 2, 1, 2, 3, 4, 1, 2, 3, 4, 5, 4, 2, 2, 5, 3, 5, 2, 4, 5, 1, 2, 3, 4, 5, 4, 2, 3, 4, 4, 4, 2, 4, 2, 1, 2, 5, 1, 3, 2, 3, 5, 3, 3, 5, 1, 2, 3, 4, 5, 1, 1, 2, 3, 4, 3, 1, 1, 1, 2, 3, 4, 5, 1, 3, 4, 3, 4, 3, 2, 1, 2, 3, 4, 5, 1, 2, 3, 1, 2, 1, 1, 2, 3, 4, 5, 1, 2, 3, 4, 5, 5, 4, 3, 3, 5, 2, 2, 4, 2, 1, 2, 3, 4, 5, 1, 3, 1, 2, 3, 4, 5, 3, 5, 5, 1, 1, 2, 3, 1, 2, 3, 1, 2, 3, 5, 4, 1, 2, 2, 5, 1, 2, 4, 5, 2, 3, 4, 2, 3, 1, 2, 4, 5, 4, 1, 4, 5, 2, 2, 4, 4, 5, 5, 5, 4, 2, 2, 2, 3, 2, 3, 4, 1, 2, 3, 4], \"Freq\": [0.8202716708183289, 0.08202716708183289, 1.1673301458358765, 0.9431456923484802, 0.018902035430073738, 0.7069361209869385, 0.01512162759900093, 0.2570676803588867, 0.5372664332389832, 1.0465412139892578, 0.864162266254425, 0.7884101271629333, 0.9376426935195923, 0.8165132999420166, 0.2775093913078308, 0.5550187826156616, 0.8660218715667725, 0.23532460629940033, 0.5490907430648804, 0.15688307583332062, 0.26707923412323, 0.08902641385793686, 0.08902641385793686, 0.53415846824646, 0.08902641385793686, 0.9380874633789062, 0.11726093292236328, 0.7852962613105774, 0.07314708083868027, 0.8777649998664856, 1.0307660102844238, 1.0205130577087402, 0.9648635983467102, 0.8700132966041565, 0.7497812509536743, 0.9777676463127136, 0.9129891991615295, 0.9179525971412659, 1.0653564929962158, 0.9683420062065125, 0.9299489259719849, 0.9517094492912292, 0.03965456038713455, 0.9223443865776062, 0.09223444014787674, 0.04520842060446739, 0.27125051617622375, 0.6329178810119629, 0.09041684120893478, 0.9828245043754578, 0.6825200319290161, 0.9863848090171814, 0.8339203000068665, 0.12513646483421326, 0.0715065523982048, 0.05362991616129875, 0.7508187890052795, 1.1517219543457031, 0.7868523001670837, 0.21164269745349884, 0.46208655834198, 0.2433890998363495, 0.04232854023575783, 0.038801159709692, 1.11017644405365, 0.9667986631393433, 0.10188905149698257, 0.7132233381271362, 0.15283358097076416, 0.7686251401901245, 0.9410711526870728, 0.036195043474435806, 0.9881647229194641, 0.16077682375907898, 0.6431072950363159, 0.491353839635849, 0.09827076643705368, 0.09827076643705368, 0.14740614593029022, 0.14740614593029022, 0.6465030312538147, 0.963657796382904, 0.05115868151187897, 0.05115868151187897, 0.5115868449211121, 0.25579342246055603, 0.10231736302375793, 0.8926869034767151, 0.05251099541783333, 0.017503663897514343, 0.035007327795028687, 1.0257278680801392, 1.2453356981277466, 0.8998497128486633, 0.05998997762799263, 0.029994988813996315, 0.7773938775062561, 1.3703594207763672, 0.9792623519897461, 0.8241591453552246, 1.0213621854782104, 0.9360585808753967, 0.9664850831031799, 0.9176868200302124, 0.8030725121498108, 0.030887404456734657, 0.09266221523284912, 0.061774808913469315, 1.0322118997573853, 0.950770914554596, 0.9167187213897705, 0.9768233299255371, 1.0742239952087402, 0.7306318283081055, 0.9422979950904846, 0.9248655438423157, 0.905889630317688, 0.9185073375701904, 0.14577901363372803, 0.14577901363372803, 0.5831160545349121, 0.14577901363372803, 0.9639619588851929, 0.6387832760810852, 0.039923954755067825, 0.039923954755067825, 0.2794676721096039, 0.039923954755067825, 0.7788534760475159, 0.9185824990272522, 0.9223564267158508, 0.8597682118415833, 0.9756146669387817, 0.4356829822063446, 0.2178414911031723, 0.32676222920417786, 0.41734248399734497, 0.3060511648654938, 0.083468496799469, 0.0556456632912159, 0.1112913265824318, 0.34396159648895264, 0.5847347378730774, 0.03439616039395332, 0.03439616039395332, 0.9279779195785522, 0.03314206749200821, 1.4732242822647095, 0.4869382679462433, 0.05410424992442131, 0.05410424992442131, 0.37872976064682007, 1.0923165082931519, 1.245756983757019, 0.6998374462127686, 0.8767738938331604, 0.10959673672914505, 0.9512967467308044, 0.08648151904344559, 0.9226033091545105, 0.9416681528091431, 1.025417685508728, 0.9378690123558044, 1.0422148704528809, 1.0166256427764893, 0.9594802260398865, 0.4967178702354431, 0.38209065794944763, 0.11462719738483429, 0.1747702956199646, 0.05825676769018173, 0.29128381609916687, 0.40779736638069153, 0.05825676769018173, 0.5297576189041138, 0.37839826941490173, 0.07567965984344482, 0.7999961972236633, 0.10666615515947342, 0.05333307757973671, 0.05333307757973671, 0.9622339010238647, 0.21701771020889282, 0.7595620155334473, 1.0598440170288086, 0.8236241936683655, 0.1725352704524994, 0.8626763224601746, 0.921463131904602, 0.34235045313835144, 0.20541028678417206, 0.4108205735683441, 0.4349833130836487, 0.1691601723432541, 0.3624860942363739, 0.024165740236639977, 0.34742996096611023, 0.49632853269577026, 0.04963285103440285, 0.04963285103440285, 0.0992657020688057, 0.3136129379272461, 0.4276539981365204, 0.11404106765985489, 0.08553079515695572, 0.057020533829927444, 0.12925250828266144, 0.9047675132751465, 0.6806774735450745, 0.8861846327781677, 1.051574468612671, 0.04408755153417587, 0.08817510306835175, 0.837663471698761, 0.04408755153417587, 0.3741287887096405, 0.14965151250362396, 0.07482575625181198, 0.07482575625181198, 0.2993030250072479, 0.34646549820899963, 0.034646548330783844, 0.6582844257354736, 0.9146059155464172, 0.4939784109592438, 0.2646313011646271, 0.07056834548711777, 0.08821042627096176, 0.07056834548711777, 0.18813596665859222, 0.5173739194869995, 0.09406798332929611, 0.18813596665859222, 0.047033991664648056, 0.36499491333961487, 0.19908812642097473, 0.13272541761398315, 0.13272541761398315, 0.16590677201747894, 0.7397027015686035, 0.26711487770080566, 0.13267432153224945, 0.8225808143615723, 0.02653486467897892, 0.7315420508384705, 1.0399891138076782, 1.0112009048461914, 0.8008274435997009, 0.20020686089992523, 1.6080970764160156, 1.124206304550171, 0.10663412511348724, 0.5331706404685974, 0.31990236043930054, 0.9099454283714294, 0.33239978551864624, 0.5698282122612, 0.04748568311333656, 1.1909352540969849, 0.8571628332138062, 0.9559603929519653, 0.8303255438804626, 1.1170309782028198, 0.9328372478485107, 0.46230363845825195, 0.017780909314751625, 0.017780909314751625, 0.46230363845825195, 0.053342729806900024, 0.07318685948848724, 0.8050554990768433, 0.07318685948848724, 1.0040090084075928, 0.9350809454917908, 1.0156162977218628, 0.837190568447113, 0.09302117675542831, 0.9602600336074829, 1.300358772277832, 0.8569700717926025, 1.066860318183899, 0.9164790511131287, 0.9584031701087952, 0.9927801489830017, 0.825434684753418, 0.5495677590370178, 0.8345644474029541, 1.339951515197754, 0.8781724572181702, 0.09757471829652786, 0.9248046875, 0.43351075053215027, 0.23342886567115784, 0.30012282729148865, 0.033346980810165405, 0.9790593981742859, 0.9779554605484009, 1.023677945137024, 1.580740213394165, 0.47703057527542114, 0.04336641728878021, 0.3035649061203003, 0.17346566915512085, 0.8047345876693726, 0.19160348176956177, 0.9945220947265625, 0.9559749960899353, 1.074344277381897, 0.7589373588562012, 0.9993970990180969, 0.4955313503742218, 0.2668245732784271, 0.038117796182632446, 0.11435338854789734, 0.07623559236526489, 0.17677757143974304, 0.05892585963010788, 0.05892585963010788, 0.7071102857589722, 0.05892585963010788, 0.9781630039215088, 0.9554749131202698, 0.5615348219871521, 0.1329950988292694, 0.07388616353273392, 0.1921040266752243, 0.029554465785622597, 0.9599217176437378, 1.2671735286712646, 0.8878607749938965, 0.9010140895843506, 1.0637143850326538, 0.4009476602077484, 0.05011845752596855, 0.05011845752596855, 0.45106613636016846, 0.05011845752596855, 0.7004255652427673, 0.033353596925735474, 0.10006079077720642, 0.16676798462867737, 0.9637807607650757, 0.9660625457763672, 0.9541248083114624, 0.9812396764755249, 1.334092617034912, 0.904412031173706, 0.1292017102241516, 0.9808036684989929, 0.8869419693946838, 0.34032562375068665, 0.16015323996543884, 0.3603447675704956, 0.1401340812444687, 1.0038267374038696, 0.11030067503452301, 0.11030067503452301, 0.11030067503452301, 0.5515033602714539, 1.388519048690796, 1.1622105836868286, 0.3914180099964142, 0.2684009075164795, 0.13979214429855347, 0.08387528359889984, 0.11183371394872665, 0.16577553749084473, 0.2486633062362671, 0.21550819277763367, 0.2818184196949005, 0.08288776874542236, 0.25540444254875183, 0.08513481169939041, 0.08513481169939041, 0.5959436893463135, 1.120093822479248, 0.9907197952270508, 0.9791978597640991, 0.09791978448629379, 0.9788650274276733, 0.2854110896587372, 0.4718489646911621, 0.12429191917181015, 0.062145959585905075, 0.05524085462093353, 1.0546553134918213, 1.0413914918899536, 0.9590347409248352, 0.09590347856283188, 0.9489892721176147, 1.0945261716842651, 0.35166695713996887, 0.11722231656312943, 0.4688892662525177, 0.3106403946876526, 0.37276849150657654, 0.062128081917762756, 0.062128081917762756, 0.18638424575328827, 0.813461422920227, 0.10027480125427246, 0.7019236087799072, 0.1504122018814087, 0.9029181599617004, 0.9448562860488892, 1.0602564811706543, 1.1904826164245605, 1.044594645500183, 0.48301276564598083, 0.2760072946548462, 0.2760072946548462, 0.9888755083084106, 0.9961404204368591, 0.0696772113442421, 0.9058036804199219, 0.9593287110328674, 1.0449974536895752, 1.0513626337051392, 1.4656223058700562, 0.43572378158569336, 0.12449251115322113, 0.062246255576610565, 0.062246255576610565, 0.3734775185585022, 0.911105751991272, 0.0898905098438263, 0.2696715295314789, 0.5393430590629578, 0.06741788238286972, 0.944328248500824, 0.9125710725784302, 0.9667255878448486, 0.1053646132349968, 0.1053646132349968, 0.3160938322544098, 0.4214584529399872, 0.0526823066174984, 1.0343438386917114, 0.9200751185417175, 1.0230445861816406, 1.0148330926895142, 0.7117925882339478, 0.9819081425666809, 0.9390409588813782, 0.16205860674381256, 0.544053852558136, 0.05787806957960129, 0.04630245640873909, 0.19678544998168945, 0.7970513105392456, 0.16780026257038116, 0.020975032821297646, 0.09885184466838837, 0.8896666169166565, 0.9506516456604004, 0.11034716665744781, 0.8092125654220581, 0.018391193822026253, 0.036782387644052505, 0.018391193822026253, 0.2622000277042389, 0.3758200705051422, 0.12236002087593079, 0.11362002044916153, 0.1267300248146057, 1.601456880569458, 0.9998872876167297, 0.8908481001853943, 1.1636639833450317, 0.8187146782875061, 0.9133595824241638, 1.0214494466781616, 0.9735291600227356, 0.964128851890564, 0.23034298419952393, 0.11517149209976196, 0.23034298419952393, 0.11517149209976196, 0.46068596839904785, 0.11567292362451553, 0.9253833889961243, 0.344264954328537, 0.24590355157852173, 0.1967228353023529, 0.049180708825588226, 0.1967228353023529, 0.910123884677887, 0.10112487524747849, 0.7324507832527161, 1.0560200214385986, 0.7990179061889648, 1.1238689422607422, 0.9492715001106262, 0.8861525058746338, 0.0632966086268425, 0.03164830431342125, 0.8370546698570251, 0.12653152644634247, 0.02919958159327507, 0.9980859756469727, 0.9191655516624451, 0.5222543478012085, 0.46629852056503296, 0.8409791588783264, 0.1051223948597908, 0.37821251153945923, 0.05403035879135132, 0.10806071758270264, 0.43224287033081055, 0.09428179264068604, 0.6599725484848022, 0.18856358528137207, 1.0140272378921509, 0.9900308847427368, 0.07275061309337616, 0.727506160736084, 0.07275061309337616, 0.07275061309337616, 1.0403167009353638, 0.7994604706764221, 0.1279136687517166, 0.0639568343758583, 0.9730265736579895, 0.32492494583129883, 0.6498498916625977, 0.8453773260116577, 0.7392303347587585, 0.9405149221420288, 0.9587127566337585, 0.7633589506149292, 0.8936596512794495, 0.8679426312446594, 0.13855047523975372, 0.8313028812408447, 0.14430290460586548, 0.8297416567802429, 0.03607572615146637, 0.9628334045410156, 0.09869711846113205, 0.888274073600769, 0.016449520364403725], \"Term\": [\"\\u0627\\u062b\\u0631\", \"\\u0627\\u062b\\u0631\", \"\\u0627\\u062b\\u0646\\u064a\\u0646\", \"\\u0627\\u062c\\u062a\\u0645\\u0627\\u0639\", \"\\u0627\\u062e\\u0628\\u0627\\u0631\", \"\\u0627\\u062e\\u0628\\u0627\\u0631\", \"\\u0627\\u062e\\u0628\\u0627\\u0631\", \"\\u0627\\u062e\\u0628\\u0627\\u0631\", \"\\u0627\\u0631\\u062a\\u0641\\u0627\\u0639\", \"\\u0627\\u0631\\u0633\\u0627\\u0644\", \"\\u0627\\u0633\\u062a\\u062f\\u0627\\u0645\\u0647\", \"\\u0627\\u0633\\u062a\\u0642\\u0637\\u0627\\u0628\", \"\\u0627\\u0637\\u0644\\u0627\\u0642\", \"\\u0627\\u0639\\u062a\\u0645\\u0627\\u062f\", \"\\u0627\\u0639\\u0645\\u0627\\u0644\", \"\\u0627\\u0639\\u0645\\u0627\\u0644\", \"\\u0627\\u0641\\u0631\\u0627\\u062f\", \"\\u0627\\u0643\\u062a\\u0648\\u0628\\u0631\", \"\\u0627\\u0643\\u062a\\u0648\\u0628\\u0631\", \"\\u0627\\u0643\\u062a\\u0648\\u0628\\u0631\", \"\\u0627\\u0644\", \"\\u0627\\u0644\", \"\\u0627\\u0644\", \"\\u0627\\u0644\", \"\\u0627\\u0644\", \"\\u0627\\u0644\\u0627\\u062a\\u062d\\u0627\\u062f\", \"\\u0627\\u0644\\u0627\\u062a\\u062d\\u0627\\u062f\", \"\\u0627\\u0644\\u0627\\u062a\\u062d\\u0627\\u062f\\u064a\\u0647\", \"\\u0627\\u0644\\u0627\\u062e\\u0628\\u0627\\u0631\", \"\\u0627\\u0644\\u0627\\u062e\\u0628\\u0627\\u0631\", \"\\u0627\\u0644\\u0627\\u062e\\u062a\\u064a\\u0627\\u0631\\u064a\", \"\\u0627\\u0644\\u0627\\u0631\\u0647\\u0627\\u0628\", \"\\u0627\\u0644\\u0627\\u0633\\u062a\\u0642\\u0631\\u0627\\u0631\", \"\\u0627\\u0644\\u0627\\u0633\\u062a\\u0642\\u0644\\u0627\\u0644\", \"\\u0627\\u0644\\u0627\\u0633\\u062f\", \"\\u0627\\u0644\\u0627\\u0634\\u063a\\u0627\\u0644\", \"\\u0627\\u0644\\u0627\\u0637\\u0641\\u0627\\u0644\", \"\\u0627\\u0644\\u0627\\u0642\\u0644\\u064a\\u0645\\u064a\\u0647\", \"\\u0627\\u0644\\u0627\\u0645\", \"\\u0627\\u0644\\u0627\\u0645\\u0631\\u064a\\u0643\\u064a\", \"\\u0627\\u0644\\u0627\\u0645\\u0631\\u064a\\u0643\\u064a\\u0647\", \"\\u0627\\u0644\\u0627\\u0645\\u0646\", \"\\u0627\\u0644\\u0627\\u0645\\u0646\", \"\\u0627\\u0644\\u0627\\u0645\\u0646\\u064a\\u0647\", \"\\u0627\\u0644\\u0627\\u0645\\u0646\\u064a\\u0647\", \"\\u0627\\u0644\\u0627\\u0646\\u062a\\u062e\\u0627\\u0628\\u0627\\u062a\", \"\\u0627\\u0644\\u0627\\u0646\\u062a\\u062e\\u0627\\u0628\\u0627\\u062a\", \"\\u0627\\u0644\\u0627\\u0646\\u062a\\u062e\\u0627\\u0628\\u0627\\u062a\", \"\\u0627\\u0644\\u0627\\u0646\\u062a\\u062e\\u0627\\u0628\\u0627\\u062a\", \"\\u0627\\u0644\\u0627\\u0646\\u0633\\u0627\\u0646\", \"\\u0627\\u0644\\u0627\\u0648\\u0631\\u0648\\u0628\\u064a\", \"\\u0627\\u0644\\u0627\\u0648\\u0633\\u0637\", \"\\u0627\\u0644\\u0627\\u0648\\u0644\\u064a\\u0647\", \"\\u0627\\u0644\\u0627\\u064a\\u0627\\u0645\", \"\\u0627\\u0644\\u0627\\u064a\\u0627\\u0645\", \"\\u0627\\u0644\\u0627\\u064a\\u0627\\u0645\", \"\\u0627\\u0644\\u0627\\u064a\\u0627\\u0645\", \"\\u0627\\u0644\\u0628\\u062d\\u062b\", \"\\u0627\\u0644\\u0628\\u062d\\u0631\\u064a\", \"\\u0627\\u0644\\u0628\\u062d\\u0631\\u064a\\u0646\", \"\\u0627\\u0644\\u0628\\u062d\\u0631\\u064a\\u0646\", \"\\u0627\\u0644\\u0628\\u062d\\u0631\\u064a\\u0646\", \"\\u0627\\u0644\\u0628\\u062d\\u0631\\u064a\\u0646\", \"\\u0627\\u0644\\u0628\\u062d\\u0631\\u064a\\u0646\", \"\\u0627\\u0644\\u062a\\u062c\\u0627\\u0631\\u0647\", \"\\u0627\\u0644\\u062a\\u062f\\u0631\\u064a\\u0628\", \"\\u0627\\u0644\\u062a\\u0631\\u0634\\u062d\", \"\\u0627\\u0644\\u062a\\u0631\\u0634\\u062d\", \"\\u0627\\u0644\\u062a\\u0631\\u0634\\u062d\", \"\\u0627\\u0644\\u062a\\u0639\\u0627\\u0645\\u0644\", \"\\u0627\\u0644\\u062a\\u0639\\u0627\\u0648\\u0646\", \"\\u0627\\u0644\\u062a\\u0639\\u0627\\u0648\\u0646\", \"\\u0627\\u0644\\u062a\\u0642\\u0627\\u0639\\u062f\", \"\\u0627\\u0644\\u062a\\u0648\\u0627\\u0635\\u0644\", \"\\u0627\\u0644\\u062a\\u0648\\u0627\\u0635\\u0644\", \"\\u0627\\u0644\\u062a\\u064a\", \"\\u0627\\u0644\\u062a\\u064a\", \"\\u0627\\u0644\\u062a\\u064a\", \"\\u0627\\u0644\\u062a\\u064a\", \"\\u0627\\u0644\\u062a\\u064a\", \"\\u0627\\u0644\\u062c\\u062f\\u064a\\u062f\\u0647\", \"\\u0627\\u0644\\u062c\\u0646\\u0627\\u0621\\u064a\\u0647\", \"\\u0627\\u0644\\u062c\\u0646\\u0648\\u0628\\u064a\\u0647\", \"\\u0627\\u0644\\u062c\\u0646\\u0648\\u0628\\u064a\\u0647\", \"\\u0627\\u0644\\u062c\\u0646\\u0648\\u0628\\u064a\\u0647\", \"\\u0627\\u0644\\u062c\\u0646\\u0648\\u0628\\u064a\\u0647\", \"\\u0627\\u0644\\u062c\\u0646\\u0648\\u0628\\u064a\\u0647\", \"\\u0627\\u0644\\u062e\\u0627\\u0631\\u062c\\u064a\\u0647\", \"\\u0627\\u0644\\u062e\\u0627\\u0631\\u062c\\u064a\\u0647\", \"\\u0627\\u0644\\u062e\\u0627\\u0631\\u062c\\u064a\\u0647\", \"\\u0627\\u0644\\u062e\\u0627\\u0631\\u062c\\u064a\\u0647\", \"\\u0627\\u0644\\u062e\\u062f\\u0645\\u0647\", \"\\u0627\\u0644\\u062e\\u0644\\u064a\\u062c\\u064a\", \"\\u0627\\u0644\\u062f\\u0627\\u062e\\u0644\\u064a\\u0647\", \"\\u0627\\u0644\\u062f\\u0627\\u062e\\u0644\\u064a\\u0647\", \"\\u0627\\u0644\\u062f\\u0627\\u062e\\u0644\\u064a\\u0647\", \"\\u0627\\u0644\\u062f\\u062e\\u0648\\u0644\", \"\\u0627\\u0644\\u062f\\u0631\\u0627\\u0633\\u0647\", \"\\u0627\\u0644\\u062f\\u0641\\u0627\\u0639\", \"\\u0627\\u0644\\u062f\\u0648\\u0631\\u064a\", \"\\u0627\\u0644\\u062f\\u0648\\u0644\\u064a\", \"\\u0627\\u0644\\u0631\\u0648\\u0633\\u064a\", \"\\u0627\\u0644\\u0631\\u064a\\u0627\\u0636\\u064a\\u0647\", \"\\u0627\\u0644\\u0633\\u0639\\u0648\\u062f\\u064a\", \"\\u0627\\u0644\\u0633\\u0639\\u0648\\u062f\\u064a\\u0647\", \"\\u0627\\u0644\\u0633\\u0639\\u0648\\u062f\\u064a\\u0647\", \"\\u0627\\u0644\\u0633\\u0639\\u0648\\u062f\\u064a\\u0647\", \"\\u0627\\u0644\\u0633\\u0639\\u0648\\u062f\\u064a\\u0647\", \"\\u0627\\u0644\\u0633\\u0644\\u0637\\u0627\\u062a\", \"\\u0627\\u0644\\u0633\\u0644\\u0645\\u0627\\u0646\\u064a\\u0647\", \"\\u0627\\u0644\\u0633\\u0645\\u0627\\u062d\", \"\\u0627\\u0644\\u0633\\u0645\\u0648\", \"\\u0627\\u0644\\u0633\\u0648\\u0627\\u062d\\u0644\", \"\\u0627\\u0644\\u0633\\u0648\\u0627\\u0642\", \"\\u0627\\u0644\\u0633\\u064a\\u0633\\u064a\", \"\\u0627\\u0644\\u0634\\u0628\\u0627\\u0628\\u064a\", \"\\u0627\\u0644\\u0634\\u0631\\u0642\", \"\\u0627\\u0644\\u0634\\u0631\\u0642\\u064a\", \"\\u0627\\u0644\\u0634\\u0645\\u0627\\u0644\\u064a\\u0647\", \"\\u0627\\u0644\\u0634\\u0645\\u0627\\u0644\\u064a\\u0647\", \"\\u0627\\u0644\\u0634\\u0645\\u0627\\u0644\\u064a\\u0647\", \"\\u0627\\u0644\\u0634\\u0645\\u0627\\u0644\\u064a\\u0647\", \"\\u0627\\u0644\\u0634\\u0648\\u0631\\u064a\", \"\\u0627\\u0644\\u0634\\u064a\\u062e\", \"\\u0627\\u0644\\u0634\\u064a\\u062e\", \"\\u0627\\u0644\\u0634\\u064a\\u062e\", \"\\u0627\\u0644\\u0634\\u064a\\u062e\", \"\\u0627\\u0644\\u0634\\u064a\\u062e\", \"\\u0627\\u0644\\u0635\\u0628\\u0627\\u062d\", \"\\u0627\\u0644\\u0635\\u062d\\u0647\", \"\\u0627\\u0644\\u0635\\u0646\\u0627\\u0639\\u0647\", \"\\u0627\\u0644\\u0637\\u0627\\u0621\\u0631\\u0647\", \"\\u0627\\u0644\\u0637\\u0642\\u0633\", \"\\u0627\\u0644\\u0639\\u0627\\u0644\\u0645\", \"\\u0627\\u0644\\u0639\\u0627\\u0644\\u0645\", \"\\u0627\\u0644\\u0639\\u0627\\u0644\\u0645\", \"\\u0627\\u0644\\u0639\\u0627\\u0645\", \"\\u0627\\u0644\\u0639\\u0627\\u0645\", \"\\u0627\\u0644\\u0639\\u0627\\u0645\", \"\\u0627\\u0644\\u0639\\u0627\\u0645\", \"\\u0627\\u0644\\u0639\\u0627\\u0645\", \"\\u0627\\u0644\\u0639\\u0627\\u0645\\u0647\", \"\\u0627\\u0644\\u0639\\u0627\\u0645\\u0647\", \"\\u0627\\u0644\\u0639\\u0627\\u0645\\u0647\", \"\\u0627\\u0644\\u0639\\u0627\\u0645\\u0647\", \"\\u0627\\u0644\\u0639\\u0631\\u0628\\u064a\\u0647\", \"\\u0627\\u0644\\u0639\\u0631\\u0628\\u064a\\u0647\", \"\\u0627\\u0644\\u0639\\u0645\\u0644\\u0627\\u0621\", \"\\u0627\\u0644\\u0639\\u0647\\u062f\", \"\\u0627\\u0644\\u0639\\u0647\\u062f\", \"\\u0627\\u0644\\u0639\\u0647\\u062f\", \"\\u0627\\u0644\\u0639\\u0647\\u062f\", \"\\u0627\\u0644\\u0639\\u064a\\u062f\", \"\\u0627\\u0644\\u0641\\u0631\\u0646\\u0633\\u064a\", \"\\u0627\\u0644\\u0641\\u0631\\u0646\\u0633\\u064a\\u0647\", \"\\u0627\\u0644\\u0642\\u0627\\u0646\\u0648\\u0646\\u064a\\u0647\", \"\\u0627\\u0644\\u0642\\u0627\\u0646\\u0648\\u0646\\u064a\\u0647\", \"\\u0627\\u0644\\u0642\\u0628\\u0636\", \"\\u0627\\u0644\\u0642\\u0628\\u0636\", \"\\u0627\\u0644\\u0642\\u064a\\u0645\\u0647\", \"\\u0627\\u0644\\u0643\\u062b\\u064a\\u0631\", \"\\u0627\\u0644\\u0643\\u0647\\u0631\\u0628\\u0627\\u0621\", \"\\u0627\\u0644\\u0643\\u0648\\u064a\\u062a\", \"\\u0627\\u0644\\u0645\\u0621\\u062a\\u0645\\u0631\", \"\\u0627\\u0644\\u0645\\u0628\\u0627\\u062d\\u062b\", \"\\u0627\\u0644\\u0645\\u0628\\u0646\\u064a\", \"\\u0627\\u0644\\u0645\\u062a\\u062d\\u062f\\u0647\", \"\\u0627\\u0644\\u0645\\u062a\\u062d\\u062f\\u0647\", \"\\u0627\\u0644\\u0645\\u062a\\u062d\\u062f\\u0647\", \"\\u0627\\u0644\\u0645\\u062d\\u0631\\u0642\", \"\\u0627\\u0644\\u0645\\u062d\\u0631\\u0642\", \"\\u0627\\u0644\\u0645\\u062d\\u0631\\u0642\", \"\\u0627\\u0644\\u0645\\u062d\\u0631\\u0642\", \"\\u0627\\u0644\\u0645\\u062d\\u0631\\u0642\", \"\\u0627\\u0644\\u0645\\u062e\\u062a\\u0635\\u0647\", \"\\u0627\\u0644\\u0645\\u062e\\u062a\\u0635\\u0647\", \"\\u0627\\u0644\\u0645\\u062e\\u062a\\u0635\\u0647\", \"\\u0627\\u0644\\u0645\\u062f\\u0646\\u064a\", \"\\u0627\\u0644\\u0645\\u062f\\u0646\\u064a\", \"\\u0627\\u0644\\u0645\\u062f\\u0646\\u064a\", \"\\u0627\\u0644\\u0645\\u062f\\u0646\\u064a\", \"\\u0627\\u0644\\u0645\\u0631\\u0643\\u0632\\u064a\", \"\\u0627\\u0644\\u0645\\u0631\\u0648\\u0631\", \"\\u0627\\u0644\\u0645\\u0631\\u0648\\u0631\", \"\\u0627\\u0644\\u0645\\u0631\\u0648\\u0631\\u064a\\u0647\", \"\\u0627\\u0644\\u0645\\u0633\\u0621\\u0648\\u0644\\u064a\\u0646\", \"\\u0627\\u0644\\u0645\\u0634\\u062a\\u0631\\u0643\", \"\\u0627\\u0644\\u0645\\u0634\\u062a\\u0631\\u0643\", \"\\u0627\\u0644\\u0645\\u0636\\u0627\\u0641\\u0647\", \"\\u0627\\u0644\\u0645\\u0641\\u062f\\u064a\", \"\\u0627\\u0644\\u0645\\u0641\\u062f\\u064a\", \"\\u0627\\u0644\\u0645\\u0641\\u062f\\u064a\", \"\\u0627\\u0644\\u0645\\u0644\\u0643\", \"\\u0627\\u0644\\u0645\\u0644\\u0643\", \"\\u0627\\u0644\\u0645\\u0644\\u0643\", \"\\u0627\\u0644\\u0645\\u0644\\u0643\", \"\\u0627\\u0644\\u0645\\u0644\\u0643\\u0647\", \"\\u0627\\u0644\\u0645\\u0644\\u0643\\u0647\", \"\\u0627\\u0644\\u0645\\u0644\\u0643\\u0647\", \"\\u0627\\u0644\\u0645\\u0644\\u0643\\u0647\", \"\\u0627\\u0644\\u0645\\u0644\\u0643\\u0647\", \"\\u0627\\u0644\\u0645\\u0646\\u0627\\u0645\\u0647\", \"\\u0627\\u0644\\u0645\\u0646\\u0627\\u0645\\u0647\", \"\\u0627\\u0644\\u0645\\u0646\\u0627\\u0645\\u0647\", \"\\u0627\\u0644\\u0645\\u0646\\u0627\\u0645\\u0647\", \"\\u0627\\u0644\\u0645\\u0646\\u0627\\u0645\\u0647\", \"\\u0627\\u0644\\u0645\\u0647\\u0645\\u0647\", \"\\u0627\\u0644\\u0645\\u0647\\u0645\\u0647\", \"\\u0627\\u0644\\u0645\\u0648\\u0636\\u0648\\u0639\\u0627\\u062a\", \"\\u0627\\u0644\\u0646\\u0633\\u062e\\u0647\", \"\\u0627\\u0644\\u0646\\u0641\\u0637\", \"\\u0627\\u0644\\u0646\\u0648\\u0627\\u0628\", \"\\u0627\\u0644\\u0646\\u0648\\u0627\\u0628\", \"\\u0627\\u0644\\u0646\\u0648\\u0627\\u0628\", \"\\u0627\\u0644\\u0646\\u0648\\u0627\\u0628\", \"\\u0627\\u0644\\u0647\", \"\\u0627\\u0644\\u0647\", \"\\u0627\\u0644\\u0647\", \"\\u0627\\u0644\\u0647\", \"\\u0627\\u0644\\u0647\", \"\\u0627\\u0644\\u0648\\u0632\\u0631\\u0627\\u0621\", \"\\u0627\\u0644\\u0648\\u0632\\u0631\\u0627\\u0621\", \"\\u0627\\u0644\\u0648\\u0632\\u0631\\u0627\\u0621\", \"\\u0627\\u0644\\u0648\\u0644\\u0627\\u064a\\u0627\\u062a\", \"\\u0627\\u0644\\u064a\", \"\\u0627\\u0644\\u064a\", \"\\u0627\\u0644\\u064a\", \"\\u0627\\u0644\\u064a\", \"\\u0627\\u0644\\u064a\", \"\\u0627\\u0644\\u064a\\u0648\\u0645\", \"\\u0627\\u0644\\u064a\\u0648\\u0645\", \"\\u0627\\u0644\\u064a\\u0648\\u0645\", \"\\u0627\\u0644\\u064a\\u0648\\u0645\", \"\\u0627\\u0644\\u064a\\u0648\\u0645\", \"\\u0627\\u0646\", \"\\u0627\\u0646\", \"\\u0627\\u0646\", \"\\u0627\\u0646\", \"\\u0627\\u0646\", \"\\u0627\\u0646\\u0628\\u0627\\u0621\", \"\\u0627\\u0646\\u0628\\u0627\\u0621\", \"\\u0627\\u0646\\u062a\\u062e\\u0627\\u0628\\u0627\\u062a\", \"\\u0627\\u0646\\u062a\\u062e\\u0627\\u0628\\u0627\\u062a\", \"\\u0627\\u0646\\u062a\\u062e\\u0627\\u0628\\u0627\\u062a\", \"\\u0627\\u0646\\u062c\\u0627\\u0632\", \"\\u0627\\u0646\\u0637\\u0644\\u0627\\u0642\", \"\\u0627\\u0646\\u0647\\u064a\\u0627\\u0631\", \"\\u0627\\u064a\\u0631\\u0627\\u0646\", \"\\u0627\\u064a\\u0631\\u0627\\u0646\", \"\\u0628\\u0627\\u0633\\u0645\", \"\\u0628\\u0627\\u0644\\u0635\\u0648\\u0631\\u0647\", \"\\u0628\\u0627\\u0644\\u0641\\u064a\\u062f\\u064a\\u0648\", \"\\u0628\\u0627\\u0644\\u0641\\u064a\\u062f\\u064a\\u0648\", \"\\u0628\\u0627\\u0644\\u0641\\u064a\\u062f\\u064a\\u0648\", \"\\u0628\\u0627\\u0644\\u0645\\u0644\\u0643\\u0647\", \"\\u0628\\u0631\\u0646\\u0627\\u0645\\u062c\", \"\\u0628\\u0631\\u0646\\u0627\\u0645\\u062c\", \"\\u0628\\u0631\\u0646\\u0627\\u0645\\u062c\", \"\\u0628\\u0642\\u064a\\u0627\\u062f\\u0647\", \"\\u0628\\u0644\\u0627\\u062f\\u0647\", \"\\u0628\\u0644\\u062f\", \"\\u0628\\u0645\\u062f\\u064a\\u0646\\u0647\", \"\\u0628\\u0645\\u0634\\u0627\\u0631\\u0643\\u0647\", \"\\u0628\\u0645\\u0646\\u0637\\u0642\\u0647\", \"\\u0628\\u0646\", \"\\u0628\\u0646\", \"\\u0628\\u0646\", \"\\u0628\\u0646\", \"\\u0628\\u0646\", \"\\u062a\\u0627\\u0628\\u0639\", \"\\u062a\\u0627\\u0628\\u0639\", \"\\u062a\\u0627\\u0628\\u0639\", \"\\u062a\\u0628\\u0627\\u0634\\u0631\", \"\\u062a\\u062c\\u0646\\u0628\", \"\\u062a\\u062c\\u0646\\u0628\\u0627\", \"\\u062a\\u0637\\u0648\\u064a\\u0631\", \"\\u062a\\u0637\\u0648\\u064a\\u0631\", \"\\u062a\\u0639\\u0632\\u064a\\u0632\", \"\\u062a\\u0639\\u0644\\u064a\\u0645\\u0627\\u062a\", \"\\u062a\\u0639\\u064a\\u0646\", \"\\u062a\\u0642\\u0648\\u0645\", \"\\u062a\\u0642\\u064a\\u0645\", \"\\u062a\\u0646\\u0641\\u0630\", \"\\u062a\\u0646\\u0641\\u064a\\u0630\", \"\\u062a\\u0647\\u064a\\u0628\", \"\\u062a\\u0648\\u0642\\u0639\", \"\\u062a\\u0648\\u0642\\u0641\", \"\\u062c\\u0627\\u0628\\u0631\", \"\\u062c\\u0627\\u0645\\u0639\\u0647\", \"\\u062c\\u0627\\u0645\\u0639\\u0647\", \"\\u062c\\u0633\\u0631\", \"\\u062c\\u0644\\u0627\\u0644\\u0647\", \"\\u062c\\u0644\\u0627\\u0644\\u0647\", \"\\u062c\\u0644\\u0627\\u0644\\u0647\", \"\\u062c\\u0644\\u0627\\u0644\\u0647\", \"\\u062c\\u0645\\u0647\\u0648\\u0631\\u064a\\u0647\", \"\\u062d\\u0627\\u062f\\u062b\", \"\\u062d\\u0627\\u0644\\u0627\\u062a\", \"\\u062d\\u0644\\u0648\\u0644\", \"\\u062d\\u0645\\u062f\", \"\\u062d\\u0645\\u062f\", \"\\u062d\\u0645\\u062f\", \"\\u062d\\u0645\\u062f\", \"\\u062d\\u0648\\u0627\\u0631\", \"\\u062d\\u0648\\u0627\\u0631\", \"\\u062e\\u0627\\u0631\\u062c\\u064a\\u0647\", \"\\u062e\\u062a\\u0627\\u0645\", \"\\u062e\\u062f\\u0645\\u062a\\u0643\\u0645\", \"\\u062e\\u062f\\u0645\\u0647\", \"\\u062e\\u0641\\u0631\", \"\\u062e\\u0644\\u0627\\u0644\", \"\\u062e\\u0644\\u0627\\u0644\", \"\\u062e\\u0644\\u0627\\u0644\", \"\\u062e\\u0644\\u0627\\u0644\", \"\\u062e\\u0644\\u0627\\u0644\", \"\\u062e\\u0644\\u064a\\u0641\\u0647\", \"\\u062e\\u0644\\u064a\\u0641\\u0647\", \"\\u062e\\u0644\\u064a\\u0641\\u0647\", \"\\u062e\\u0644\\u064a\\u0641\\u0647\", \"\\u062e\\u0644\\u064a\\u0641\\u0647\", \"\\u062f\\u0641\\u0627\\u0639\", \"\\u062f\\u064a\\u0633\\u0645\\u0628\\u0631\", \"\\u0631\\u0621\\u064a\\u0633\", \"\\u0631\\u0621\\u064a\\u0633\", \"\\u0631\\u0621\\u064a\\u0633\", \"\\u0631\\u0621\\u064a\\u0633\", \"\\u0631\\u0621\\u064a\\u0633\", \"\\u0631\\u0639\\u0627\\u064a\\u0647\", \"\\u0631\\u0648\\u0627\\u062f\", \"\\u0631\\u0648\\u0633\\u064a\\u0627\", \"\\u0633\\u0641\\u0627\\u0631\\u0647\", \"\\u0633\\u0641\\u064a\\u0631\", \"\\u0633\\u0644\\u0645\\u0627\\u0646\", \"\\u0633\\u0644\\u0645\\u0627\\u0646\", \"\\u0633\\u0644\\u0645\\u0627\\u0646\", \"\\u0633\\u0644\\u0645\\u0627\\u0646\", \"\\u0633\\u0644\\u0645\\u0627\\u0646\", \"\\u0633\\u0645\\u0648\", \"\\u0633\\u0645\\u0648\", \"\\u0633\\u0645\\u0648\", \"\\u0633\\u0645\\u0648\", \"\\u0633\\u0648\\u0642\", \"\\u0634\\u0621\\u0648\\u0646\", \"\\u0634\\u0627\\u0631\\u0639\", \"\\u0634\\u0627\\u0647\\u062f\", \"\\u0634\\u062e\\u0635\\u0627\", \"\\u0634\\u0631\\u0637\\u0647\", \"\\u0634\\u0631\\u0637\\u0647\", \"\\u0634\\u0631\\u0642\", \"\\u0635\\u0627\\u062d\\u0628\", \"\\u0639\\u0627\\u062c\\u0644\", \"\\u0639\\u0627\\u062c\\u0644\", \"\\u0639\\u0627\\u062c\\u0644\", \"\\u0639\\u0627\\u062c\\u0644\", \"\\u0639\\u0627\\u0647\\u0644\", \"\\u0639\\u0628\\u062f\\u0627\\u0644\\u0647\", \"\\u0639\\u0628\\u062f\\u0627\\u0644\\u0647\", \"\\u0639\\u0628\\u062f\\u0627\\u0644\\u0647\", \"\\u0639\\u0628\\u062f\\u0627\\u0644\\u0647\", \"\\u0639\\u0636\\u0648\\u0627\", \"\\u0639\\u0642\\u062f\", \"\\u0639\\u0644\\u064a\", \"\\u0639\\u0644\\u064a\", \"\\u0639\\u0644\\u064a\", \"\\u0639\\u0644\\u064a\", \"\\u0639\\u0644\\u064a\", \"\\u0639\\u0646\", \"\\u0639\\u0646\", \"\\u0639\\u0646\", \"\\u0639\\u0646\", \"\\u0639\\u0646\", \"\\u0639\\u064a\\u0633\\u064a\", \"\\u0639\\u064a\\u0633\\u064a\", \"\\u0639\\u064a\\u0633\\u064a\", \"\\u0639\\u064a\\u0633\\u064a\", \"\\u0641\\u0631\\u0646\\u0633\\u0627\", \"\\u0641\\u0631\\u064a\\u0642\", \"\\u0641\\u0639\\u0627\\u0644\\u064a\\u0627\\u062a\", \"\\u0641\\u0639\\u0627\\u0644\\u064a\\u0627\\u062a\", \"\\u0641\\u0648\\u0632\\u0647\", \"\\u0641\\u064a\", \"\\u0641\\u064a\", \"\\u0641\\u064a\", \"\\u0641\\u064a\", \"\\u0641\\u064a\", \"\\u0642\\u0627\\u0645\\u062a\", \"\\u0642\\u0636\\u064a\\u0647\", \"\\u0642\\u0637\\u0631\", \"\\u0642\\u0637\\u0631\", \"\\u0642\\u0648\\u0647\", \"\\u0643\\u0641\\u0627\\u0621\\u0647\", \"\\u0644\", \"\\u0644\", \"\\u0644\", \"\\u0644\\u0627\", \"\\u0644\\u0627\", \"\\u0644\\u0627\", \"\\u0644\\u0627\", \"\\u0644\\u0627\", \"\\u0644\\u0627\\u0639\\u0628\", \"\\u0644\\u0627\\u0646\\u062a\\u062e\\u0627\\u0628\\u0627\\u062a\", \"\\u0644\\u0627\\u0646\\u062a\\u062e\\u0627\\u0628\\u0627\\u062a\", \"\\u0644\\u0627\\u0646\\u062a\\u062e\\u0627\\u0628\\u0627\\u062a\", \"\\u0644\\u062a\\u0648\\u062c\\u064a\\u0647\\u0627\\u062a\", \"\\u0644\\u062c\\u0627\\u0621\\u0632\\u0647\", \"\\u0644\\u062d\\u0642\\u0648\\u0642\", \"\\u0644\\u062d\\u064a\\u0646\", \"\\u0644\\u062f\\u0648\\u0644\", \"\\u0644\\u062f\\u064a\", \"\\u0644\\u062f\\u064a\", \"\\u0644\\u062f\\u064a\", \"\\u0644\\u0643\\u0631\\u0647\", \"\\u0644\\u0645\\u062a\\u0627\\u0628\\u0639\\u0647\", \"\\u0644\\u0645\\u0632\\u064a\\u062f\", \"\\u0644\\u0645\\u0632\\u064a\\u062f\", \"\\u0644\\u0648\\u062d\\u0627\\u062a\", \"\\u0644\\u0648\\u0632\\u0627\\u0631\\u0647\", \"\\u0645\\u0621\\u062a\\u0645\\u0631\", \"\\u0645\\u0621\\u0633\\u0647\", \"\\u0645\\u0627\", \"\\u0645\\u0627\", \"\\u0645\\u0627\", \"\\u0645\\u0627\", \"\\u0645\\u0627\", \"\\u0645\\u0628\\u0646\\u064a\", \"\\u0645\\u062c\\u0644\\u0633\", \"\\u0645\\u062c\\u0644\\u0633\", \"\\u0645\\u062c\\u0644\\u0633\", \"\\u0645\\u062c\\u0644\\u0633\", \"\\u0645\\u062c\\u0645\\u0648\\u0639\\u0647\", \"\\u0645\\u062d\\u0627\\u0636\\u0631\\u0647\", \"\\u0645\\u062d\\u0627\\u0641\\u0638\", \"\\u0645\\u062d\\u0645\\u062f\", \"\\u0645\\u062d\\u0645\\u062f\", \"\\u0645\\u062d\\u0645\\u062f\", \"\\u0645\\u062d\\u0645\\u062f\", \"\\u0645\\u062d\\u0645\\u062f\", \"\\u0645\\u062f\\u064a\\u0631\\u064a\\u0647\", \"\\u0645\\u0631\\u0627\\u062f\", \"\\u0645\\u0631\\u0648\\u0631\\u064a\", \"\\u0645\\u0631\\u064a\\u0645\", \"\\u0645\\u0633\\u0627\\u0631\", \"\\u0645\\u0633\\u0627\\u0639\\u062f\", \"\\u0645\\u0637\\u0627\\u0644\\u0639\\u0627\\u062a\", \"\\u0645\\u0639\", \"\\u0645\\u0639\", \"\\u0645\\u0639\", \"\\u0645\\u0639\", \"\\u0645\\u0639\", \"\\u0645\\u0639\\u0627\\u0644\\u064a\", \"\\u0645\\u0639\\u0627\\u0644\\u064a\", \"\\u0645\\u0639\\u0627\\u0644\\u064a\", \"\\u0645\\u0642\\u062a\\u0644\", \"\\u0645\\u0642\\u062a\\u0644\", \"\\u0645\\u0643\\u0627\\u0641\\u062d\\u0647\", \"\\u0645\\u0644\\u0643\\u0647\", \"\\u0645\\u0644\\u0643\\u0647\", \"\\u0645\\u0644\\u0643\\u0647\", \"\\u0645\\u0644\\u0643\\u0647\", \"\\u0645\\u0644\\u0643\\u0647\", \"\\u0645\\u0646\", \"\\u0645\\u0646\", \"\\u0645\\u0646\", \"\\u0645\\u0646\", \"\\u0645\\u0646\", \"\\u0645\\u0646\\u0627\\u0637\\u0642\", \"\\u0645\\u0646\\u0637\\u0642\\u0647\", \"\\u0645\\u0646\\u0638\\u0645\\u0647\", \"\\u0645\\u0648\\u0627\\u0641\\u0642\\u0647\", \"\\u0645\\u064a\\u0631\\u0632\\u0627\", \"\\u0646\\u062a\\u064a\\u062c\\u0647\", \"\\u0646\\u0638\\u0627\\u0645\", \"\\u0646\\u0638\\u0631\\u0627\", \"\\u0646\\u064a\\u0648\\u064a\\u0648\\u0631\\u0643\", \"\\u0647\\u0630\\u0647\", \"\\u0647\\u0630\\u0647\", \"\\u0647\\u0630\\u0647\", \"\\u0647\\u0630\\u0647\", \"\\u0647\\u0630\\u0647\", \"\\u0647\\u0644\", \"\\u0647\\u0644\", \"\\u0648\", \"\\u0648\", \"\\u0648\", \"\\u0648\", \"\\u0648\", \"\\u0648\\u0627\\u062a\\u0633\\u0627\\u0628\", \"\\u0648\\u0627\\u062a\\u0633\\u0627\\u0628\", \"\\u0648\\u0627\\u0644\\u0627\\u062a\\u0635\\u0627\\u0644\\u0627\\u062a\", \"\\u0648\\u0627\\u0644\\u062c\\u0648\\u0627\\u0632\\u0627\\u062a\", \"\\u0648\\u0627\\u0644\\u0633\\u064a\\u0627\\u062d\\u0647\", \"\\u0648\\u0627\\u0644\\u0645\\u0627\\u0621\", \"\\u0648\\u0631\\u0634\\u0647\", \"\\u0648\\u0632\\u0627\\u0631\\u0647\", \"\\u0648\\u0632\\u0627\\u0631\\u0647\", \"\\u0648\\u0632\\u0627\\u0631\\u0647\", \"\\u0648\\u0632\\u064a\\u0631\", \"\\u0648\\u0632\\u064a\\u0631\", \"\\u0648\\u0632\\u064a\\u0631\", \"\\u0648\\u0635\\u0646\\u0627\\u0639\\u0647\", \"\\u0648\\u0641\\u062f\", \"\\u0648\\u0643\\u0627\\u0644\\u0647\", \"\\u0648\\u0643\\u0627\\u0644\\u0647\", \"\\u0648\\u0643\\u064a\\u0644\", \"\\u0648\\u0643\\u064a\\u0644\", \"\\u0648\\u0644\\u064a\", \"\\u0648\\u0644\\u064a\", \"\\u0648\\u0644\\u064a\", \"\\u0648\\u0644\\u064a\", \"\\u064a\\u062a\\u0631\\u0634\\u062d\", \"\\u064a\\u062a\\u0631\\u0634\\u062d\", \"\\u064a\\u062a\\u0631\\u0634\\u062d\", \"\\u064a\\u062a\\u0644\\u0642\\u064a\", \"\\u064a\\u062e\\u062a\\u0645\", \"\\u064a\\u0631\\u062c\\u064a\", \"\\u064a\\u0631\\u062c\\u064a\", \"\\u064a\\u0631\\u062c\\u064a\", \"\\u064a\\u0631\\u062c\\u064a\", \"\\u064a\\u0633\\u062a\\u0639\\u0631\\u0636\", \"\\u064a\\u0633\\u062a\\u0642\\u0628\\u0644\", \"\\u064a\\u0633\\u062a\\u0642\\u0628\\u0644\", \"\\u064a\\u0633\\u062a\\u0642\\u0628\\u0644\", \"\\u064a\\u0634\\u0627\\u0631\\u0643\", \"\\u064a\\u0634\\u0647\\u062f\", \"\\u064a\\u0634\\u0647\\u062f\", \"\\u064a\\u0639\\u0631\\u0628\", \"\\u064a\\u0641\\u0648\\u0632\", \"\\u064a\\u0642\\u062f\\u0645\", \"\\u064a\\u0642\\u0648\\u062f\", \"\\u064a\\u0643\\u0634\\u0641\", \"\\u064a\\u0644\\u062a\\u0642\\u064a\", \"\\u064a\\u0648\\u0627\\u0635\\u0644\", \"\\u064a\\u0648\\u0646\\u064a\\u0648\", \"\\u064a\\u0648\\u0646\\u064a\\u0648\", \"\\u0662\\u0660\\u0661\\u0668\", \"\\u0662\\u0660\\u0661\\u0668\", \"\\u0662\\u0660\\u0661\\u0668\", \"\\u2019\", \"\\u2022\", \"\\u2022\", \"\\u2022\"]}, \"R\": 30, \"lambda.step\": 0.01, \"plot.opts\": {\"xlab\": \"PC1\", \"ylab\": \"PC2\"}, \"topic.order\": [3, 1, 2, 4, 5]};\n",
       "\n",
       "function LDAvis_load_lib(url, callback){\n",
       "  var s = document.createElement('script');\n",
       "  s.src = url;\n",
       "  s.async = true;\n",
       "  s.onreadystatechange = s.onload = callback;\n",
       "  s.onerror = function(){console.warn(\"failed to load library \" + url);};\n",
       "  document.getElementsByTagName(\"head\")[0].appendChild(s);\n",
       "}\n",
       "\n",
       "if(typeof(LDAvis) !== \"undefined\"){\n",
       "   // already loaded: just create the visualization\n",
       "   !function(LDAvis){\n",
       "       new LDAvis(\"#\" + \"ldavis_el718021288870580083942570778\", ldavis_el718021288870580083942570778_data);\n",
       "   }(LDAvis);\n",
       "}else if(typeof define === \"function\" && define.amd){\n",
       "   // require.js is available: use it to load d3/LDAvis\n",
       "   require.config({paths: {d3: \"https://cdnjs.cloudflare.com/ajax/libs/d3/3.5.5/d3.min\"}});\n",
       "   require([\"d3\"], function(d3){\n",
       "      window.d3 = d3;\n",
       "      LDAvis_load_lib(\"https://cdn.rawgit.com/bmabey/pyLDAvis/files/ldavis.v1.0.0.js\", function(){\n",
       "        new LDAvis(\"#\" + \"ldavis_el718021288870580083942570778\", ldavis_el718021288870580083942570778_data);\n",
       "      });\n",
       "    });\n",
       "}else{\n",
       "    // require.js not available: dynamically load d3 & LDAvis\n",
       "    LDAvis_load_lib(\"https://cdnjs.cloudflare.com/ajax/libs/d3/3.5.5/d3.min.js\", function(){\n",
       "         LDAvis_load_lib(\"https://cdn.rawgit.com/bmabey/pyLDAvis/files/ldavis.v1.0.0.js\", function(){\n",
       "                 new LDAvis(\"#\" + \"ldavis_el718021288870580083942570778\", ldavis_el718021288870580083942570778_data);\n",
       "            })\n",
       "         });\n",
       "}\n",
       "</script>"
      ],
      "text/plain": [
       "PreparedData(topic_coordinates=            Freq  cluster  topics           x           y\n",
       "topic                                                    \n",
       "2      30.037889        1       1 -125.617325  129.341049\n",
       "0      29.440340        1       2   86.404785  115.015381\n",
       "1      18.984097        1       3 -114.326126  -75.769325\n",
       "3      10.880450        1       4  162.720520  -75.056007\n",
       "4      10.657227        1       5   19.242575 -231.820358, topic_info=     Category        Freq      Term       Total  loglift  logprob\n",
       "term                                                             \n",
       "6025  Default  264.000000     اخبار  264.000000  30.0000  30.0000\n",
       "3384  Default  167.000000    الايام  167.000000  29.0000  29.0000\n",
       "5383  Default   60.000000         •   60.000000  28.0000  28.0000\n",
       "1093  Default  102.000000      وزير  102.000000  27.0000  27.0000\n",
       "1139  Default   56.000000        بن   56.000000  26.0000  26.0000\n",
       "1678  Default   28.000000   الوزراء   28.000000  25.0000  25.0000\n",
       "10    Default   37.000000  انتخابات   37.000000  24.0000  24.0000\n",
       "3129  Default   57.000000  الخارجيه   57.000000  23.0000  23.0000\n",
       "4119  Default   24.000000    خارجيه   24.000000  22.0000  22.0000\n",
       "1637  Default   41.000000     الملك   41.000000  21.0000  21.0000\n",
       "120   Default  228.000000        من  228.000000  20.0000  20.0000\n",
       "644   Default   27.000000      ٢٠١٨   27.000000  19.0000  19.0000\n",
       "57    Default   86.000000        مع   86.000000  18.0000  18.0000\n",
       "4836  Default   48.000000     انباء   48.000000  17.0000  17.0000\n",
       "5619  Default   13.000000      شارع   13.000000  16.0000  16.0000\n",
       "6634  Default   23.000000    الدفاع   23.000000  15.0000  15.0000\n",
       "4837  Default   53.000000     وكاله   53.000000  14.0000  14.0000\n",
       "2516  Default   27.000000   التعاون   27.000000  13.0000  13.0000\n",
       "1243  Default   47.000000     معالي   47.000000  12.0000  12.0000\n",
       "114   Default   60.000000        عن   60.000000  11.0000  11.0000\n",
       "77    Default   22.000000    النواب   22.000000  10.0000  10.0000\n",
       "2796  Default   30.000000   العربيه   30.000000   9.0000   9.0000\n",
       "1143  Default   16.000000     خليفه   16.000000   8.0000   8.0000\n",
       "1149  Default   54.000000      ملكه   54.000000   7.0000   7.0000\n",
       "2183  Default   25.000000     الامن   25.000000   6.0000   6.0000\n",
       "272   Default   67.000000      رءيس   67.000000   5.0000   5.0000\n",
       "3445  Default   19.000000      حادث   19.000000   4.0000   4.0000\n",
       "2158  Default   33.000000  الداخليه   33.000000   3.0000   3.0000\n",
       "84    Default   44.000000      مجلس   44.000000   2.0000   2.0000\n",
       "1     Default  283.000000   البحرين  283.000000   1.0000   1.0000\n",
       "...       ...         ...       ...         ...      ...      ...\n",
       "5442   Topic5    0.886920    وصناعه    1.001918   2.1170  -7.5031\n",
       "1047   Topic5    1.490710    ارتفاع    1.861274   2.0169  -6.9838\n",
       "1098   Topic5    3.938926   التواصل    6.219802   1.7821  -6.0121\n",
       "7877   Topic5    1.440485      توقع    1.819612   2.0053  -7.0181\n",
       "6025   Topic5   68.386810     اخبار  264.521790   0.8862  -3.1579\n",
       "2106   Topic5    1.886716      خدمه    2.635264   1.9048  -6.7482\n",
       "2856   Topic5    7.997108       ولي   18.508114   1.3998  -5.3040\n",
       "955    Topic5    2.369804     اعمال    3.603482   1.8198  -6.5202\n",
       "1549   Topic5    7.337482     العهد   18.482836   1.3151  -5.3901\n",
       "410    Topic5    6.045887        ما   16.065224   1.2617  -5.5837\n",
       "5564   Topic5    3.935367         ل    8.530799   1.4653  -6.0130\n",
       "57     Topic5   16.707537        مع   86.388504   0.5959  -4.5672\n",
       "120    Topic5   28.778419        من  228.832916   0.1656  -4.0234\n",
       "467    Topic5    3.659401       هذه    8.682704   1.3749  -6.0858\n",
       "34     Topic5   20.230320       علي  178.836945   0.0596  -4.3759\n",
       "23     Topic5   23.894533        في  434.461060  -0.6615  -4.2094\n",
       "1135   Topic5    3.965426       اله   13.364382   1.0240  -6.0054\n",
       "296    Topic5    3.981936       لدي   14.492371   0.9471  -6.0013\n",
       "1145   Topic5    5.060847       سمو   29.981773   0.4599  -5.7615\n",
       "1      Topic5   11.300495   البحرين  283.496674  -0.9834  -4.9582\n",
       "220    Topic5    4.793819        ان   30.137407   0.4005  -5.8157\n",
       "6855   Topic5    3.027498  بالفيديو    9.377861   1.1083  -6.2753\n",
       "2809   Topic5    3.000012    العالم    9.180987   1.1204  -6.2844\n",
       "114    Topic5    4.959197        عن   60.322533  -0.2595  -5.7818\n",
       "845    Topic5    4.082817     العام   35.941704   0.0638  -5.9763\n",
       "348    Topic5    3.553199         و   20.333176   0.4945  -6.1152\n",
       "111    Topic5    4.469000       الي   56.682640  -0.3014  -5.8859\n",
       "308    Topic5    3.590052       حمد   23.059319   0.3790  -6.1049\n",
       "191    Topic5    3.293943        لا   16.095781   0.6525  -6.1910\n",
       "2      Topic5    3.360610      التي   20.351933   0.4379  -6.1709\n",
       "\n",
       "[366 rows x 6 columns], token_table=       Topic      Freq       Term\n",
       "term                             \n",
       "425        1  0.820272        اثر\n",
       "425        4  0.082027        اثر\n",
       "4805       5  1.167330      اثنين\n",
       "11986      1  0.943146     اجتماع\n",
       "6025       2  0.018902      اخبار\n",
       "6025       3  0.706936      اخبار\n",
       "6025       4  0.015122      اخبار\n",
       "6025       5  0.257068      اخبار\n",
       "1047       5  0.537266     ارتفاع\n",
       "5537       3  1.046541      ارسال\n",
       "6356       3  0.864162    استدامه\n",
       "3408       3  0.788410    استقطاب\n",
       "5254       1  0.937643      اطلاق\n",
       "1231       5  0.816513     اعتماد\n",
       "955        4  0.277509      اعمال\n",
       "955        5  0.555019      اعمال\n",
       "6716       3  0.866022      افراد\n",
       "144        2  0.235325     اكتوبر\n",
       "144        3  0.549091     اكتوبر\n",
       "144        4  0.156883     اكتوبر\n",
       "1130       1  0.267079         ال\n",
       "1130       2  0.089026         ال\n",
       "1130       3  0.089026         ال\n",
       "1130       4  0.534158         ال\n",
       "1130       5  0.089026         ال\n",
       "8139       1  0.938087    الاتحاد\n",
       "8139       4  0.117261    الاتحاد\n",
       "3525       1  0.785296  الاتحاديه\n",
       "1232       2  0.073147    الاخبار\n",
       "1232       3  0.877765    الاخبار\n",
       "...      ...       ...        ...\n",
       "6579       4  0.188564      يترشح\n",
       "4276       2  1.014027      يتلقي\n",
       "4069       3  0.990031       يختم\n",
       "27         1  0.072751       يرجي\n",
       "27         2  0.727506       يرجي\n",
       "27         4  0.072751       يرجي\n",
       "27         5  0.072751       يرجي\n",
       "3407       4  1.040317     يستعرض\n",
       "2752       1  0.799460     يستقبل\n",
       "2752       4  0.127914     يستقبل\n",
       "2752       5  0.063957     يستقبل\n",
       "2543       2  0.973027      يشارك\n",
       "3604       2  0.324925       يشهد\n",
       "3604       4  0.649850       يشهد\n",
       "5816       4  0.845377       يعرب\n",
       "3792       5  0.739230       يفوز\n",
       "1366       5  0.940515       يقدم\n",
       "25641      5  0.958713       يقود\n",
       "4302       4  0.763359       يكشف\n",
       "2852       2  0.893660      يلتقي\n",
       "2519       2  0.867943      يواصل\n",
       "13943      2  0.138550      يونيو\n",
       "13943      3  0.831303      يونيو\n",
       "644        2  0.144303       ٢٠١٨\n",
       "644        3  0.829742       ٢٠١٨\n",
       "644        4  0.036076       ٢٠١٨\n",
       "5335       1  0.962833          ’\n",
       "5383       2  0.098697          •\n",
       "5383       3  0.888274          •\n",
       "5383       4  0.016450          •\n",
       "\n",
       "[541 rows x 3 columns], R=30, lambda_step=0.01, plot_opts={'xlab': 'PC1', 'ylab': 'PC2'}, topic_order=[3, 1, 2, 4, 5])"
      ]
     },
     "execution_count": 25,
     "metadata": {},
     "output_type": "execute_result"
    }
   ],
   "source": [
    "import pyLDAvis.gensim\n",
    "\n",
    "pyLDAvis.enable_notebook()\n",
    "panel = pyLDAvis.gensim.prepare(lda, corpus_lda, dictionary, mds='tsne')\n",
    "panel"
   ]
  },
  {
   "cell_type": "code",
   "execution_count": 28,
   "metadata": {},
   "outputs": [
    {
     "name": "stderr",
     "output_type": "stream",
     "text": [
      "2018-11-03 14:41:07,051 : INFO : topic #0 (0.200): 0.046*\"في\" + 0.030*\"البحرين\" + 0.019*\"من\" + 0.011*\"علي\" + 0.011*\"مع\" + 0.010*\"ملكه\" + 0.006*\"العربيه\" + 0.006*\"السعوديه\" + 0.006*\"التعاون\" + 0.006*\"وكاله\"\n",
      "2018-11-03 14:41:07,054 : INFO : topic #1 (0.200): 0.065*\"اخبار\" + 0.024*\"البحرين\" + 0.019*\"في\" + 0.019*\"•\" + 0.011*\"انتخابات\" + 0.010*\"من\" + 0.009*\"علي\" + 0.008*\"مجلس\" + 0.008*\"خارجيه\" + 0.008*\"٢٠١٨\"\n",
      "2018-11-03 14:41:07,057 : INFO : topic #2 (0.200): 0.027*\"في\" + 0.019*\"وزير\" + 0.015*\"علي\" + 0.013*\"من\" + 0.013*\"البحرين\" + 0.011*\"الخارجيه\" + 0.008*\"معالي\" + 0.008*\"رءيس\" + 0.008*\"انباء\" + 0.007*\"الداخليه\"\n",
      "2018-11-03 14:41:07,060 : INFO : topic #3 (0.200): 0.017*\"في\" + 0.016*\"بن\" + 0.016*\"من\" + 0.011*\"الوزراء\" + 0.010*\"عن\" + 0.009*\"علي\" + 0.009*\"الملك\" + 0.008*\"شارع\" + 0.008*\"رءيس\" + 0.007*\"خليفه\"\n",
      "2018-11-03 14:41:07,062 : INFO : topic #4 (0.200): 0.078*\"الايام\" + 0.043*\"اخبار\" + 0.018*\"من\" + 0.015*\"في\" + 0.013*\"علي\" + 0.010*\"مع\" + 0.007*\"البحرين\" + 0.005*\"الدولي\" + 0.005*\"ولي\" + 0.005*\"العهد\"\n"
     ]
    },
    {
     "data": {
      "text/plain": [
       "[(0,\n",
       "  '0.046*\"في\" + 0.030*\"البحرين\" + 0.019*\"من\" + 0.011*\"علي\" + 0.011*\"مع\" + 0.010*\"ملكه\" + 0.006*\"العربيه\" + 0.006*\"السعوديه\" + 0.006*\"التعاون\" + 0.006*\"وكاله\"'),\n",
       " (1,\n",
       "  '0.065*\"اخبار\" + 0.024*\"البحرين\" + 0.019*\"في\" + 0.019*\"•\" + 0.011*\"انتخابات\" + 0.010*\"من\" + 0.009*\"علي\" + 0.008*\"مجلس\" + 0.008*\"خارجيه\" + 0.008*\"٢٠١٨\"'),\n",
       " (2,\n",
       "  '0.027*\"في\" + 0.019*\"وزير\" + 0.015*\"علي\" + 0.013*\"من\" + 0.013*\"البحرين\" + 0.011*\"الخارجيه\" + 0.008*\"معالي\" + 0.008*\"رءيس\" + 0.008*\"انباء\" + 0.007*\"الداخليه\"'),\n",
       " (3,\n",
       "  '0.017*\"في\" + 0.016*\"بن\" + 0.016*\"من\" + 0.011*\"الوزراء\" + 0.010*\"عن\" + 0.009*\"علي\" + 0.009*\"الملك\" + 0.008*\"شارع\" + 0.008*\"رءيس\" + 0.007*\"خليفه\"'),\n",
       " (4,\n",
       "  '0.078*\"الايام\" + 0.043*\"اخبار\" + 0.018*\"من\" + 0.015*\"في\" + 0.013*\"علي\" + 0.010*\"مع\" + 0.007*\"البحرين\" + 0.005*\"الدولي\" + 0.005*\"ولي\" + 0.005*\"العهد\"')]"
      ]
     },
     "execution_count": 28,
     "metadata": {},
     "output_type": "execute_result"
    }
   ],
   "source": [
    "lda.print_topics(num_topics=7)"
   ]
  },
  {
   "cell_type": "code",
   "execution_count": null,
   "metadata": {
    "collapsed": true
   },
   "outputs": [],
   "source": [
    "#datafile = 'Bahrain_tweets_cleaned.csv'\n",
    "datafile = 'Bahrain_tweets_cleaned_Arabic.csv'"
   ]
  }
 ],
 "metadata": {
  "anaconda-cloud": {},
  "kernelspec": {
   "display_name": "Python 3",
   "language": "python",
   "name": "python3"
  },
  "language_info": {
   "codemirror_mode": {
    "name": "ipython",
    "version": 3
   },
   "file_extension": ".py",
   "mimetype": "text/x-python",
   "name": "python",
   "nbconvert_exporter": "python",
   "pygments_lexer": "ipython3",
   "version": "3.6.3"
  }
 },
 "nbformat": 4,
 "nbformat_minor": 1
}
